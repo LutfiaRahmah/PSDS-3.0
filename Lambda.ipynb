{
  "nbformat": 4,
  "nbformat_minor": 0,
  "metadata": {
    "colab": {
      "name": "Lambda.ipynb",
      "provenance": [],
      "collapsed_sections": []
    },
    "kernelspec": {
      "name": "python3",
      "display_name": "Python 3"
    },
    "language_info": {
      "name": "python"
    }
  },
  "cells": [
    {
      "cell_type": "markdown",
      "metadata": {
        "id": "w8To21j10Dba"
      },
      "source": [
        "#**Pembuka**"
      ]
    },
    {
      "cell_type": "markdown",
      "metadata": {
        "id": "L5XkiX030Klv"
      },
      "source": [
        "Assalamu'alaikum warahmatullahi wabarakatuh. Puji syukur kehadirat Allah Subhana Wata'ala atas limpahan Rahmat dan HidayahNya kepada kita semua. Sholawat serta salam senantiasa tercurah limpahkan kepada baginda Muhammad Rasulullah Salallahualaihiwassalam.\n",
        "\n",
        "Halo para **Pejuang Data**. Selamat berjumpa di pertemuan pertama Program Training **Algoritma Machine Learning Kelas Mahir**.\n",
        "\n",
        "Pada pertemuan ini kamu akan belajar:\n",
        "\n",
        "*   Lambda Pada Python\n",
        "*   Menggunakan Lambda Expression\n",
        "*   Anonymous Function\n",
        "*   Eksekusi Lambda Secara Langsung\n",
        "*   Mengapa Harus Pakai Lambda?\n",
        "*   Contoh Pemakaian Fungsi Lambda\n",
        "*   Latihan"
      ]
    },
    {
      "cell_type": "markdown",
      "metadata": {
        "id": "T0fo9EOq1FDy"
      },
      "source": [
        "#**Lambda**"
      ]
    },
    {
      "cell_type": "markdown",
      "metadata": {
        "id": "QqEebOBJ1Io6"
      },
      "source": [
        "Fungsi lambda adalah fungsi anonim one line yang didefinisikan tanpa nama. Fungsi lambda dapat mengambil sejumlah arguments , tetapi hanya dapat memiliki satu expression . Sementara fungsi normal didefinisikan menggunakan kata kunci def, dalam Python fungsi anonim didefinisikan menggunakan kata kunci lambda.\n",
        "\n",
        "\n",
        "Fungsi Lambda digunakan ketika fungsi sederhana hanya digunakan sekali atau untuk waktu yang singkat dalam kode kita.Penggunaannya yang paling umum adalah sebagai argumen untuk fungsi tingkat tinggi (fungsi yang menggunakan fungsi lain sebagai argumen).\n",
        "\n",
        "\n",
        "Misalkan kita punya fungsi penjumlahan kuadrat seperti ini:"
      ]
    },
    {
      "cell_type": "code",
      "metadata": {
        "id": "tqmtAKM1KnLP"
      },
      "source": [
        "def penjumlahan_kuadrat(x, y):\n",
        "  return x**2+y**2"
      ],
      "execution_count": null,
      "outputs": []
    },
    {
      "cell_type": "markdown",
      "metadata": {
        "id": "UopwRB8616Qt"
      },
      "source": [
        "dengan lambda.. kita tidak perlu menggunakan def dan return , bahkan kita juga tidak perlu menuliskan namanya."
      ]
    },
    {
      "cell_type": "code",
      "metadata": {
        "colab": {
          "base_uri": "https://localhost:8080/"
        },
        "id": "MEBANsyf2BoJ",
        "outputId": "db76f23e-c786-49cd-f9aa-60f8d9dcad68"
      },
      "source": [
        "lambda x, y : x**2+y**2"
      ],
      "execution_count": null,
      "outputs": [
        {
          "output_type": "execute_result",
          "data": {
            "text/plain": [
              "<function __main__.<lambda>>"
            ]
          },
          "metadata": {},
          "execution_count": 2
        }
      ]
    },
    {
      "cell_type": "markdown",
      "metadata": {
        "id": "n2dgxesV2NG0"
      },
      "source": [
        "#**Menggunakan Lambda Expression**"
      ]
    },
    {
      "cell_type": "markdown",
      "metadata": {
        "id": "M6YClRPK2XdM"
      },
      "source": [
        "Lambda digunakan untuk membuat fungsi dalam satu baris ekspresi. Ini adalah format untuk membuat fungsi lambda:\n",
        " ![Screenshot_6.jpg](data:image/jpeg;base64,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)\n",
        "\n",
        "Lambda bisa memiliki lebih dari satu argumen atau parameter, tapi hanya bisa memiliki satu ekspresi atau isi."
      ]
    },
    {
      "cell_type": "code",
      "metadata": {
        "id": "6JELjSqZ3Afk"
      },
      "source": [
        "greeting = lambda name : print(f\"Hello, {name}\")"
      ],
      "execution_count": null,
      "outputs": []
    },
    {
      "cell_type": "markdown",
      "metadata": {
        "id": "DUOaaRzr3Lwm"
      },
      "source": [
        "Karena fungsi lambda tidak punya nama, jadi kita butuh variabel untuk menyimpannya.\n",
        "\n",
        "Nanti saat kita mau panggil, kita tinggal tuliskan saja nama variabelnya seperti ini:"
      ]
    },
    {
      "cell_type": "code",
      "metadata": {
        "colab": {
          "base_uri": "https://localhost:8080/"
        },
        "id": "_cJWI6z13Wdy",
        "outputId": "112ff967-68bc-4811-eb95-f74fb3668323"
      },
      "source": [
        "greeting(\"Dian\")\n",
        "greeting(\"Ayu\")"
      ],
      "execution_count": null,
      "outputs": [
        {
          "output_type": "stream",
          "name": "stdout",
          "text": [
            "Hello, Dian\n",
            "Hello, Ayu\n"
          ]
        }
      ]
    },
    {
      "cell_type": "markdown",
      "metadata": {
        "id": "aZA6P3GN3foI"
      },
      "source": [
        "Beberapa contoh penggunaan fungsi lambda"
      ]
    },
    {
      "cell_type": "code",
      "metadata": {
        "colab": {
          "base_uri": "https://localhost:8080/"
        },
        "id": "dFxLh7yp3jct",
        "outputId": "7a9c0b75-0c7b-4c4d-da7c-65d4f8fe9eb1"
      },
      "source": [
        "#Fungsi lambda untuk menambahkan angka 10 kepada argument input\n",
        "f = lambda x: x+10\n",
        "val1 = f(5)\n",
        "val2 = f(100)\n",
        "print(val1, val2)"
      ],
      "execution_count": null,
      "outputs": [
        {
          "output_type": "stream",
          "name": "stdout",
          "text": [
            "15 110\n"
          ]
        }
      ]
    },
    {
      "cell_type": "code",
      "metadata": {
        "colab": {
          "base_uri": "https://localhost:8080/"
        },
        "id": "wFT0K9f63_Mr",
        "outputId": "c452ee90-6adb-4f0c-d9e0-8582ca9ce244"
      },
      "source": [
        "#Fungsi lambda untuk mengalikan dua argumen input dan menampilkan hasilnya\n",
        "f = lambda x, y: x*y\n",
        "val3 = f(2, 10)\n",
        "val4 = f(7, 5)\n",
        "print(val3, val4)"
      ],
      "execution_count": null,
      "outputs": [
        {
          "output_type": "stream",
          "name": "stdout",
          "text": [
            "20 35\n"
          ]
        }
      ]
    },
    {
      "cell_type": "markdown",
      "metadata": {
        "id": "zJDIuT5K4fHU"
      },
      "source": [
        "#**Anonymous Function**"
      ]
    },
    {
      "cell_type": "markdown",
      "metadata": {
        "id": "rW-C0_794idn"
      },
      "source": [
        "Karena lambda adalah anonymous function, ia akan bebas menggunakan nama apa saja. Dengan kata lain, fungsi lambda bisa disimpan di variabel mana pun. Ini tentunya tidak bisa dilakukan oleh fungsi yang dibuat dengan def. Coba perhatikan ini:"
      ]
    },
    {
      "cell_type": "code",
      "metadata": {
        "colab": {
          "base_uri": "https://localhost:8080/",
          "height": 130
        },
        "id": "6JFpUUaY4r19",
        "outputId": "74aec905-c091-46f4-ca87-6a311b6bd576"
      },
      "source": [
        "def say_hello(nama):\n",
        "  print(f\"Hello{nama}\", apa kabar?)\n",
        "\n",
        "ucapin = say_hello(nama)"
      ],
      "execution_count": null,
      "outputs": [
        {
          "output_type": "error",
          "ename": "SyntaxError",
          "evalue": "ignored",
          "traceback": [
            "\u001b[0;36m  File \u001b[0;32m\"<ipython-input-7-9e746c1f5722>\"\u001b[0;36m, line \u001b[0;32m2\u001b[0m\n\u001b[0;31m    print(f\"Hello{nama}\", apa kabar?)\u001b[0m\n\u001b[0m                                  ^\u001b[0m\n\u001b[0;31mSyntaxError\u001b[0m\u001b[0;31m:\u001b[0m invalid syntax\n"
          ]
        }
      ]
    },
    {
      "cell_type": "markdown",
      "metadata": {
        "id": "JWXulELP90mN"
      },
      "source": [
        "Kita mencoba membuat fungsi say_hello()dengan def, kemudian menyimpannya ke dalam variabel ucapin.\n",
        "\n",
        "Tapi malah error!\n",
        "\n",
        "Ini karena fungsi tersebut bukanlah fungsi anonymous yang boleh dibah-ubah namanya.\n",
        "\n",
        "Lalu coba perhatikan di baris terakhir, fungsi lambda greeting() yang sudah dibuat disimpan lagi ke variabel yang berbeda, yakni sapa."
      ]
    },
    {
      "cell_type": "code",
      "metadata": {
        "colab": {
          "base_uri": "https://localhost:8080/"
        },
        "id": "9o6IylH6-GVc",
        "outputId": "f7ad6807-d350-4308-f218-53b548976c8f"
      },
      "source": [
        "greeting = lambda name: print(f\"Hello, {name}\")\n",
        "sapa = greeting\n",
        "greeting(\"Andi\")"
      ],
      "execution_count": null,
      "outputs": [
        {
          "output_type": "stream",
          "name": "stdout",
          "text": [
            "Hello, Andi\n"
          ]
        }
      ]
    },
    {
      "cell_type": "code",
      "metadata": {
        "colab": {
          "base_uri": "https://localhost:8080/"
        },
        "id": "DuyP7fqU-W88",
        "outputId": "ca67a93f-ac21-4c4b-ea15-3a5b60ae71e3"
      },
      "source": [
        "sapa(\"Neli\")"
      ],
      "execution_count": null,
      "outputs": [
        {
          "output_type": "stream",
          "name": "stdout",
          "text": [
            "Hello, Neli\n"
          ]
        }
      ]
    },
    {
      "cell_type": "markdown",
      "metadata": {
        "id": "w8n6gQVn-ai2"
      },
      "source": [
        "Hasilnya tidak error, karena ini adalah fungsi anonymous atau lambda."
      ]
    },
    {
      "cell_type": "markdown",
      "metadata": {
        "id": "NkWuiGD1-d29"
      },
      "source": [
        "#**Eksekusi Lambda Secara Langsung**"
      ]
    },
    {
      "cell_type": "markdown",
      "metadata": {
        "id": "4i5HPgpE-htI"
      },
      "source": [
        "Eksekusi Lambda Secara Langsung Kelebihan fungsi lambda dibandingkan def adalah bisa kita eksekusi langsung.\n",
        "\n",
        "Contohnya:"
      ]
    },
    {
      "cell_type": "code",
      "metadata": {
        "colab": {
          "base_uri": "https://localhost:8080/"
        },
        "id": "f8l-FC5f-o27",
        "outputId": "eb87fa55-fc10-4b1c-ce1a-565552a101fd"
      },
      "source": [
        "(lambda x, y: x**2+y**2)(4, 6)"
      ],
      "execution_count": null,
      "outputs": [
        {
          "output_type": "execute_result",
          "data": {
            "text/plain": [
              "52"
            ]
          },
          "metadata": {},
          "execution_count": 11
        }
      ]
    },
    {
      "cell_type": "markdown",
      "metadata": {
        "id": "FElKifsa-0Kh"
      },
      "source": [
        "Tanda kurung yang mengapit fungsi lambda artinya kita akan langsung mengeksekusi fungsi tersebut.\n",
        "\n",
        "Lalu kurung berikutnya akan berisi argument.\n",
        "\n",
        "Angka 4 dan 6 adalah argument untuk x dan y yang akan diberikan kepada fungsi lambda.\n",
        "\n",
        "Maka kita akan langsung mendapatkan hasilnya, yakni: 4**2** + **6**2 = 52.\n",
        "\n",
        "Hasil dari eksekusi ini bisa juga kita simpan ke dalam variabel."
      ]
    },
    {
      "cell_type": "code",
      "metadata": {
        "id": "VwUg20tQ_Mu6"
      },
      "source": [
        "hasil = (lambda x, y: x**2+y**2)(4, 6)"
      ],
      "execution_count": null,
      "outputs": []
    },
    {
      "cell_type": "markdown",
      "metadata": {
        "id": "WKgPuuV__WIp"
      },
      "source": [
        "#**Mengapa Harus Pakai Lambda?**"
      ]
    },
    {
      "cell_type": "markdown",
      "metadata": {
        "id": "kVCLji8u_aVH"
      },
      "source": [
        "Kita memang tidak harus selalu menggunakan Lambda, tapi dalam kasus tertentu lambda lebih baik dibandingkan fungsi biasa.\n",
        "\n",
        "Lambda biasanya dibutuhkan saat kita ingin membuat fungsi dalam satu baris.\n",
        "\n",
        "Biasanya saat menggunakan fungsi-fungsi seperti filter() , map() , dan reduce()kita akan membutuhkan lambda.\n",
        "\n",
        "Mengapa?\n",
        "\n",
        "Karena di fungsi-fungsi tersebut membutuhkan parameter fungsi.\n",
        "\n",
        "Contoh:"
      ]
    },
    {
      "cell_type": "code",
      "metadata": {
        "colab": {
          "base_uri": "https://localhost:8080/"
        },
        "id": "fJb9Emgl_yP0",
        "outputId": "2d605469-f1b6-4c16-a977-a78982ab1e7f"
      },
      "source": [
        "bilangan = [10, 2, 8, 7, 5, 4, 3, 11, 0, 1]\n",
        "filtered_result = map(lambda x: x*x, bilangan)\n",
        "print(list(filtered_result))"
      ],
      "execution_count": null,
      "outputs": [
        {
          "output_type": "stream",
          "name": "stdout",
          "text": [
            "[100, 4, 64, 49, 25, 16, 9, 121, 0, 1]\n"
          ]
        }
      ]
    },
    {
      "cell_type": "markdown",
      "metadata": {
        "id": "FTFWAK09ALJe"
      },
      "source": [
        "Pada fungsi map() kita memberikan parameter dengan fungsi lambda.\n",
        "\n",
        "Mengapa bisa begitu?\n",
        "\n",
        "Karena lambda bisa disimpan ke dalam variabel, otomatis dia akan bisa juga jadi parameter.\n",
        "\n",
        "Satu lagi contoh dengan fungsi filter():"
      ]
    },
    {
      "cell_type": "code",
      "metadata": {
        "colab": {
          "base_uri": "https://localhost:8080/"
        },
        "id": "_IWmMmakAX-0",
        "outputId": "4722cfd5-868f-4b4f-8ba4-1af9cb24cd2a"
      },
      "source": [
        "#menentukan bilangan genap\n",
        "genap = lambda x: x%2 == 0\n",
        "list(filter(genap, range(11)))"
      ],
      "execution_count": null,
      "outputs": [
        {
          "output_type": "execute_result",
          "data": {
            "text/plain": [
              "[0, 2, 4, 6, 8, 10]"
            ]
          },
          "metadata": {},
          "execution_count": 14
        }
      ]
    },
    {
      "cell_type": "markdown",
      "metadata": {
        "id": "0EDNjteEAo5l"
      },
      "source": [
        "#**Contoh Pemakaian Fungsi Lambda**"
      ]
    },
    {
      "cell_type": "markdown",
      "metadata": {
        "id": "sZM3GkxdAtW4"
      },
      "source": [
        "## 1. Melakukan filter tertentu pada suatu list"
      ]
    },
    {
      "cell_type": "code",
      "metadata": {
        "colab": {
          "base_uri": "https://localhost:8080/"
        },
        "id": "Q8PXMTgJA3Ei",
        "outputId": "5dfceef5-1940-4148-9307-979c06196313"
      },
      "source": [
        "list_nama_provinsi = ['Jawa Barat', 'Jawa Timur', 'Jawa Tengah', 'DKI Jakarta', 'Banten']\n",
        "\n",
        "#mengambil nama provinsi dengan kata 'Jawa'\n",
        "pilih_jawa = lambda k: 'jawa' in k.lower()\n",
        "#Note: lower() untuk mengubah huruf menjadi Lower case\n",
        "\n",
        "list(filter(pilih_jawa, list_nama_provinsi))"
      ],
      "execution_count": null,
      "outputs": [
        {
          "output_type": "execute_result",
          "data": {
            "text/plain": [
              "['Jawa Barat', 'Jawa Timur', 'Jawa Tengah']"
            ]
          },
          "metadata": {},
          "execution_count": 15
        }
      ]
    },
    {
      "cell_type": "markdown",
      "metadata": {
        "id": "PZEpEPICBuGP"
      },
      "source": [
        "## 2. Mendefinisikan kolom baru dengan fungsi tertentu pada DataFrame"
      ]
    },
    {
      "cell_type": "code",
      "metadata": {
        "colab": {
          "base_uri": "https://localhost:8080/",
          "height": 238
        },
        "id": "dZKXA3FaBzmp",
        "outputId": "923f6d1f-96fa-46f7-9754-3d9d32ca07ff"
      },
      "source": [
        "#Import Library Pandas\n",
        "import pandas as pd\n",
        "\n",
        "#Membuat list yang memuat data\n",
        "hasil_ekspor = [['Rohan', 455], ['Evan', 250], ['Irpan', 495], ['Soni', 400], ['Radhika', 350], ['Joni', 450]]\n",
        "\n",
        "#Membuat Pandas DataFrame\n",
        "df = pd.DataFrame(hasil_ekspor, columns=['Eksportir', 'Total_Ekspor_TON'])\n",
        "\n",
        "#Target Ekspor adalah 500 Ton\n",
        "#Persentase hasil ekspor diperoleh dari Total_Ekspor_TON dibagi target X 100%\n",
        "#diterapkan pada dataframe dengan bantuan method df.assign()\n",
        "df = df.assign(Presentase = lambda x: (x['Total_Ekspor_TON']/500*100))\n",
        "\n",
        "#Menampilkan DataFRame\n",
        "df"
      ],
      "execution_count": null,
      "outputs": [
        {
          "output_type": "execute_result",
          "data": {
            "text/html": [
              "<div>\n",
              "<style scoped>\n",
              "    .dataframe tbody tr th:only-of-type {\n",
              "        vertical-align: middle;\n",
              "    }\n",
              "\n",
              "    .dataframe tbody tr th {\n",
              "        vertical-align: top;\n",
              "    }\n",
              "\n",
              "    .dataframe thead th {\n",
              "        text-align: right;\n",
              "    }\n",
              "</style>\n",
              "<table border=\"1\" class=\"dataframe\">\n",
              "  <thead>\n",
              "    <tr style=\"text-align: right;\">\n",
              "      <th></th>\n",
              "      <th>Eksportir</th>\n",
              "      <th>Total_Ekspor_TON</th>\n",
              "      <th>Presentase</th>\n",
              "    </tr>\n",
              "  </thead>\n",
              "  <tbody>\n",
              "    <tr>\n",
              "      <th>0</th>\n",
              "      <td>Rohan</td>\n",
              "      <td>455</td>\n",
              "      <td>91.0</td>\n",
              "    </tr>\n",
              "    <tr>\n",
              "      <th>1</th>\n",
              "      <td>Evan</td>\n",
              "      <td>250</td>\n",
              "      <td>50.0</td>\n",
              "    </tr>\n",
              "    <tr>\n",
              "      <th>2</th>\n",
              "      <td>Irpan</td>\n",
              "      <td>495</td>\n",
              "      <td>99.0</td>\n",
              "    </tr>\n",
              "    <tr>\n",
              "      <th>3</th>\n",
              "      <td>Soni</td>\n",
              "      <td>400</td>\n",
              "      <td>80.0</td>\n",
              "    </tr>\n",
              "    <tr>\n",
              "      <th>4</th>\n",
              "      <td>Radhika</td>\n",
              "      <td>350</td>\n",
              "      <td>70.0</td>\n",
              "    </tr>\n",
              "    <tr>\n",
              "      <th>5</th>\n",
              "      <td>Joni</td>\n",
              "      <td>450</td>\n",
              "      <td>90.0</td>\n",
              "    </tr>\n",
              "  </tbody>\n",
              "</table>\n",
              "</div>"
            ],
            "text/plain": [
              "  Eksportir  Total_Ekspor_TON  Presentase\n",
              "0     Rohan               455        91.0\n",
              "1      Evan               250        50.0\n",
              "2     Irpan               495        99.0\n",
              "3      Soni               400        80.0\n",
              "4   Radhika               350        70.0\n",
              "5      Joni               450        90.0"
            ]
          },
          "metadata": {},
          "execution_count": 16
        }
      ]
    },
    {
      "cell_type": "markdown",
      "metadata": {
        "id": "fkvRH6yZDFkD"
      },
      "source": [
        "#**Latihan**"
      ]
    },
    {
      "cell_type": "markdown",
      "metadata": {
        "id": "mdPHJbsbDJ5t"
      },
      "source": [
        "## 1. Buatlah fungsi lambda untuk melakukan filter pada data range(n) untuk data-data yang berupa bilangan kelipatan 3!"
      ]
    },
    {
      "cell_type": "code",
      "metadata": {
        "id": "PZxTde9dDQjk",
        "colab": {
          "base_uri": "https://localhost:8080/"
        },
        "outputId": "0af31160-d4de-49e7-a925-c980357994a4"
      },
      "source": [
        "kelipatan3 = lambda x: x%3 == 0\n",
        "list(filter(kelipatan3, range(17)))"
      ],
      "execution_count": 3,
      "outputs": [
        {
          "output_type": "execute_result",
          "data": {
            "text/plain": [
              "[0, 3, 6, 9, 12, 15]"
            ]
          },
          "metadata": {},
          "execution_count": 3
        }
      ]
    },
    {
      "cell_type": "markdown",
      "metadata": {
        "id": "1JAqOFP1DRwD"
      },
      "source": [
        "## 2. Buatlah fungsi lambda untuk memilih kata-kata dengan jumlah karakter lebih dari sama dengan 6 pada list inputnya. Misal:\n",
        "\n",
        "      list_input=['saya', 'adalah', 'seorang', 'kapiten']\n",
        "\n",
        "Output:\n",
        "\n",
        "      ['adalah', 'seorang', 'kapiten']"
      ]
    },
    {
      "cell_type": "code",
      "metadata": {
        "colab": {
          "base_uri": "https://localhost:8080/"
        },
        "id": "3ZZOTtAVDjrW",
        "outputId": "1b121d74-c6fe-4fa3-9fb2-804b97d1749b"
      },
      "source": [
        "list_input = ['saya', 'adalah', 'seorang', 'kapiten']\n",
        "karakter_6 = lambda x: len (x) > 5\n",
        "list(filter(karakter_6, list_input))"
      ],
      "execution_count": 16,
      "outputs": [
        {
          "output_type": "execute_result",
          "data": {
            "text/plain": [
              "['adalah', 'seorang', 'kapiten']"
            ]
          },
          "metadata": {},
          "execution_count": 16
        }
      ]
    }
  ]
}