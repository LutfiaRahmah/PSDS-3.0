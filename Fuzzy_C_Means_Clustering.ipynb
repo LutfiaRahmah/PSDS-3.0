{
  "nbformat": 4,
  "nbformat_minor": 0,
  "metadata": {
    "colab": {
      "name": "Salinan dari Fuzzy_C_Means_Clustering.ipynb",
      "provenance": []
    },
    "kernelspec": {
      "display_name": "Python 3",
      "language": "python",
      "name": "python3"
    },
    "language_info": {
      "codemirror_mode": {
        "name": "ipython",
        "version": 3
      },
      "file_extension": ".py",
      "mimetype": "text/x-python",
      "name": "python",
      "nbconvert_exporter": "python",
      "pygments_lexer": "ipython3",
      "version": "3.8.5"
    }
  },
  "cells": [
    {
      "cell_type": "markdown",
      "metadata": {
        "id": "mx7WZJtWXJai"
      },
      "source": [
        "## Pembuka"
      ]
    },
    {
      "cell_type": "markdown",
      "metadata": {
        "id": "SgP8I3wtXJas"
      },
      "source": [
        "Assalamu'alaikum warahmatullahi wabarakatuh.\n",
        "Puji syukur kehadirat Allah Subhana Wata'ala atas limpahan Rahmat dan HidayahNya kepada kita semua.\n",
        "Sholawat serta salam senantiasa tercurah limpahkan kepada baginda Muhammad Rasulullah Salallahualaihiwassalam.\n",
        "\n",
        "Halo para **Pejuang Data**. Selamat berjumpa di pertemuan kesepuluh Program Training **Algoritma Machine Learning** Kelas Mahir.\n",
        "\n",
        "Pada pertemuan ini kamu akan belajar:\n",
        "* Fuzzy C Means Clustering\n",
        "* Algoritma Fuzzy C Clustering\n",
        "* Contoh Fuzzy C Means Clustering\n",
        "* Fungsi Fuzzy C Means Clustering"
      ]
    },
    {
      "cell_type": "markdown",
      "metadata": {
        "id": "WvsxCoWlbeuh"
      },
      "source": [
        "## Fuzzy C-Means Clustering"
      ]
    },
    {
      "cell_type": "markdown",
      "metadata": {
        "id": "OtRe67Ixbeui"
      },
      "source": [
        "Fuzzy c-means (FCM) adalah metode clustering yang memungkinkan satu bagian data menjadi milik dua atau lebih cluster. Metode ini (dikembangkan oleh Dunn pada tahun 1973 dan ditingkatkan oleh Bezdek pada tahun 1981) sering digunakan dalam pengenalan pola. Ini didasarkan pada minimalisasi fungsi tujuan berikut:"
      ]
    },
    {
      "cell_type": "markdown",
      "metadata": {
        "id": "OdYoYhZQbeui"
      },
      "source": [
        "\n",
        "$$J=\\sum \\limits_{j=1} ^{k} \\sum \\limits_{i=1} ^{n} u_{ij} ^{m} \\begin{Vmatrix} x_{i} ^{(j)} - c_{j}\\end{Vmatrix} ^{2} , 0 \\leq m < \\infty $$\n"
      ]
    },
    {
      "cell_type": "markdown",
      "metadata": {
        "id": "m_ub9jjZbeui"
      },
      "source": [
        "dimana $m$ adalah bilangan real lebih dari 1 1, $u_{ij}$ adalah derajat keanggotaan dari $x_{i}$ di dalam klaster $j$, $x_{i}$ adalah data ke-i dalam dataset dengan dimensi d, $c_{j}$ adalah pusat klaster, dan $||*||$ bentuk norm yang menyatakan similaritas antara data dan pusat klaster data.\n",
        "\n",
        "Partisi fuzzy dilakukan melalui optimasi iteratif dari fungsi tujuan yang ditunjukkan di atas, dengan pembaruan keanggotaan $u_{ij}$ dan pusat cluster $c_{j}$ dengan:\n",
        "\n",
        "$$u_{ij} = \\frac{1}{\\sum \\limits_{k=1} ^{c} \\begin{pmatrix} \\frac{\\begin{Vmatrix} x_{i} - c_{j} \\end{Vmatrix}}{\\begin{Vmatrix} x_{i} - c_{k} \\end{Vmatrix}}\\end{pmatrix}^{\\frac{2}{m-1}}} $$\n",
        "\n",
        "$$ c_{j} = \\frac{\\sum \\limits_{i=1} ^{N} u_{ij} ^{m} . x_{i}}{\\sum \\limits_{i=1} ^{N} u_{ij} ^{m}} $$\n",
        "\n",
        "Iterasi ini akan berhenti ketika $\\max_{ij} \\begin{Bmatrix} \\begin{vmatrix} u_{ij} ^{(k+1)} - u_{ij} ^{(k)} \\end{vmatrix} \\end{Bmatrix} < \\epsilon $ di mana $\\epsilon$ adalah kriteria terminasi antara 0 dan 1, sedangkan $k$ adalah langkah iterasi. Prosedur ini konvergen ke minimum lokal atau titik pelana $J_{m}$."
      ]
    },
    {
      "cell_type": "markdown",
      "metadata": {
        "id": "YIL7Dpttbeui"
      },
      "source": [
        "## Algoritma Fuzzy C-Means\n",
        "\n",
        "1.\tMenentukan parameter k dan m\n",
        "2. \tTentukan partisi pseudo – fuzzy awal, yaitu menetapkan nilai untuk semua $u_{i,j}$, yaitu $U=[u_{ij} ]$, $U^0$\n",
        "3.  Pada iterasi ke-k, menghitung centroid dari setiap cluster menggunakan partisi fuzzy $C^{k}=[c_{j}]$ with $U^{k}$\n",
        "\n",
        "$$ c_{j} = \\frac{\\sum \\limits_{i=1} ^{N} u_{ij} ^{m} . x_{i}}{\\sum \\limits_{i=1} ^{N} u_{ij} ^{m}} $$\n",
        "\n",
        "4. Perbaharui $U^{k}$, $U^{k+1}$\n",
        "$$u_{ij} = \\frac{1}{\\sum \\limits_{k=1} ^{c} \\begin{pmatrix} \\frac{\\begin{Vmatrix} x_{i} - c_{j} \\end{Vmatrix}}{\\begin{Vmatrix} x_{i} - c_{k} \\end{Vmatrix}}\\end{pmatrix}^{\\frac{2}{m-1}}} $$\n",
        "\n",
        "5. Hitung fungsi objektif(SSE)\n",
        "\n",
        "$$SSE=\\sum \\limits_{j=1} ^{k} \\sum \\limits_{i=1} ^{n} u_{ij} ^{m} \\begin{Vmatrix} x_{i} ^{(j)} - c_{j}\\end{Vmatrix} ^{2} , 0 \\leq m < \\infty $$\n",
        "\n",
        "6. Tetapkan klaster data berdasarkan tingkat keanggotaan tertinggi di $u_{ij}$\n",
        "7. Ulangi langkah 3-6 sampai kriteria berhenti terpenuhi:\n",
        "    1. Jumlah iterasi tertentu tercapai, ATAU\n",
        "    2. Tidak ada (atau minimal) perbedaan anggota cluster pada dua iterasi terakhir, ATAU\n",
        "    3. Tidak ada (atau minimum) perbedaan pusat cluster, ATAU\n",
        "    4. Selisih SSE (Sum of Squared Error) minimum\n",
        "\n"
      ]
    },
    {
      "cell_type": "markdown",
      "metadata": {
        "id": "o5zCZfsibeui"
      },
      "source": [
        "## Contoh Fuzzy C-Means"
      ]
    },
    {
      "cell_type": "markdown",
      "metadata": {
        "id": "mAnptyNxbeui"
      },
      "source": [
        "**0. Dataset**"
      ]
    },
    {
      "cell_type": "markdown",
      "metadata": {
        "id": "auNcSxiubeuj"
      },
      "source": [
        "| $$x_1$$ | $$x_2$$ |\n",
        "| :---: | :---: |\n",
        "|   1   |   1   |\n",
        "|   2   |   3   |\n",
        "|   7   |   8   |\n",
        "|   8   |   8   |"
      ]
    },
    {
      "cell_type": "code",
      "metadata": {
        "id": "LL7XRBw-beuj"
      },
      "source": [
        "import random\n",
        "import pandas as pd\n",
        "import numpy as np\n",
        "import matplotlib.pyplot as plt"
      ],
      "execution_count": 1,
      "outputs": []
    },
    {
      "cell_type": "code",
      "metadata": {
        "colab": {
          "base_uri": "https://localhost:8080/",
          "height": 172
        },
        "id": "-CAOWmFGbeuj",
        "outputId": "59db66ec-4ef4-4648-adfd-da17c36af18f"
      },
      "source": [
        "data=pd.DataFrame({\"x1\":[1,2,7,8], \"x2\":[1,3,8,8]})\n",
        "data"
      ],
      "execution_count": 2,
      "outputs": [
        {
          "output_type": "execute_result",
          "data": {
            "text/html": [
              "<div>\n",
              "<style scoped>\n",
              "    .dataframe tbody tr th:only-of-type {\n",
              "        vertical-align: middle;\n",
              "    }\n",
              "\n",
              "    .dataframe tbody tr th {\n",
              "        vertical-align: top;\n",
              "    }\n",
              "\n",
              "    .dataframe thead th {\n",
              "        text-align: right;\n",
              "    }\n",
              "</style>\n",
              "<table border=\"1\" class=\"dataframe\">\n",
              "  <thead>\n",
              "    <tr style=\"text-align: right;\">\n",
              "      <th></th>\n",
              "      <th>x1</th>\n",
              "      <th>x2</th>\n",
              "    </tr>\n",
              "  </thead>\n",
              "  <tbody>\n",
              "    <tr>\n",
              "      <th>0</th>\n",
              "      <td>1</td>\n",
              "      <td>1</td>\n",
              "    </tr>\n",
              "    <tr>\n",
              "      <th>1</th>\n",
              "      <td>2</td>\n",
              "      <td>3</td>\n",
              "    </tr>\n",
              "    <tr>\n",
              "      <th>2</th>\n",
              "      <td>7</td>\n",
              "      <td>8</td>\n",
              "    </tr>\n",
              "    <tr>\n",
              "      <th>3</th>\n",
              "      <td>8</td>\n",
              "      <td>8</td>\n",
              "    </tr>\n",
              "  </tbody>\n",
              "</table>\n",
              "</div>"
            ],
            "text/plain": [
              "   x1  x2\n",
              "0   1   1\n",
              "1   2   3\n",
              "2   7   8\n",
              "3   8   8"
            ]
          },
          "metadata": {},
          "execution_count": 2
        }
      ]
    },
    {
      "cell_type": "code",
      "metadata": {
        "colab": {
          "base_uri": "https://localhost:8080/",
          "height": 282
        },
        "id": "zbeRc62Dbeuk",
        "outputId": "829af398-86c1-4304-bcb2-285c339f6a76"
      },
      "source": [
        "plt.scatter(data.x1, data.x2)"
      ],
      "execution_count": 3,
      "outputs": [
        {
          "output_type": "execute_result",
          "data": {
            "text/plain": [
              "<matplotlib.collections.PathCollection at 0x7fe546bfb850>"
            ]
          },
          "metadata": {},
          "execution_count": 3
        },
        {
          "output_type": "display_data",
          "data": {
            "image/png": "[encoded data removed]",
            "text/plain": [
              "<Figure size 432x288 with 1 Axes>"
            ]
          },
          "metadata": {
            "needs_background": "light"
          }
        }
      ]
    },
    {
      "cell_type": "markdown",
      "metadata": {
        "id": "ygBFg7oibeuk"
      },
      "source": [
        "**1. Tentukan parameter k and m**"
      ]
    },
    {
      "cell_type": "markdown",
      "metadata": {
        "id": "I-vLbYOqbeuk"
      },
      "source": [
        "$$k=2$$ , $$m=2$$"
      ]
    },
    {
      "cell_type": "code",
      "metadata": {
        "id": "vHbFbxz-beuk"
      },
      "source": [
        "k=2\n",
        "m=2"
      ],
      "execution_count": 4,
      "outputs": []
    },
    {
      "cell_type": "markdown",
      "metadata": {
        "id": "kN8B__UNbeuk"
      },
      "source": [
        "**2. Menentukan matriks fuzzy pseudo partisi(u)**"
      ]
    },
    {
      "cell_type": "markdown",
      "metadata": {
        "id": "GHOP-vKWbeuk"
      },
      "source": [
        "| $$x_1$$ | $$x_2$$ |\n",
        "| :---: | :---: |\n",
        "|   0.65   |   0.35   |\n",
        "|   0.72   |   0.28   |\n",
        "|   0.20   |   0.80   |\n",
        "|   0.89   |   0.11   |"
      ]
    },
    {
      "cell_type": "code",
      "metadata": {
        "colab": {
          "base_uri": "https://localhost:8080/"
        },
        "id": "5ERo4IHWbeuk",
        "outputId": "cd681011-f456-42d0-ead4-591e3723d3b5"
      },
      "source": [
        "U=np.array([[0.65,0.35],[0.72,0.28],[0.20,0.80],[0.89,0.11]])\n",
        "U"
      ],
      "execution_count": 5,
      "outputs": [
        {
          "output_type": "execute_result",
          "data": {
            "text/plain": [
              "array([[0.65, 0.35],\n",
              "       [0.72, 0.28],\n",
              "       [0.2 , 0.8 ],\n",
              "       [0.89, 0.11]])"
            ]
          },
          "metadata": {},
          "execution_count": 5
        }
      ]
    },
    {
      "cell_type": "code",
      "metadata": {
        "id": "HtKfvp64beuk"
      },
      "source": [
        "def Inisialisasi_Matriks_Fuzzy_Random(k,n):\n",
        "    U = list()\n",
        "    for i in range(n):\n",
        "        random_num_list = [ random.random() for i in range(k)]\n",
        "        summation = sum(random_num_list)\n",
        "        temp_list = [round(x/summation,2)for x in random_num_list]\n",
        "        U.append(temp_list)\n",
        "    np.array(U)\n",
        "    return U"
      ],
      "execution_count": 6,
      "outputs": []
    },
    {
      "cell_type": "markdown",
      "metadata": {
        "id": "e72TAHQpbeul"
      },
      "source": [
        "**3. Hitung centroid dari setiap cluster menggunakan partisi fuzzy**"
      ]
    },
    {
      "cell_type": "code",
      "metadata": {
        "id": "3ZDB3D4hbeul"
      },
      "source": [
        "def hitung_pusat_klaster(U, data):\n",
        "    X=np.array(data)\n",
        "    baris, kolom = np.shape(U)\n",
        "    pusat_klaster=[]\n",
        "    for k in range(kolom):\n",
        "        pkb=[]\n",
        "        for b in range(kolom):\n",
        "            pk=np.dot(U[:,b]**m,X[:,k])/sum(U[:,b])\n",
        "            pkb.append(pk)\n",
        "        pusat_klaster.append(pkb)\n",
        "    return pusat_klaster"
      ],
      "execution_count": 7,
      "outputs": []
    },
    {
      "cell_type": "code",
      "metadata": {
        "colab": {
          "base_uri": "https://localhost:8080/"
        },
        "id": "PzoiMl24beul",
        "outputId": "b4dcc468-6e6b-4dd4-d426-0d6d5350b91b"
      },
      "source": [
        "pusat_klaster=hitung_pusat_klaster(U, data)\n",
        "pusat_klaster"
      ],
      "execution_count": 8,
      "outputs": [
        {
          "output_type": "execute_result",
          "data": {
            "text/plain": [
              "[[3.282967479674797, 3.153311688311688],\n",
              " [3.5099593495934958, 3.619805194805195]]"
            ]
          },
          "metadata": {},
          "execution_count": 8
        }
      ]
    },
    {
      "cell_type": "markdown",
      "metadata": {
        "id": "MJaTHXx3beul"
      },
      "source": [
        "**4. Perbarui $U^{k}$, $U^{k+1}$**"
      ]
    },
    {
      "cell_type": "code",
      "metadata": {
        "id": "0N-DaPnibeul"
      },
      "source": [
        "def jarak_euclidean(x,y):\n",
        "    return np.sqrt(sum(pow(a-b, 2) for a, b in zip(x,y)))"
      ],
      "execution_count": 9,
      "outputs": []
    },
    {
      "cell_type": "code",
      "metadata": {
        "id": "ogLIxj17beul"
      },
      "source": [
        "def jarak_centroid(df,pusat_klaster):\n",
        "    n=len(df)\n",
        "    k=np.array(pusat_klaster).shape[0]\n",
        "    jarak=[]\n",
        "    for i in range(n):\n",
        "        x = list(df.iloc[i])\n",
        "        jrk = [jarak_euclidean(x, pusat_klaster[j]) for j in range(k)]\n",
        "        jarak.append(jrk)\n",
        "    return np.array(jarak)"
      ],
      "execution_count": 10,
      "outputs": []
    },
    {
      "cell_type": "code",
      "metadata": {
        "colab": {
          "base_uri": "https://localhost:8080/"
        },
        "id": "Dx6XouYHbeul",
        "outputId": "fd06c54f-2c2e-4d98-dd7a-93fd132d6120"
      },
      "source": [
        "jc=jarak_centroid(data,pusat_klaster)\n",
        "jc"
      ],
      "execution_count": 11,
      "outputs": [
        {
          "output_type": "execute_result",
          "data": {
            "text/plain": [
              "array([[3.13826254, 3.62812282],\n",
              "       [1.29209521, 1.63221804],\n",
              "       [6.10792259, 5.60057946],\n",
              "       [6.76319328, 6.27268456]])"
            ]
          },
          "metadata": {},
          "execution_count": 11
        }
      ]
    },
    {
      "cell_type": "code",
      "metadata": {
        "id": "L8mNuO8kbeul"
      },
      "source": [
        "def hitung_jum_baris(matriks):\n",
        "    rows = len(matriks)\n",
        "    cols = len(matriks[0])\n",
        "    total=[]\n",
        "    for x in range(0, rows):\n",
        "        rowtotal=0\n",
        "        for y in range(0, cols):\n",
        "            rowtotal=rowtotal+(matriks[x][y])\n",
        "        total.append(rowtotal)\n",
        "    return total"
      ],
      "execution_count": 12,
      "outputs": []
    },
    {
      "cell_type": "code",
      "metadata": {
        "id": "Rs__rKHlbeum"
      },
      "source": [
        "def update_U(df,pusat_klaster):\n",
        "    jc=jarak_centroid(df,pusat_klaster)\n",
        "    baris, kolom=np.shape(jc)\n",
        "    U=[]\n",
        "    for k in range(kolom):\n",
        "        ub=[]\n",
        "        for b in range(baris):\n",
        "            uj=1/((jc[b,k]/hitung_jum_baris(jc)[b])**(-1/(m-1)))\n",
        "            ub.append(uj)\n",
        "        U.append(ub)\n",
        "    return np.array(U).transpose()"
      ],
      "execution_count": 13,
      "outputs": []
    },
    {
      "cell_type": "code",
      "metadata": {
        "colab": {
          "base_uri": "https://localhost:8080/"
        },
        "id": "Y8I5BqDWbeum",
        "outputId": "163219a6-d3de-47ab-91ab-d9f819248e37"
      },
      "source": [
        "U_baru=update_U(data,pusat_klaster)\n",
        "U_baru"
      ],
      "execution_count": 14,
      "outputs": [
        {
          "output_type": "execute_result",
          "data": {
            "text/plain": [
              "array([[0.46380192, 0.53619808],\n",
              "       [0.44184569, 0.55815431],\n",
              "       [0.52166559, 0.47833441],\n",
              "       [0.5188138 , 0.4811862 ]])"
            ]
          },
          "metadata": {},
          "execution_count": 14
        }
      ]
    },
    {
      "cell_type": "markdown",
      "metadata": {
        "id": "q6pexNAubeum"
      },
      "source": [
        "**5. Hitung fungsi objektif(SSE)**"
      ]
    },
    {
      "cell_type": "code",
      "metadata": {
        "id": "6Gc1qO0Ebeum"
      },
      "source": [
        "def hitung_FO(U, df, pusat_klaster):\n",
        "    jc=jarak_centroid(df,pusat_klaster)\n",
        "    baris, kolom = np.shape(U)\n",
        "    FO=[]\n",
        "    for k in range(kolom):\n",
        "        fob=[]\n",
        "        for b in range(baris):\n",
        "            fo=np.dot(U[b,k],jc[b,k])\n",
        "            fob.append(fo)\n",
        "        FO.append(fob)\n",
        "    SSE=np.array(FO)\n",
        "    return np.sum(SSE)"
      ],
      "execution_count": 15,
      "outputs": []
    },
    {
      "cell_type": "code",
      "metadata": {
        "colab": {
          "base_uri": "https://localhost:8080/"
        },
        "id": "vgcFPar8beum",
        "outputId": "101cacbe-202f-4c66-f72e-c4c4f5b921dc"
      },
      "source": [
        "SSE=hitung_FO(U, data, pusat_klaster)\n",
        "SSE"
      ],
      "execution_count": 16,
      "outputs": [
        {
          "output_type": "execute_result",
          "data": {
            "text/plain": [
              "17.108328643324057"
            ]
          },
          "metadata": {},
          "execution_count": 16
        }
      ]
    },
    {
      "cell_type": "markdown",
      "metadata": {
        "id": "g7bhDCUXbeum"
      },
      "source": [
        "**6.Tetapkan klaster data berdasarkan tingkat keanggotaan tertinggi di $u_{ij}$**"
      ]
    },
    {
      "cell_type": "code",
      "metadata": {
        "id": "7snF3-Hwbeum"
      },
      "source": [
        "def menentukan_klaster(U):\n",
        "    n=len(U)\n",
        "    label_klaster=list()\n",
        "    for i in range(n):\n",
        "        max_val, idx = max((val, idx) for (idx, val) in enumerate(U[i]))\n",
        "        label_klaster.append(idx)\n",
        "    return label_klaster"
      ],
      "execution_count": 17,
      "outputs": []
    },
    {
      "cell_type": "code",
      "metadata": {
        "colab": {
          "base_uri": "https://localhost:8080/"
        },
        "id": "e335hm19beum",
        "outputId": "dce43bf4-bca6-41ad-cde4-4b78aae248a3"
      },
      "source": [
        "label_hasil=menentukan_klaster(U_baru)\n",
        "label_hasil"
      ],
      "execution_count": 18,
      "outputs": [
        {
          "output_type": "execute_result",
          "data": {
            "text/plain": [
              "[1, 1, 0, 0]"
            ]
          },
          "metadata": {},
          "execution_count": 18
        }
      ]
    },
    {
      "cell_type": "markdown",
      "metadata": {
        "id": "JfwGiVOjbeum"
      },
      "source": [
        "**7. Ulangi langkah 3-6 sampai kriteria berhenti terpenuhi:**"
      ]
    },
    {
      "cell_type": "code",
      "metadata": {
        "id": "OM7i7LSdbeun"
      },
      "source": [
        "def perubahan_pusat_klaster_euclidean(pusat_klaster_lama, pusat_klaster_baru):\n",
        "    perubahan = 0\n",
        "    for a,b in zip(pusat_klaster_lama, pusat_klaster_baru):\n",
        "        perubahan+=jarak_euclidean(a,b)\n",
        "    return perubahan"
      ],
      "execution_count": 19,
      "outputs": []
    },
    {
      "cell_type": "markdown",
      "metadata": {
        "id": "gFDpg2zPbeun"
      },
      "source": [
        "## Fungsi Fuzzy C Means"
      ]
    },
    {
      "cell_type": "code",
      "metadata": {
        "colab": {
          "base_uri": "https://localhost:8080/",
          "height": 172
        },
        "id": "o9MbVxMSbeun",
        "outputId": "ff301422-cb60-46ba-92b1-9c7ac7d61643"
      },
      "source": [
        "data=pd.DataFrame({\"x1\":[1,2,7,8], \"x2\":[1,3,8,8]})\n",
        "data"
      ],
      "execution_count": 20,
      "outputs": [
        {
          "output_type": "execute_result",
          "data": {
            "text/html": [
              "<div>\n",
              "<style scoped>\n",
              "    .dataframe tbody tr th:only-of-type {\n",
              "        vertical-align: middle;\n",
              "    }\n",
              "\n",
              "    .dataframe tbody tr th {\n",
              "        vertical-align: top;\n",
              "    }\n",
              "\n",
              "    .dataframe thead th {\n",
              "        text-align: right;\n",
              "    }\n",
              "</style>\n",
              "<table border=\"1\" class=\"dataframe\">\n",
              "  <thead>\n",
              "    <tr style=\"text-align: right;\">\n",
              "      <th></th>\n",
              "      <th>x1</th>\n",
              "      <th>x2</th>\n",
              "    </tr>\n",
              "  </thead>\n",
              "  <tbody>\n",
              "    <tr>\n",
              "      <th>0</th>\n",
              "      <td>1</td>\n",
              "      <td>1</td>\n",
              "    </tr>\n",
              "    <tr>\n",
              "      <th>1</th>\n",
              "      <td>2</td>\n",
              "      <td>3</td>\n",
              "    </tr>\n",
              "    <tr>\n",
              "      <th>2</th>\n",
              "      <td>7</td>\n",
              "      <td>8</td>\n",
              "    </tr>\n",
              "    <tr>\n",
              "      <th>3</th>\n",
              "      <td>8</td>\n",
              "      <td>8</td>\n",
              "    </tr>\n",
              "  </tbody>\n",
              "</table>\n",
              "</div>"
            ],
            "text/plain": [
              "   x1  x2\n",
              "0   1   1\n",
              "1   2   3\n",
              "2   7   8\n",
              "3   8   8"
            ]
          },
          "metadata": {},
          "execution_count": 20
        }
      ]
    },
    {
      "cell_type": "code",
      "metadata": {
        "id": "we0jarOubeun"
      },
      "source": [
        "def FCM(df): \n",
        "    X=np.array(df)\n",
        "    k = 2\n",
        "    MAX_ITER = 1000\n",
        "    n = len(df)\n",
        "    m = 2.00\n",
        "    U = Inisialisasi_Matriks_Fuzzy_Random(k,n)\n",
        "    U = np.array(U)\n",
        "    iterasi = 0\n",
        "    label=[]\n",
        "    fungsi_objektif=[0]\n",
        "    label_hasil=[]\n",
        "    \n",
        "    while iterasi < MAX_ITER:\n",
        "        pusat_klaster = hitung_pusat_klaster(U, df)\n",
        "        U= update_U(df,pusat_klaster)\n",
        "        fo= hitung_FO(U, df, pusat_klaster)\n",
        "        fungsi_objektif.append(fo)\n",
        "        label_klaster = menentukan_klaster(U)\n",
        "        label.append(label_klaster)\n",
        "        label_hasil=label[-1]\n",
        "        iterasi += 1\n",
        "    return label_hasil, fungsi_objektif, iterasi"
      ],
      "execution_count": 21,
      "outputs": []
    },
    {
      "cell_type": "code",
      "metadata": {
        "id": "HpXpz7PMbeun"
      },
      "source": [
        "label_hasil, fungsi_objektif, iterasi=FCM(data)"
      ],
      "execution_count": 22,
      "outputs": []
    },
    {
      "cell_type": "code",
      "metadata": {
        "colab": {
          "base_uri": "https://localhost:8080/"
        },
        "id": "_PTZDeJXbeun",
        "outputId": "9b8cf584-208e-4463-cb1c-31ff8a538653"
      },
      "source": [
        "print(label_hasil)\n",
        "\n",
        "print(iterasi)"
      ],
      "execution_count": 23,
      "outputs": [
        {
          "output_type": "stream",
          "name": "stdout",
          "text": [
            "[1, 0, 0, 0]\n",
            "1000\n"
          ]
        }
      ]
    },
    {
      "cell_type": "code",
      "metadata": {
        "colab": {
          "base_uri": "https://localhost:8080/",
          "height": 542
        },
        "id": "KQedp3eAbeun",
        "outputId": "4e8f0171-3c71-45fb-e80e-70a0c2a3225b"
      },
      "source": [
        "import plotly.express as px\n",
        "x=np.arange(1,len(fungsi_objektif))\n",
        "y=fungsi_objektif[1:]\n",
        "dfplot = pd.DataFrame({'x':x, 'y':y})\n",
        "dfplot.head()\n",
        "fig = px.line(dfplot, x=\"x\", y=\"y\", title='Fungsi Objektif')\n",
        "fig.show()"
      ],
      "execution_count": 24,
      "outputs": [
        {
          "output_type": "display_data",
          "data": {
            "text/html": [
              "<html>\n",
              "<head><meta charset=\"utf-8\" /></head>\n",
              "<body>\n",
              "    <div>\n",
              "            <script src=\"https://cdnjs.cloudflare.com/ajax/libs/mathjax/2.7.5/MathJax.js?config=TeX-AMS-MML_SVG\"></script><script type=\"text/javascript\">if (window.MathJax) {MathJax.Hub.Config({SVG: {font: \"STIX-Web\"}});}</script>\n",
              "                <script type=\"text/javascript\">window.PlotlyConfig = {MathJaxConfig: 'local'};</script>\n",
              "        <script src=\"https://cdn.plot.ly/plotly-latest.min.js\"></script>    \n",
              "            <div id=\"a3f87dab-9a85-4304-97fa-77cc6b5b590a\" class=\"plotly-graph-div\" style=\"height:525px; width:100%;\"></div>\n",
              "            <script type=\"text/javascript\">\n",
              "                \n",
              "                    window.PLOTLYENV=window.PLOTLYENV || {};\n",
              "                    \n",
              "                if (document.getElementById(\"a3f87dab-9a85-4304-97fa-77cc6b5b590a\")) {\n",
              "                    Plotly.newPlot(\n",
              "                        'a3f87dab-9a85-4304-97fa-77cc6b5b590a',\n",
              "                        [{\"hoverlabel\": {\"namelength\": 0}, \"hovertemplate\": \"x=%{x}<br>y=%{y}\", \"legendgroup\": \"\", \"line\": {\"color\": \"#636efa\", \"dash\": \"solid\"}, \"mode\": \"lines\", \"name\": \"\", \"showlegend\": false, \"type\": \"scatter\", \"x\": [1, 2, 3, 4, 5, 6, 7, 8, 9, 10, 11, 12, 13, 14, 15, 16, 17, 18, 19, 20, 21, 22, 23, 24, 25, 26, 27, 28, 29, 30, 31, 32, 33, 34, 35, 36, 37, 38, 39, 40, 41, 42, 43, 44, 45, 46, 47, 48, 49, 50, 51, 52, 53, 54, 55, 56, 57, 58, 59, 60, 61, 62, 63, 64, 65, 66, 67, 68, 69, 70, 71, 72, 73, 74, 75, 76, 77, 78, 79, 80, 81, 82, 83, 84, 85, 86, 87, 88, 89, 90, 91, 92, 93, 94, 95, 96, 97, 98, 99, 100, 101, 102, 103, 104, 105, 106, 107, 108, 109, 110, 111, 112, 113, 114, 115, 116, 117, 118, 119, 120, 121, 122, 123, 124, 125, 126, 127, 128, 129, 130, 131, 132, 133, 134, 135, 136, 137, 138, 139, 140, 141, 142, 143, 144, 145, 146, 147, 148, 149, 150, 151, 152, 153, 154, 155, 156, 157, 158, 159, 160, 161, 162, 163, 164, 165, 166, 167, 168, 169, 170, 171, 172, 173, 174, 175, 176, 177, 178, 179, 180, 181, 182, 183, 184, 185, 186, 187, 188, 189, 190, 191, 192, 193, 194, 195, 196, 197, 198, 199, 200, 201, 202, 203, 204, 205, 206, 207, 208, 209, 210, 211, 212, 213, 214, 215, 216, 217, 218, 219, 220, 221, 222, 223, 224, 225, 226, 227, 228, 229, 230, 231, 232, 233, 234, 235, 236, 237, 238, 239, 240, 241, 242, 243, 244, 245, 246, 247, 248, 249, 250, 251, 252, 253, 254, 255, 256, 257, 258, 259, 260, 261, 262, 263, 264, 265, 266, 267, 268, 269, 270, 271, 272, 273, 274, 275, 276, 277, 278, 279, 280, 281, 282, 283, 284, 285, 286, 287, 288, 289, 290, 291, 292, 293, 294, 295, 296, 297, 298, 299, 300, 301, 302, 303, 304, 305, 306, 307, 308, 309, 310, 311, 312, 313, 314, 315, 316, 317, 318, 319, 320, 321, 322, 323, 324, 325, 326, 327, 328, 329, 330, 331, 332, 333, 334, 335, 336, 337, 338, 339, 340, 341, 342, 343, 344, 345, 346, 347, 348, 349, 350, 351, 352, 353, 354, 355, 356, 357, 358, 359, 360, 361, 362, 363, 364, 365, 366, 367, 368, 369, 370, 371, 372, 373, 374, 375, 376, 377, 378, 379, 380, 381, 382, 383, 384, 385, 386, 387, 388, 389, 390, 391, 392, 393, 394, 395, 396, 397, 398, 399, 400, 401, 402, 403, 404, 405, 406, 407, 408, 409, 410, 411, 412, 413, 414, 415, 416, 417, 418, 419, 420, 421, 422, 423, 424, 425, 426, 427, 428, 429, 430, 431, 432, 433, 434, 435, 436, 437, 438, 439, 440, 441, 442, 443, 444, 445, 446, 447, 448, 449, 450, 451, 452, 453, 454, 455, 456, 457, 458, 459, 460, 461, 462, 463, 464, 465, 466, 467, 468, 469, 470, 471, 472, 473, 474, 475, 476, 477, 478, 479, 480, 481, 482, 483, 484, 485, 486, 487, 488, 489, 490, 491, 492, 493, 494, 495, 496, 497, 498, 499, 500, 501, 502, 503, 504, 505, 506, 507, 508, 509, 510, 511, 512, 513, 514, 515, 516, 517, 518, 519, 520, 521, 522, 523, 524, 525, 526, 527, 528, 529, 530, 531, 532, 533, 534, 535, 536, 537, 538, 539, 540, 541, 542, 543, 544, 545, 546, 547, 548, 549, 550, 551, 552, 553, 554, 555, 556, 557, 558, 559, 560, 561, 562, 563, 564, 565, 566, 567, 568, 569, 570, 571, 572, 573, 574, 575, 576, 577, 578, 579, 580, 581, 582, 583, 584, 585, 586, 587, 588, 589, 590, 591, 592, 593, 594, 595, 596, 597, 598, 599, 600, 601, 602, 603, 604, 605, 606, 607, 608, 609, 610, 611, 612, 613, 614, 615, 616, 617, 618, 619, 620, 621, 622, 623, 624, 625, 626, 627, 628, 629, 630, 631, 632, 633, 634, 635, 636, 637, 638, 639, 640, 641, 642, 643, 644, 645, 646, 647, 648, 649, 650, 651, 652, 653, 654, 655, 656, 657, 658, 659, 660, 661, 662, 663, 664, 665, 666, 667, 668, 669, 670, 671, 672, 673, 674, 675, 676, 677, 678, 679, 680, 681, 682, 683, 684, 685, 686, 687, 688, 689, 690, 691, 692, 693, 694, 695, 696, 697, 698, 699, 700, 701, 702, 703, 704, 705, 706, 707, 708, 709, 710, 711, 712, 713, 714, 715, 716, 717, 718, 719, 720, 721, 722, 723, 724, 725, 726, 727, 728, 729, 730, 731, 732, 733, 734, 735, 736, 737, 738, 739, 740, 741, 742, 743, 744, 745, 746, 747, 748, 749, 750, 751, 752, 753, 754, 755, 756, 757, 758, 759, 760, 761, 762, 763, 764, 765, 766, 767, 768, 769, 770, 771, 772, 773, 774, 775, 776, 777, 778, 779, 780, 781, 782, 783, 784, 785, 786, 787, 788, 789, 790, 791, 792, 793, 794, 795, 796, 797, 798, 799, 800, 801, 802, 803, 804, 805, 806, 807, 808, 809, 810, 811, 812, 813, 814, 815, 816, 817, 818, 819, 820, 821, 822, 823, 824, 825, 826, 827, 828, 829, 830, 831, 832, 833, 834, 835, 836, 837, 838, 839, 840, 841, 842, 843, 844, 845, 846, 847, 848, 849, 850, 851, 852, 853, 854, 855, 856, 857, 858, 859, 860, 861, 862, 863, 864, 865, 866, 867, 868, 869, 870, 871, 872, 873, 874, 875, 876, 877, 878, 879, 880, 881, 882, 883, 884, 885, 886, 887, 888, 889, 890, 891, 892, 893, 894, 895, 896, 897, 898, 899, 900, 901, 902, 903, 904, 905, 906, 907, 908, 909, 910, 911, 912, 913, 914, 915, 916, 917, 918, 919, 920, 921, 922, 923, 924, 925, 926, 927, 928, 929, 930, 931, 932, 933, 934, 935, 936, 937, 938, 939, 940, 941, 942, 943, 944, 945, 946, 947, 948, 949, 950, 951, 952, 953, 954, 955, 956, 957, 958, 959, 960, 961, 962, 963, 964, 965, 966, 967, 968, 969, 970, 971, 972, 973, 974, 975, 976, 977, 978, 979, 980, 981, 982, 983, 984, 985, 986, 987, 988, 989, 990, 991, 992, 993, 994, 995, 996, 997, 998, 999, 1000], \"xaxis\": \"x\", \"y\": [17.66410959253614, 18.101479470350238, 18.097730262927566, 18.09828681193558, 18.0981905115985, 18.098204237781758, 18.098202232506267, 18.098202524449363, 18.098202481924304, 18.098202488118133, 18.098202487215985, 18.098202487347386, 18.098202487328248, 18.098202487331037, 18.098202487330628, 18.09820248733069, 18.09820248733068, 18.09820248733068, 18.09820248733068, 18.09820248733068, 18.09820248733068, 18.09820248733068, 18.09820248733068, 18.09820248733068, 18.09820248733068, 18.09820248733068, 18.09820248733068, 18.09820248733068, 18.09820248733068, 18.09820248733068, 18.09820248733068, 18.09820248733068, 18.09820248733068, 18.09820248733068, 18.09820248733068, 18.09820248733068, 18.09820248733068, 18.09820248733068, 18.09820248733068, 18.09820248733068, 18.09820248733068, 18.09820248733068, 18.09820248733068, 18.09820248733068, 18.09820248733068, 18.09820248733068, 18.09820248733068, 18.09820248733068, 18.09820248733068, 18.09820248733068, 18.09820248733068, 18.09820248733068, 18.09820248733068, 18.09820248733068, 18.09820248733068, 18.09820248733068, 18.09820248733068, 18.09820248733068, 18.09820248733068, 18.09820248733068, 18.09820248733068, 18.09820248733068, 18.09820248733068, 18.09820248733068, 18.09820248733068, 18.09820248733068, 18.09820248733068, 18.09820248733068, 18.09820248733068, 18.09820248733068, 18.09820248733068, 18.09820248733068, 18.09820248733068, 18.09820248733068, 18.09820248733068, 18.09820248733068, 18.09820248733068, 18.09820248733068, 18.09820248733068, 18.09820248733068, 18.09820248733068, 18.09820248733068, 18.09820248733068, 18.09820248733068, 18.09820248733068, 18.09820248733068, 18.09820248733068, 18.09820248733068, 18.09820248733068, 18.09820248733068, 18.09820248733068, 18.09820248733068, 18.09820248733068, 18.09820248733068, 18.09820248733068, 18.09820248733068, 18.09820248733068, 18.09820248733068, 18.09820248733068, 18.09820248733068, 18.09820248733068, 18.09820248733068, 18.09820248733068, 18.09820248733068, 18.09820248733068, 18.09820248733068, 18.09820248733068, 18.09820248733068, 18.09820248733068, 18.09820248733068, 18.09820248733068, 18.09820248733068, 18.09820248733068, 18.09820248733068, 18.09820248733068, 18.09820248733068, 18.09820248733068, 18.09820248733068, 18.09820248733068, 18.09820248733068, 18.09820248733068, 18.09820248733068, 18.09820248733068, 18.09820248733068, 18.09820248733068, 18.09820248733068, 18.09820248733068, 18.09820248733068, 18.09820248733068, 18.09820248733068, 18.09820248733068, 18.09820248733068, 18.09820248733068, 18.09820248733068, 18.09820248733068, 18.09820248733068, 18.09820248733068, 18.09820248733068, 18.09820248733068, 18.09820248733068, 18.09820248733068, 18.09820248733068, 18.09820248733068, 18.09820248733068, 18.09820248733068, 18.09820248733068, 18.09820248733068, 18.09820248733068, 18.09820248733068, 18.09820248733068, 18.09820248733068, 18.09820248733068, 18.09820248733068, 18.09820248733068, 18.09820248733068, 18.09820248733068, 18.09820248733068, 18.09820248733068, 18.09820248733068, 18.09820248733068, 18.09820248733068, 18.09820248733068, 18.09820248733068, 18.09820248733068, 18.09820248733068, 18.09820248733068, 18.09820248733068, 18.09820248733068, 18.09820248733068, 18.09820248733068, 18.09820248733068, 18.09820248733068, 18.09820248733068, 18.09820248733068, 18.09820248733068, 18.09820248733068, 18.09820248733068, 18.09820248733068, 18.09820248733068, 18.09820248733068, 18.09820248733068, 18.09820248733068, 18.09820248733068, 18.09820248733068, 18.09820248733068, 18.09820248733068, 18.09820248733068, 18.09820248733068, 18.09820248733068, 18.09820248733068, 18.09820248733068, 18.09820248733068, 18.09820248733068, 18.09820248733068, 18.09820248733068, 18.09820248733068, 18.09820248733068, 18.09820248733068, 18.09820248733068, 18.09820248733068, 18.09820248733068, 18.09820248733068, 18.09820248733068, 18.09820248733068, 18.09820248733068, 18.09820248733068, 18.09820248733068, 18.09820248733068, 18.09820248733068, 18.09820248733068, 18.09820248733068, 18.09820248733068, 18.09820248733068, 18.09820248733068, 18.09820248733068, 18.09820248733068, 18.09820248733068, 18.09820248733068, 18.09820248733068, 18.09820248733068, 18.09820248733068, 18.09820248733068, 18.09820248733068, 18.09820248733068, 18.09820248733068, 18.09820248733068, 18.09820248733068, 18.09820248733068, 18.09820248733068, 18.09820248733068, 18.09820248733068, 18.09820248733068, 18.09820248733068, 18.09820248733068, 18.09820248733068, 18.09820248733068, 18.09820248733068, 18.09820248733068, 18.09820248733068, 18.09820248733068, 18.09820248733068, 18.09820248733068, 18.09820248733068, 18.09820248733068, 18.09820248733068, 18.09820248733068, 18.09820248733068, 18.09820248733068, 18.09820248733068, 18.09820248733068, 18.09820248733068, 18.09820248733068, 18.09820248733068, 18.09820248733068, 18.09820248733068, 18.09820248733068, 18.09820248733068, 18.09820248733068, 18.09820248733068, 18.09820248733068, 18.09820248733068, 18.09820248733068, 18.09820248733068, 18.09820248733068, 18.09820248733068, 18.09820248733068, 18.09820248733068, 18.09820248733068, 18.09820248733068, 18.09820248733068, 18.09820248733068, 18.09820248733068, 18.09820248733068, 18.09820248733068, 18.09820248733068, 18.09820248733068, 18.09820248733068, 18.09820248733068, 18.09820248733068, 18.09820248733068, 18.09820248733068, 18.09820248733068, 18.09820248733068, 18.09820248733068, 18.09820248733068, 18.09820248733068, 18.09820248733068, 18.09820248733068, 18.09820248733068, 18.09820248733068, 18.09820248733068, 18.09820248733068, 18.09820248733068, 18.09820248733068, 18.09820248733068, 18.09820248733068, 18.09820248733068, 18.09820248733068, 18.09820248733068, 18.09820248733068, 18.09820248733068, 18.09820248733068, 18.09820248733068, 18.09820248733068, 18.09820248733068, 18.09820248733068, 18.09820248733068, 18.09820248733068, 18.09820248733068, 18.09820248733068, 18.09820248733068, 18.09820248733068, 18.09820248733068, 18.09820248733068, 18.09820248733068, 18.09820248733068, 18.09820248733068, 18.09820248733068, 18.09820248733068, 18.09820248733068, 18.09820248733068, 18.09820248733068, 18.09820248733068, 18.09820248733068, 18.09820248733068, 18.09820248733068, 18.09820248733068, 18.09820248733068, 18.09820248733068, 18.09820248733068, 18.09820248733068, 18.09820248733068, 18.09820248733068, 18.09820248733068, 18.09820248733068, 18.09820248733068, 18.09820248733068, 18.09820248733068, 18.09820248733068, 18.09820248733068, 18.09820248733068, 18.09820248733068, 18.09820248733068, 18.09820248733068, 18.09820248733068, 18.09820248733068, 18.09820248733068, 18.09820248733068, 18.09820248733068, 18.09820248733068, 18.09820248733068, 18.09820248733068, 18.09820248733068, 18.09820248733068, 18.09820248733068, 18.09820248733068, 18.09820248733068, 18.09820248733068, 18.09820248733068, 18.09820248733068, 18.09820248733068, 18.09820248733068, 18.09820248733068, 18.09820248733068, 18.09820248733068, 18.09820248733068, 18.09820248733068, 18.09820248733068, 18.09820248733068, 18.09820248733068, 18.09820248733068, 18.09820248733068, 18.09820248733068, 18.09820248733068, 18.09820248733068, 18.09820248733068, 18.09820248733068, 18.09820248733068, 18.09820248733068, 18.09820248733068, 18.09820248733068, 18.09820248733068, 18.09820248733068, 18.09820248733068, 18.09820248733068, 18.09820248733068, 18.09820248733068, 18.09820248733068, 18.09820248733068, 18.09820248733068, 18.09820248733068, 18.09820248733068, 18.09820248733068, 18.09820248733068, 18.09820248733068, 18.09820248733068, 18.09820248733068, 18.09820248733068, 18.09820248733068, 18.09820248733068, 18.09820248733068, 18.09820248733068, 18.09820248733068, 18.09820248733068, 18.09820248733068, 18.09820248733068, 18.09820248733068, 18.09820248733068, 18.09820248733068, 18.09820248733068, 18.09820248733068, 18.09820248733068, 18.09820248733068, 18.09820248733068, 18.09820248733068, 18.09820248733068, 18.09820248733068, 18.09820248733068, 18.09820248733068, 18.09820248733068, 18.09820248733068, 18.09820248733068, 18.09820248733068, 18.09820248733068, 18.09820248733068, 18.09820248733068, 18.09820248733068, 18.09820248733068, 18.09820248733068, 18.09820248733068, 18.09820248733068, 18.09820248733068, 18.09820248733068, 18.09820248733068, 18.09820248733068, 18.09820248733068, 18.09820248733068, 18.09820248733068, 18.09820248733068, 18.09820248733068, 18.09820248733068, 18.09820248733068, 18.09820248733068, 18.09820248733068, 18.09820248733068, 18.09820248733068, 18.09820248733068, 18.09820248733068, 18.09820248733068, 18.09820248733068, 18.09820248733068, 18.09820248733068, 18.09820248733068, 18.09820248733068, 18.09820248733068, 18.09820248733068, 18.09820248733068, 18.09820248733068, 18.09820248733068, 18.09820248733068, 18.09820248733068, 18.09820248733068, 18.09820248733068, 18.09820248733068, 18.09820248733068, 18.09820248733068, 18.09820248733068, 18.09820248733068, 18.09820248733068, 18.09820248733068, 18.09820248733068, 18.09820248733068, 18.09820248733068, 18.09820248733068, 18.09820248733068, 18.09820248733068, 18.09820248733068, 18.09820248733068, 18.09820248733068, 18.09820248733068, 18.09820248733068, 18.09820248733068, 18.09820248733068, 18.09820248733068, 18.09820248733068, 18.09820248733068, 18.09820248733068, 18.09820248733068, 18.09820248733068, 18.09820248733068, 18.09820248733068, 18.09820248733068, 18.09820248733068, 18.09820248733068, 18.09820248733068, 18.09820248733068, 18.09820248733068, 18.09820248733068, 18.09820248733068, 18.09820248733068, 18.09820248733068, 18.09820248733068, 18.09820248733068, 18.09820248733068, 18.09820248733068, 18.09820248733068, 18.09820248733068, 18.09820248733068, 18.09820248733068, 18.09820248733068, 18.09820248733068, 18.09820248733068, 18.09820248733068, 18.09820248733068, 18.09820248733068, 18.09820248733068, 18.09820248733068, 18.09820248733068, 18.09820248733068, 18.09820248733068, 18.09820248733068, 18.09820248733068, 18.09820248733068, 18.09820248733068, 18.09820248733068, 18.09820248733068, 18.09820248733068, 18.09820248733068, 18.09820248733068, 18.09820248733068, 18.09820248733068, 18.09820248733068, 18.09820248733068, 18.09820248733068, 18.09820248733068, 18.09820248733068, 18.09820248733068, 18.09820248733068, 18.09820248733068, 18.09820248733068, 18.09820248733068, 18.09820248733068, 18.09820248733068, 18.09820248733068, 18.09820248733068, 18.09820248733068, 18.09820248733068, 18.09820248733068, 18.09820248733068, 18.09820248733068, 18.09820248733068, 18.09820248733068, 18.09820248733068, 18.09820248733068, 18.09820248733068, 18.09820248733068, 18.09820248733068, 18.09820248733068, 18.09820248733068, 18.09820248733068, 18.09820248733068, 18.09820248733068, 18.09820248733068, 18.09820248733068, 18.09820248733068, 18.09820248733068, 18.09820248733068, 18.09820248733068, 18.09820248733068, 18.09820248733068, 18.09820248733068, 18.09820248733068, 18.09820248733068, 18.09820248733068, 18.09820248733068, 18.09820248733068, 18.09820248733068, 18.09820248733068, 18.09820248733068, 18.09820248733068, 18.09820248733068, 18.09820248733068, 18.09820248733068, 18.09820248733068, 18.09820248733068, 18.09820248733068, 18.09820248733068, 18.09820248733068, 18.09820248733068, 18.09820248733068, 18.09820248733068, 18.09820248733068, 18.09820248733068, 18.09820248733068, 18.09820248733068, 18.09820248733068, 18.09820248733068, 18.09820248733068, 18.09820248733068, 18.09820248733068, 18.09820248733068, 18.09820248733068, 18.09820248733068, 18.09820248733068, 18.09820248733068, 18.09820248733068, 18.09820248733068, 18.09820248733068, 18.09820248733068, 18.09820248733068, 18.09820248733068, 18.09820248733068, 18.09820248733068, 18.09820248733068, 18.09820248733068, 18.09820248733068, 18.09820248733068, 18.09820248733068, 18.09820248733068, 18.09820248733068, 18.09820248733068, 18.09820248733068, 18.09820248733068, 18.09820248733068, 18.09820248733068, 18.09820248733068, 18.09820248733068, 18.09820248733068, 18.09820248733068, 18.09820248733068, 18.09820248733068, 18.09820248733068, 18.09820248733068, 18.09820248733068, 18.09820248733068, 18.09820248733068, 18.09820248733068, 18.09820248733068, 18.09820248733068, 18.09820248733068, 18.09820248733068, 18.09820248733068, 18.09820248733068, 18.09820248733068, 18.09820248733068, 18.09820248733068, 18.09820248733068, 18.09820248733068, 18.09820248733068, 18.09820248733068, 18.09820248733068, 18.09820248733068, 18.09820248733068, 18.09820248733068, 18.09820248733068, 18.09820248733068, 18.09820248733068, 18.09820248733068, 18.09820248733068, 18.09820248733068, 18.09820248733068, 18.09820248733068, 18.09820248733068, 18.09820248733068, 18.09820248733068, 18.09820248733068, 18.09820248733068, 18.09820248733068, 18.09820248733068, 18.09820248733068, 18.09820248733068, 18.09820248733068, 18.09820248733068, 18.09820248733068, 18.09820248733068, 18.09820248733068, 18.09820248733068, 18.09820248733068, 18.09820248733068, 18.09820248733068, 18.09820248733068, 18.09820248733068, 18.09820248733068, 18.09820248733068, 18.09820248733068, 18.09820248733068, 18.09820248733068, 18.09820248733068, 18.09820248733068, 18.09820248733068, 18.09820248733068, 18.09820248733068, 18.09820248733068, 18.09820248733068, 18.09820248733068, 18.09820248733068, 18.09820248733068, 18.09820248733068, 18.09820248733068, 18.09820248733068, 18.09820248733068, 18.09820248733068, 18.09820248733068, 18.09820248733068, 18.09820248733068, 18.09820248733068, 18.09820248733068, 18.09820248733068, 18.09820248733068, 18.09820248733068, 18.09820248733068, 18.09820248733068, 18.09820248733068, 18.09820248733068, 18.09820248733068, 18.09820248733068, 18.09820248733068, 18.09820248733068, 18.09820248733068, 18.09820248733068, 18.09820248733068, 18.09820248733068, 18.09820248733068, 18.09820248733068, 18.09820248733068, 18.09820248733068, 18.09820248733068, 18.09820248733068, 18.09820248733068, 18.09820248733068, 18.09820248733068, 18.09820248733068, 18.09820248733068, 18.09820248733068, 18.09820248733068, 18.09820248733068, 18.09820248733068, 18.09820248733068, 18.09820248733068, 18.09820248733068, 18.09820248733068, 18.09820248733068, 18.09820248733068, 18.09820248733068, 18.09820248733068, 18.09820248733068, 18.09820248733068, 18.09820248733068, 18.09820248733068, 18.09820248733068, 18.09820248733068, 18.09820248733068, 18.09820248733068, 18.09820248733068, 18.09820248733068, 18.09820248733068, 18.09820248733068, 18.09820248733068, 18.09820248733068, 18.09820248733068, 18.09820248733068, 18.09820248733068, 18.09820248733068, 18.09820248733068, 18.09820248733068, 18.09820248733068, 18.09820248733068, 18.09820248733068, 18.09820248733068, 18.09820248733068, 18.09820248733068, 18.09820248733068, 18.09820248733068, 18.09820248733068, 18.09820248733068, 18.09820248733068, 18.09820248733068, 18.09820248733068, 18.09820248733068, 18.09820248733068, 18.09820248733068, 18.09820248733068, 18.09820248733068, 18.09820248733068, 18.09820248733068, 18.09820248733068, 18.09820248733068, 18.09820248733068, 18.09820248733068, 18.09820248733068, 18.09820248733068, 18.09820248733068, 18.09820248733068, 18.09820248733068, 18.09820248733068, 18.09820248733068, 18.09820248733068, 18.09820248733068, 18.09820248733068, 18.09820248733068, 18.09820248733068, 18.09820248733068, 18.09820248733068, 18.09820248733068, 18.09820248733068, 18.09820248733068, 18.09820248733068, 18.09820248733068, 18.09820248733068, 18.09820248733068, 18.09820248733068, 18.09820248733068, 18.09820248733068, 18.09820248733068, 18.09820248733068, 18.09820248733068, 18.09820248733068, 18.09820248733068, 18.09820248733068, 18.09820248733068, 18.09820248733068, 18.09820248733068, 18.09820248733068, 18.09820248733068, 18.09820248733068, 18.09820248733068, 18.09820248733068, 18.09820248733068, 18.09820248733068, 18.09820248733068, 18.09820248733068, 18.09820248733068, 18.09820248733068, 18.09820248733068, 18.09820248733068, 18.09820248733068, 18.09820248733068, 18.09820248733068, 18.09820248733068, 18.09820248733068, 18.09820248733068, 18.09820248733068, 18.09820248733068, 18.09820248733068, 18.09820248733068, 18.09820248733068, 18.09820248733068, 18.09820248733068, 18.09820248733068, 18.09820248733068, 18.09820248733068, 18.09820248733068, 18.09820248733068, 18.09820248733068, 18.09820248733068, 18.09820248733068, 18.09820248733068, 18.09820248733068, 18.09820248733068, 18.09820248733068, 18.09820248733068, 18.09820248733068, 18.09820248733068, 18.09820248733068, 18.09820248733068, 18.09820248733068, 18.09820248733068, 18.09820248733068, 18.09820248733068, 18.09820248733068, 18.09820248733068, 18.09820248733068, 18.09820248733068, 18.09820248733068, 18.09820248733068, 18.09820248733068, 18.09820248733068, 18.09820248733068, 18.09820248733068, 18.09820248733068, 18.09820248733068, 18.09820248733068, 18.09820248733068, 18.09820248733068, 18.09820248733068, 18.09820248733068, 18.09820248733068, 18.09820248733068, 18.09820248733068, 18.09820248733068, 18.09820248733068, 18.09820248733068, 18.09820248733068, 18.09820248733068, 18.09820248733068, 18.09820248733068, 18.09820248733068, 18.09820248733068, 18.09820248733068, 18.09820248733068, 18.09820248733068, 18.09820248733068, 18.09820248733068, 18.09820248733068, 18.09820248733068, 18.09820248733068, 18.09820248733068, 18.09820248733068, 18.09820248733068, 18.09820248733068, 18.09820248733068, 18.09820248733068, 18.09820248733068, 18.09820248733068, 18.09820248733068, 18.09820248733068, 18.09820248733068, 18.09820248733068, 18.09820248733068, 18.09820248733068, 18.09820248733068, 18.09820248733068, 18.09820248733068, 18.09820248733068, 18.09820248733068, 18.09820248733068, 18.09820248733068, 18.09820248733068, 18.09820248733068, 18.09820248733068, 18.09820248733068, 18.09820248733068, 18.09820248733068, 18.09820248733068, 18.09820248733068, 18.09820248733068, 18.09820248733068, 18.09820248733068, 18.09820248733068, 18.09820248733068, 18.09820248733068, 18.09820248733068, 18.09820248733068, 18.09820248733068, 18.09820248733068, 18.09820248733068, 18.09820248733068, 18.09820248733068, 18.09820248733068, 18.09820248733068, 18.09820248733068, 18.09820248733068, 18.09820248733068, 18.09820248733068, 18.09820248733068, 18.09820248733068, 18.09820248733068, 18.09820248733068, 18.09820248733068, 18.09820248733068, 18.09820248733068, 18.09820248733068, 18.09820248733068, 18.09820248733068, 18.09820248733068, 18.09820248733068, 18.09820248733068, 18.09820248733068, 18.09820248733068, 18.09820248733068, 18.09820248733068, 18.09820248733068, 18.09820248733068, 18.09820248733068, 18.09820248733068, 18.09820248733068, 18.09820248733068, 18.09820248733068, 18.09820248733068, 18.09820248733068, 18.09820248733068, 18.09820248733068, 18.09820248733068, 18.09820248733068, 18.09820248733068, 18.09820248733068, 18.09820248733068, 18.09820248733068, 18.09820248733068, 18.09820248733068, 18.09820248733068, 18.09820248733068, 18.09820248733068, 18.09820248733068, 18.09820248733068, 18.09820248733068, 18.09820248733068, 18.09820248733068, 18.09820248733068, 18.09820248733068], \"yaxis\": \"y\"}],\n",
              "                        {\"legend\": {\"tracegroupgap\": 0}, \"template\": {\"data\": {\"bar\": [{\"error_x\": {\"color\": \"#2a3f5f\"}, \"error_y\": {\"color\": \"#2a3f5f\"}, \"marker\": {\"line\": {\"color\": \"#E5ECF6\", \"width\": 0.5}}, \"type\": \"bar\"}], \"barpolar\": [{\"marker\": {\"line\": {\"color\": \"#E5ECF6\", \"width\": 0.5}}, \"type\": \"barpolar\"}], \"carpet\": [{\"aaxis\": {\"endlinecolor\": \"#2a3f5f\", \"gridcolor\": \"white\", \"linecolor\": \"white\", \"minorgridcolor\": \"white\", \"startlinecolor\": \"#2a3f5f\"}, \"baxis\": {\"endlinecolor\": \"#2a3f5f\", \"gridcolor\": \"white\", \"linecolor\": \"white\", \"minorgridcolor\": \"white\", \"startlinecolor\": \"#2a3f5f\"}, \"type\": \"carpet\"}], \"choropleth\": [{\"colorbar\": {\"outlinewidth\": 0, \"ticks\": \"\"}, \"type\": \"choropleth\"}], \"contour\": [{\"colorbar\": {\"outlinewidth\": 0, \"ticks\": \"\"}, \"colorscale\": [[0.0, \"#0d0887\"], [0.1111111111111111, \"#46039f\"], [0.2222222222222222, \"#7201a8\"], [0.3333333333333333, \"#9c179e\"], [0.4444444444444444, \"#bd3786\"], [0.5555555555555556, \"#d8576b\"], [0.6666666666666666, \"#ed7953\"], [0.7777777777777778, \"#fb9f3a\"], [0.8888888888888888, \"#fdca26\"], [1.0, \"#f0f921\"]], \"type\": \"contour\"}], \"contourcarpet\": [{\"colorbar\": {\"outlinewidth\": 0, \"ticks\": \"\"}, \"type\": \"contourcarpet\"}], \"heatmap\": [{\"colorbar\": {\"outlinewidth\": 0, \"ticks\": \"\"}, \"colorscale\": [[0.0, \"#0d0887\"], [0.1111111111111111, \"#46039f\"], [0.2222222222222222, \"#7201a8\"], [0.3333333333333333, \"#9c179e\"], [0.4444444444444444, \"#bd3786\"], [0.5555555555555556, \"#d8576b\"], [0.6666666666666666, \"#ed7953\"], [0.7777777777777778, \"#fb9f3a\"], [0.8888888888888888, \"#fdca26\"], [1.0, \"#f0f921\"]], \"type\": \"heatmap\"}], \"heatmapgl\": [{\"colorbar\": {\"outlinewidth\": 0, \"ticks\": \"\"}, \"colorscale\": [[0.0, \"#0d0887\"], [0.1111111111111111, \"#46039f\"], [0.2222222222222222, \"#7201a8\"], [0.3333333333333333, \"#9c179e\"], [0.4444444444444444, \"#bd3786\"], [0.5555555555555556, \"#d8576b\"], [0.6666666666666666, \"#ed7953\"], [0.7777777777777778, \"#fb9f3a\"], [0.8888888888888888, \"#fdca26\"], [1.0, \"#f0f921\"]], \"type\": \"heatmapgl\"}], \"histogram\": [{\"marker\": {\"colorbar\": {\"outlinewidth\": 0, \"ticks\": \"\"}}, \"type\": \"histogram\"}], \"histogram2d\": [{\"colorbar\": {\"outlinewidth\": 0, \"ticks\": \"\"}, \"colorscale\": [[0.0, \"#0d0887\"], [0.1111111111111111, \"#46039f\"], [0.2222222222222222, \"#7201a8\"], [0.3333333333333333, \"#9c179e\"], [0.4444444444444444, \"#bd3786\"], [0.5555555555555556, \"#d8576b\"], [0.6666666666666666, \"#ed7953\"], [0.7777777777777778, \"#fb9f3a\"], [0.8888888888888888, \"#fdca26\"], [1.0, \"#f0f921\"]], \"type\": \"histogram2d\"}], \"histogram2dcontour\": [{\"colorbar\": {\"outlinewidth\": 0, \"ticks\": \"\"}, \"colorscale\": [[0.0, \"#0d0887\"], [0.1111111111111111, \"#46039f\"], [0.2222222222222222, \"#7201a8\"], [0.3333333333333333, \"#9c179e\"], [0.4444444444444444, \"#bd3786\"], [0.5555555555555556, \"#d8576b\"], [0.6666666666666666, \"#ed7953\"], [0.7777777777777778, \"#fb9f3a\"], [0.8888888888888888, \"#fdca26\"], [1.0, \"#f0f921\"]], \"type\": \"histogram2dcontour\"}], \"mesh3d\": [{\"colorbar\": {\"outlinewidth\": 0, \"ticks\": \"\"}, \"type\": \"mesh3d\"}], \"parcoords\": [{\"line\": {\"colorbar\": {\"outlinewidth\": 0, \"ticks\": \"\"}}, \"type\": \"parcoords\"}], \"pie\": [{\"automargin\": true, \"type\": \"pie\"}], \"scatter\": [{\"marker\": {\"colorbar\": {\"outlinewidth\": 0, \"ticks\": \"\"}}, \"type\": \"scatter\"}], \"scatter3d\": [{\"line\": {\"colorbar\": {\"outlinewidth\": 0, \"ticks\": \"\"}}, \"marker\": {\"colorbar\": {\"outlinewidth\": 0, \"ticks\": \"\"}}, \"type\": \"scatter3d\"}], \"scattercarpet\": [{\"marker\": {\"colorbar\": {\"outlinewidth\": 0, \"ticks\": \"\"}}, \"type\": \"scattercarpet\"}], \"scattergeo\": [{\"marker\": {\"colorbar\": {\"outlinewidth\": 0, \"ticks\": \"\"}}, \"type\": \"scattergeo\"}], \"scattergl\": [{\"marker\": {\"colorbar\": {\"outlinewidth\": 0, \"ticks\": \"\"}}, \"type\": \"scattergl\"}], \"scattermapbox\": [{\"marker\": {\"colorbar\": {\"outlinewidth\": 0, \"ticks\": \"\"}}, \"type\": \"scattermapbox\"}], \"scatterpolar\": [{\"marker\": {\"colorbar\": {\"outlinewidth\": 0, \"ticks\": \"\"}}, \"type\": \"scatterpolar\"}], \"scatterpolargl\": [{\"marker\": {\"colorbar\": {\"outlinewidth\": 0, \"ticks\": \"\"}}, \"type\": \"scatterpolargl\"}], \"scatterternary\": [{\"marker\": {\"colorbar\": {\"outlinewidth\": 0, \"ticks\": \"\"}}, \"type\": \"scatterternary\"}], \"surface\": [{\"colorbar\": {\"outlinewidth\": 0, \"ticks\": \"\"}, \"colorscale\": [[0.0, \"#0d0887\"], [0.1111111111111111, \"#46039f\"], [0.2222222222222222, \"#7201a8\"], [0.3333333333333333, \"#9c179e\"], [0.4444444444444444, \"#bd3786\"], [0.5555555555555556, \"#d8576b\"], [0.6666666666666666, \"#ed7953\"], [0.7777777777777778, \"#fb9f3a\"], [0.8888888888888888, \"#fdca26\"], [1.0, \"#f0f921\"]], \"type\": \"surface\"}], \"table\": [{\"cells\": {\"fill\": {\"color\": \"#EBF0F8\"}, \"line\": {\"color\": \"white\"}}, \"header\": {\"fill\": {\"color\": \"#C8D4E3\"}, \"line\": {\"color\": \"white\"}}, \"type\": \"table\"}]}, \"layout\": {\"annotationdefaults\": {\"arrowcolor\": \"#2a3f5f\", \"arrowhead\": 0, \"arrowwidth\": 1}, \"coloraxis\": {\"colorbar\": {\"outlinewidth\": 0, \"ticks\": \"\"}}, \"colorscale\": {\"diverging\": [[0, \"#8e0152\"], [0.1, \"#c51b7d\"], [0.2, \"#de77ae\"], [0.3, \"#f1b6da\"], [0.4, \"#fde0ef\"], [0.5, \"#f7f7f7\"], [0.6, \"#e6f5d0\"], [0.7, \"#b8e186\"], [0.8, \"#7fbc41\"], [0.9, \"#4d9221\"], [1, \"#276419\"]], \"sequential\": [[0.0, \"#0d0887\"], [0.1111111111111111, \"#46039f\"], [0.2222222222222222, \"#7201a8\"], [0.3333333333333333, \"#9c179e\"], [0.4444444444444444, \"#bd3786\"], [0.5555555555555556, \"#d8576b\"], [0.6666666666666666, \"#ed7953\"], [0.7777777777777778, \"#fb9f3a\"], [0.8888888888888888, \"#fdca26\"], [1.0, \"#f0f921\"]], \"sequentialminus\": [[0.0, \"#0d0887\"], [0.1111111111111111, \"#46039f\"], [0.2222222222222222, \"#7201a8\"], [0.3333333333333333, \"#9c179e\"], [0.4444444444444444, \"#bd3786\"], [0.5555555555555556, \"#d8576b\"], [0.6666666666666666, \"#ed7953\"], [0.7777777777777778, \"#fb9f3a\"], [0.8888888888888888, \"#fdca26\"], [1.0, \"#f0f921\"]]}, \"colorway\": [\"#636efa\", \"#EF553B\", \"#00cc96\", \"#ab63fa\", \"#FFA15A\", \"#19d3f3\", \"#FF6692\", \"#B6E880\", \"#FF97FF\", \"#FECB52\"], \"font\": {\"color\": \"#2a3f5f\"}, \"geo\": {\"bgcolor\": \"white\", \"lakecolor\": \"white\", \"landcolor\": \"#E5ECF6\", \"showlakes\": true, \"showland\": true, \"subunitcolor\": \"white\"}, \"hoverlabel\": {\"align\": \"left\"}, \"hovermode\": \"closest\", \"mapbox\": {\"style\": \"light\"}, \"paper_bgcolor\": \"white\", \"plot_bgcolor\": \"#E5ECF6\", \"polar\": {\"angularaxis\": {\"gridcolor\": \"white\", \"linecolor\": \"white\", \"ticks\": \"\"}, \"bgcolor\": \"#E5ECF6\", \"radialaxis\": {\"gridcolor\": \"white\", \"linecolor\": \"white\", \"ticks\": \"\"}}, \"scene\": {\"xaxis\": {\"backgroundcolor\": \"#E5ECF6\", \"gridcolor\": \"white\", \"gridwidth\": 2, \"linecolor\": \"white\", \"showbackground\": true, \"ticks\": \"\", \"zerolinecolor\": \"white\"}, \"yaxis\": {\"backgroundcolor\": \"#E5ECF6\", \"gridcolor\": \"white\", \"gridwidth\": 2, \"linecolor\": \"white\", \"showbackground\": true, \"ticks\": \"\", \"zerolinecolor\": \"white\"}, \"zaxis\": {\"backgroundcolor\": \"#E5ECF6\", \"gridcolor\": \"white\", \"gridwidth\": 2, \"linecolor\": \"white\", \"showbackground\": true, \"ticks\": \"\", \"zerolinecolor\": \"white\"}}, \"shapedefaults\": {\"line\": {\"color\": \"#2a3f5f\"}}, \"ternary\": {\"aaxis\": {\"gridcolor\": \"white\", \"linecolor\": \"white\", \"ticks\": \"\"}, \"baxis\": {\"gridcolor\": \"white\", \"linecolor\": \"white\", \"ticks\": \"\"}, \"bgcolor\": \"#E5ECF6\", \"caxis\": {\"gridcolor\": \"white\", \"linecolor\": \"white\", \"ticks\": \"\"}}, \"title\": {\"x\": 0.05}, \"xaxis\": {\"automargin\": true, \"gridcolor\": \"white\", \"linecolor\": \"white\", \"ticks\": \"\", \"title\": {\"standoff\": 15}, \"zerolinecolor\": \"white\", \"zerolinewidth\": 2}, \"yaxis\": {\"automargin\": true, \"gridcolor\": \"white\", \"linecolor\": \"white\", \"ticks\": \"\", \"title\": {\"standoff\": 15}, \"zerolinecolor\": \"white\", \"zerolinewidth\": 2}}}, \"title\": {\"text\": \"Fungsi Objektif\"}, \"xaxis\": {\"anchor\": \"y\", \"domain\": [0.0, 1.0], \"title\": {\"text\": \"x\"}}, \"yaxis\": {\"anchor\": \"x\", \"domain\": [0.0, 1.0], \"title\": {\"text\": \"y\"}}},\n",
              "                        {\"responsive\": true}\n",
              "                    ).then(function(){\n",
              "                            \n",
              "var gd = document.getElementById('a3f87dab-9a85-4304-97fa-77cc6b5b590a');\n",
              "var x = new MutationObserver(function (mutations, observer) {{\n",
              "        var display = window.getComputedStyle(gd).display;\n",
              "        if (!display || display === 'none') {{\n",
              "            console.log([gd, 'removed!']);\n",
              "            Plotly.purge(gd);\n",
              "            observer.disconnect();\n",
              "        }}\n",
              "}});\n",
              "\n",
              "// Listen for the removal of the full notebook cells\n",
              "var notebookContainer = gd.closest('#notebook-container');\n",
              "if (notebookContainer) {{\n",
              "    x.observe(notebookContainer, {childList: true});\n",
              "}}\n",
              "\n",
              "// Listen for the clearing of the current output cell\n",
              "var outputEl = gd.closest('.output');\n",
              "if (outputEl) {{\n",
              "    x.observe(outputEl, {childList: true});\n",
              "}}\n",
              "\n",
              "                        })\n",
              "                };\n",
              "                \n",
              "            </script>\n",
              "        </div>\n",
              "</body>\n",
              "</html>"
            ]
          },
          "metadata": {}
        }
      ]
    },
    {
      "cell_type": "markdown",
      "metadata": {
        "id": "59pamcjY1jrL"
      },
      "source": [
        "## Latihan"
      ]
    },
    {
      "cell_type": "markdown",
      "metadata": {
        "id": "r7dUjhzB1jrM"
      },
      "source": [
        "Diberikan Dataset"
      ]
    },
    {
      "cell_type": "code",
      "metadata": {
        "colab": {
          "base_uri": "https://localhost:8080/",
          "height": 234
        },
        "id": "juua_cOE1jrM",
        "outputId": "1f9ac908-9f73-4896-c5a5-21c97c273430"
      },
      "source": [
        "data=pd.DataFrame({\"Province Name\":[\"Jakarta\", \"Jawa Tengah\", \"Bali\", \"Sumatera Selatan\", \"Kalimantan Timur\", \"Maluku\"], \n",
        "                   \"Confirmed\":[1231, 1452, 789, 201, 78, 45], \n",
        "                   \"Death\":[10, 35, 8, 2, 1, 0]})\n",
        "data_used=data[[\"Confirmed\", \"Death\"]]\n",
        "data_used"
      ],
      "execution_count": 25,
      "outputs": [
        {
          "output_type": "execute_result",
          "data": {
            "text/html": [
              "<div>\n",
              "<style scoped>\n",
              "    .dataframe tbody tr th:only-of-type {\n",
              "        vertical-align: middle;\n",
              "    }\n",
              "\n",
              "    .dataframe tbody tr th {\n",
              "        vertical-align: top;\n",
              "    }\n",
              "\n",
              "    .dataframe thead th {\n",
              "        text-align: right;\n",
              "    }\n",
              "</style>\n",
              "<table border=\"1\" class=\"dataframe\">\n",
              "  <thead>\n",
              "    <tr style=\"text-align: right;\">\n",
              "      <th></th>\n",
              "      <th>Confirmed</th>\n",
              "      <th>Death</th>\n",
              "    </tr>\n",
              "  </thead>\n",
              "  <tbody>\n",
              "    <tr>\n",
              "      <th>0</th>\n",
              "      <td>1231</td>\n",
              "      <td>10</td>\n",
              "    </tr>\n",
              "    <tr>\n",
              "      <th>1</th>\n",
              "      <td>1452</td>\n",
              "      <td>35</td>\n",
              "    </tr>\n",
              "    <tr>\n",
              "      <th>2</th>\n",
              "      <td>789</td>\n",
              "      <td>8</td>\n",
              "    </tr>\n",
              "    <tr>\n",
              "      <th>3</th>\n",
              "      <td>201</td>\n",
              "      <td>2</td>\n",
              "    </tr>\n",
              "    <tr>\n",
              "      <th>4</th>\n",
              "      <td>78</td>\n",
              "      <td>1</td>\n",
              "    </tr>\n",
              "    <tr>\n",
              "      <th>5</th>\n",
              "      <td>45</td>\n",
              "      <td>0</td>\n",
              "    </tr>\n",
              "  </tbody>\n",
              "</table>\n",
              "</div>"
            ],
            "text/plain": [
              "   Confirmed  Death\n",
              "0       1231     10\n",
              "1       1452     35\n",
              "2        789      8\n",
              "3        201      2\n",
              "4         78      1\n",
              "5         45      0"
            ]
          },
          "metadata": {},
          "execution_count": 25
        }
      ]
    },
    {
      "cell_type": "code",
      "metadata": {
        "id": "gxtZp6ud1jrM"
      },
      "source": [
        "# Cluster the dataset above using Fuzzy C-Means clustering into 2 cluster.\n",
        "\n",
        "label_hasil, fungsi_objektif, iterasi=FCM(data_used)"
      ],
      "execution_count": 26,
      "outputs": []
    },
    {
      "cell_type": "code",
      "metadata": {
        "id": "9F7XdV5YXJd9",
        "colab": {
          "base_uri": "https://localhost:8080/"
        },
        "outputId": "6da6aaf9-5861-4181-bd82-05669bf53cf1"
      },
      "source": [
        "label_hasil"
      ],
      "execution_count": 27,
      "outputs": [
        {
          "output_type": "execute_result",
          "data": {
            "text/plain": [
              "[1, 1, 1, 0, 0, 0]"
            ]
          },
          "metadata": {},
          "execution_count": 27
        }
      ]
    },
    {
      "cell_type": "code",
      "metadata": {
        "id": "kOJ78bZtXJd-",
        "colab": {
          "base_uri": "https://localhost:8080/"
        },
        "outputId": "a40693a6-48b8-4684-ab8d-80f47bc24dc6"
      },
      "source": [
        "fungsi_objektif"
      ],
      "execution_count": 28,
      "outputs": [
        {
          "output_type": "execute_result",
          "data": {
            "text/plain": [
              "[0,\n",
              " 4163.620708174872,\n",
              " 4793.724816900847,\n",
              " 4579.7048765750205,\n",
              " 4614.198292077401,\n",
              " 4606.1115639960135,\n",
              " 4607.69039489173,\n",
              " 4607.35315669982,\n",
              " 4607.422019207559,\n",
              " 4607.407639345087,\n",
              " 4607.410608683927,\n",
              " 4607.409992096761,\n",
              " 4607.410119774258,\n",
              " 4607.410093298935,\n",
              " 4607.410098785048,\n",
              " 4607.4100976478385,\n",
              " 4607.410097883527,\n",
              " 4607.410097834676,\n",
              " 4607.410097844802,\n",
              " 4607.410097842702,\n",
              " 4607.410097843138,\n",
              " 4607.410097843048,\n",
              " 4607.410097843067,\n",
              " 4607.410097843062,\n",
              " 4607.410097843063,\n",
              " 4607.410097843063,\n",
              " 4607.410097843063,\n",
              " 4607.410097843063,\n",
              " 4607.410097843063,\n",
              " 4607.410097843063,\n",
              " 4607.410097843063,\n",
              " 4607.410097843063,\n",
              " 4607.410097843063,\n",
              " 4607.410097843063,\n",
              " 4607.410097843063,\n",
              " 4607.410097843063,\n",
              " 4607.410097843063,\n",
              " 4607.410097843063,\n",
              " 4607.410097843063,\n",
              " 4607.410097843063,\n",
              " 4607.410097843063,\n",
              " 4607.410097843063,\n",
              " 4607.410097843063,\n",
              " 4607.410097843063,\n",
              " 4607.410097843063,\n",
              " 4607.410097843063,\n",
              " 4607.410097843063,\n",
              " 4607.410097843063,\n",
              " 4607.410097843063,\n",
              " 4607.410097843063,\n",
              " 4607.410097843063,\n",
              " 4607.410097843063,\n",
              " 4607.410097843063,\n",
              " 4607.410097843063,\n",
              " 4607.410097843063,\n",
              " 4607.410097843063,\n",
              " 4607.410097843063,\n",
              " 4607.410097843063,\n",
              " 4607.410097843063,\n",
              " 4607.410097843063,\n",
              " 4607.410097843063,\n",
              " 4607.410097843063,\n",
              " 4607.410097843063,\n",
              " 4607.410097843063,\n",
              " 4607.410097843063,\n",
              " 4607.410097843063,\n",
              " 4607.410097843063,\n",
              " 4607.410097843063,\n",
              " 4607.410097843063,\n",
              " 4607.410097843063,\n",
              " 4607.410097843063,\n",
              " 4607.410097843063,\n",
              " 4607.410097843063,\n",
              " 4607.410097843063,\n",
              " 4607.410097843063,\n",
              " 4607.410097843063,\n",
              " 4607.410097843063,\n",
              " 4607.410097843063,\n",
              " 4607.410097843063,\n",
              " 4607.410097843063,\n",
              " 4607.410097843063,\n",
              " 4607.410097843063,\n",
              " 4607.410097843063,\n",
              " 4607.410097843063,\n",
              " 4607.410097843063,\n",
              " 4607.410097843063,\n",
              " 4607.410097843063,\n",
              " 4607.410097843063,\n",
              " 4607.410097843063,\n",
              " 4607.410097843063,\n",
              " 4607.410097843063,\n",
              " 4607.410097843063,\n",
              " 4607.410097843063,\n",
              " 4607.410097843063,\n",
              " 4607.410097843063,\n",
              " 4607.410097843063,\n",
              " 4607.410097843063,\n",
              " 4607.410097843063,\n",
              " 4607.410097843063,\n",
              " 4607.410097843063,\n",
              " 4607.410097843063,\n",
              " 4607.410097843063,\n",
              " 4607.410097843063,\n",
              " 4607.410097843063,\n",
              " 4607.410097843063,\n",
              " 4607.410097843063,\n",
              " 4607.410097843063,\n",
              " 4607.410097843063,\n",
              " 4607.410097843063,\n",
              " 4607.410097843063,\n",
              " 4607.410097843063,\n",
              " 4607.410097843063,\n",
              " 4607.410097843063,\n",
              " 4607.410097843063,\n",
              " 4607.410097843063,\n",
              " 4607.410097843063,\n",
              " 4607.410097843063,\n",
              " 4607.410097843063,\n",
              " 4607.410097843063,\n",
              " 4607.410097843063,\n",
              " 4607.410097843063,\n",
              " 4607.410097843063,\n",
              " 4607.410097843063,\n",
              " 4607.410097843063,\n",
              " 4607.410097843063,\n",
              " 4607.410097843063,\n",
              " 4607.410097843063,\n",
              " 4607.410097843063,\n",
              " 4607.410097843063,\n",
              " 4607.410097843063,\n",
              " 4607.410097843063,\n",
              " 4607.410097843063,\n",
              " 4607.410097843063,\n",
              " 4607.410097843063,\n",
              " 4607.410097843063,\n",
              " 4607.410097843063,\n",
              " 4607.410097843063,\n",
              " 4607.410097843063,\n",
              " 4607.410097843063,\n",
              " 4607.410097843063,\n",
              " 4607.410097843063,\n",
              " 4607.410097843063,\n",
              " 4607.410097843063,\n",
              " 4607.410097843063,\n",
              " 4607.410097843063,\n",
              " 4607.410097843063,\n",
              " 4607.410097843063,\n",
              " 4607.410097843063,\n",
              " 4607.410097843063,\n",
              " 4607.410097843063,\n",
              " 4607.410097843063,\n",
              " 4607.410097843063,\n",
              " 4607.410097843063,\n",
              " 4607.410097843063,\n",
              " 4607.410097843063,\n",
              " 4607.410097843063,\n",
              " 4607.410097843063,\n",
              " 4607.410097843063,\n",
              " 4607.410097843063,\n",
              " 4607.410097843063,\n",
              " 4607.410097843063,\n",
              " 4607.410097843063,\n",
              " 4607.410097843063,\n",
              " 4607.410097843063,\n",
              " 4607.410097843063,\n",
              " 4607.410097843063,\n",
              " 4607.410097843063,\n",
              " 4607.410097843063,\n",
              " 4607.410097843063,\n",
              " 4607.410097843063,\n",
              " 4607.410097843063,\n",
              " 4607.410097843063,\n",
              " 4607.410097843063,\n",
              " 4607.410097843063,\n",
              " 4607.410097843063,\n",
              " 4607.410097843063,\n",
              " 4607.410097843063,\n",
              " 4607.410097843063,\n",
              " 4607.410097843063,\n",
              " 4607.410097843063,\n",
              " 4607.410097843063,\n",
              " 4607.410097843063,\n",
              " 4607.410097843063,\n",
              " 4607.410097843063,\n",
              " 4607.410097843063,\n",
              " 4607.410097843063,\n",
              " 4607.410097843063,\n",
              " 4607.410097843063,\n",
              " 4607.410097843063,\n",
              " 4607.410097843063,\n",
              " 4607.410097843063,\n",
              " 4607.410097843063,\n",
              " 4607.410097843063,\n",
              " 4607.410097843063,\n",
              " 4607.410097843063,\n",
              " 4607.410097843063,\n",
              " 4607.410097843063,\n",
              " 4607.410097843063,\n",
              " 4607.410097843063,\n",
              " 4607.410097843063,\n",
              " 4607.410097843063,\n",
              " 4607.410097843063,\n",
              " 4607.410097843063,\n",
              " 4607.410097843063,\n",
              " 4607.410097843063,\n",
              " 4607.410097843063,\n",
              " 4607.410097843063,\n",
              " 4607.410097843063,\n",
              " 4607.410097843063,\n",
              " 4607.410097843063,\n",
              " 4607.410097843063,\n",
              " 4607.410097843063,\n",
              " 4607.410097843063,\n",
              " 4607.410097843063,\n",
              " 4607.410097843063,\n",
              " 4607.410097843063,\n",
              " 4607.410097843063,\n",
              " 4607.410097843063,\n",
              " 4607.410097843063,\n",
              " 4607.410097843063,\n",
              " 4607.410097843063,\n",
              " 4607.410097843063,\n",
              " 4607.410097843063,\n",
              " 4607.410097843063,\n",
              " 4607.410097843063,\n",
              " 4607.410097843063,\n",
              " 4607.410097843063,\n",
              " 4607.410097843063,\n",
              " 4607.410097843063,\n",
              " 4607.410097843063,\n",
              " 4607.410097843063,\n",
              " 4607.410097843063,\n",
              " 4607.410097843063,\n",
              " 4607.410097843063,\n",
              " 4607.410097843063,\n",
              " 4607.410097843063,\n",
              " 4607.410097843063,\n",
              " 4607.410097843063,\n",
              " 4607.410097843063,\n",
              " 4607.410097843063,\n",
              " 4607.410097843063,\n",
              " 4607.410097843063,\n",
              " 4607.410097843063,\n",
              " 4607.410097843063,\n",
              " 4607.410097843063,\n",
              " 4607.410097843063,\n",
              " 4607.410097843063,\n",
              " 4607.410097843063,\n",
              " 4607.410097843063,\n",
              " 4607.410097843063,\n",
              " 4607.410097843063,\n",
              " 4607.410097843063,\n",
              " 4607.410097843063,\n",
              " 4607.410097843063,\n",
              " 4607.410097843063,\n",
              " 4607.410097843063,\n",
              " 4607.410097843063,\n",
              " 4607.410097843063,\n",
              " 4607.410097843063,\n",
              " 4607.410097843063,\n",
              " 4607.410097843063,\n",
              " 4607.410097843063,\n",
              " 4607.410097843063,\n",
              " 4607.410097843063,\n",
              " 4607.410097843063,\n",
              " 4607.410097843063,\n",
              " 4607.410097843063,\n",
              " 4607.410097843063,\n",
              " 4607.410097843063,\n",
              " 4607.410097843063,\n",
              " 4607.410097843063,\n",
              " 4607.410097843063,\n",
              " 4607.410097843063,\n",
              " 4607.410097843063,\n",
              " 4607.410097843063,\n",
              " 4607.410097843063,\n",
              " 4607.410097843063,\n",
              " 4607.410097843063,\n",
              " 4607.410097843063,\n",
              " 4607.410097843063,\n",
              " 4607.410097843063,\n",
              " 4607.410097843063,\n",
              " 4607.410097843063,\n",
              " 4607.410097843063,\n",
              " 4607.410097843063,\n",
              " 4607.410097843063,\n",
              " 4607.410097843063,\n",
              " 4607.410097843063,\n",
              " 4607.410097843063,\n",
              " 4607.410097843063,\n",
              " 4607.410097843063,\n",
              " 4607.410097843063,\n",
              " 4607.410097843063,\n",
              " 4607.410097843063,\n",
              " 4607.410097843063,\n",
              " 4607.410097843063,\n",
              " 4607.410097843063,\n",
              " 4607.410097843063,\n",
              " 4607.410097843063,\n",
              " 4607.410097843063,\n",
              " 4607.410097843063,\n",
              " 4607.410097843063,\n",
              " 4607.410097843063,\n",
              " 4607.410097843063,\n",
              " 4607.410097843063,\n",
              " 4607.410097843063,\n",
              " 4607.410097843063,\n",
              " 4607.410097843063,\n",
              " 4607.410097843063,\n",
              " 4607.410097843063,\n",
              " 4607.410097843063,\n",
              " 4607.410097843063,\n",
              " 4607.410097843063,\n",
              " 4607.410097843063,\n",
              " 4607.410097843063,\n",
              " 4607.410097843063,\n",
              " 4607.410097843063,\n",
              " 4607.410097843063,\n",
              " 4607.410097843063,\n",
              " 4607.410097843063,\n",
              " 4607.410097843063,\n",
              " 4607.410097843063,\n",
              " 4607.410097843063,\n",
              " 4607.410097843063,\n",
              " 4607.410097843063,\n",
              " 4607.410097843063,\n",
              " 4607.410097843063,\n",
              " 4607.410097843063,\n",
              " 4607.410097843063,\n",
              " 4607.410097843063,\n",
              " 4607.410097843063,\n",
              " 4607.410097843063,\n",
              " 4607.410097843063,\n",
              " 4607.410097843063,\n",
              " 4607.410097843063,\n",
              " 4607.410097843063,\n",
              " 4607.410097843063,\n",
              " 4607.410097843063,\n",
              " 4607.410097843063,\n",
              " 4607.410097843063,\n",
              " 4607.410097843063,\n",
              " 4607.410097843063,\n",
              " 4607.410097843063,\n",
              " 4607.410097843063,\n",
              " 4607.410097843063,\n",
              " 4607.410097843063,\n",
              " 4607.410097843063,\n",
              " 4607.410097843063,\n",
              " 4607.410097843063,\n",
              " 4607.410097843063,\n",
              " 4607.410097843063,\n",
              " 4607.410097843063,\n",
              " 4607.410097843063,\n",
              " 4607.410097843063,\n",
              " 4607.410097843063,\n",
              " 4607.410097843063,\n",
              " 4607.410097843063,\n",
              " 4607.410097843063,\n",
              " 4607.410097843063,\n",
              " 4607.410097843063,\n",
              " 4607.410097843063,\n",
              " 4607.410097843063,\n",
              " 4607.410097843063,\n",
              " 4607.410097843063,\n",
              " 4607.410097843063,\n",
              " 4607.410097843063,\n",
              " 4607.410097843063,\n",
              " 4607.410097843063,\n",
              " 4607.410097843063,\n",
              " 4607.410097843063,\n",
              " 4607.410097843063,\n",
              " 4607.410097843063,\n",
              " 4607.410097843063,\n",
              " 4607.410097843063,\n",
              " 4607.410097843063,\n",
              " 4607.410097843063,\n",
              " 4607.410097843063,\n",
              " 4607.410097843063,\n",
              " 4607.410097843063,\n",
              " 4607.410097843063,\n",
              " 4607.410097843063,\n",
              " 4607.410097843063,\n",
              " 4607.410097843063,\n",
              " 4607.410097843063,\n",
              " 4607.410097843063,\n",
              " 4607.410097843063,\n",
              " 4607.410097843063,\n",
              " 4607.410097843063,\n",
              " 4607.410097843063,\n",
              " 4607.410097843063,\n",
              " 4607.410097843063,\n",
              " 4607.410097843063,\n",
              " 4607.410097843063,\n",
              " 4607.410097843063,\n",
              " 4607.410097843063,\n",
              " 4607.410097843063,\n",
              " 4607.410097843063,\n",
              " 4607.410097843063,\n",
              " 4607.410097843063,\n",
              " 4607.410097843063,\n",
              " 4607.410097843063,\n",
              " 4607.410097843063,\n",
              " 4607.410097843063,\n",
              " 4607.410097843063,\n",
              " 4607.410097843063,\n",
              " 4607.410097843063,\n",
              " 4607.410097843063,\n",
              " 4607.410097843063,\n",
              " 4607.410097843063,\n",
              " 4607.410097843063,\n",
              " 4607.410097843063,\n",
              " 4607.410097843063,\n",
              " 4607.410097843063,\n",
              " 4607.410097843063,\n",
              " 4607.410097843063,\n",
              " 4607.410097843063,\n",
              " 4607.410097843063,\n",
              " 4607.410097843063,\n",
              " 4607.410097843063,\n",
              " 4607.410097843063,\n",
              " 4607.410097843063,\n",
              " 4607.410097843063,\n",
              " 4607.410097843063,\n",
              " 4607.410097843063,\n",
              " 4607.410097843063,\n",
              " 4607.410097843063,\n",
              " 4607.410097843063,\n",
              " 4607.410097843063,\n",
              " 4607.410097843063,\n",
              " 4607.410097843063,\n",
              " 4607.410097843063,\n",
              " 4607.410097843063,\n",
              " 4607.410097843063,\n",
              " 4607.410097843063,\n",
              " 4607.410097843063,\n",
              " 4607.410097843063,\n",
              " 4607.410097843063,\n",
              " 4607.410097843063,\n",
              " 4607.410097843063,\n",
              " 4607.410097843063,\n",
              " 4607.410097843063,\n",
              " 4607.410097843063,\n",
              " 4607.410097843063,\n",
              " 4607.410097843063,\n",
              " 4607.410097843063,\n",
              " 4607.410097843063,\n",
              " 4607.410097843063,\n",
              " 4607.410097843063,\n",
              " 4607.410097843063,\n",
              " 4607.410097843063,\n",
              " 4607.410097843063,\n",
              " 4607.410097843063,\n",
              " 4607.410097843063,\n",
              " 4607.410097843063,\n",
              " 4607.410097843063,\n",
              " 4607.410097843063,\n",
              " 4607.410097843063,\n",
              " 4607.410097843063,\n",
              " 4607.410097843063,\n",
              " 4607.410097843063,\n",
              " 4607.410097843063,\n",
              " 4607.410097843063,\n",
              " 4607.410097843063,\n",
              " 4607.410097843063,\n",
              " 4607.410097843063,\n",
              " 4607.410097843063,\n",
              " 4607.410097843063,\n",
              " 4607.410097843063,\n",
              " 4607.410097843063,\n",
              " 4607.410097843063,\n",
              " 4607.410097843063,\n",
              " 4607.410097843063,\n",
              " 4607.410097843063,\n",
              " 4607.410097843063,\n",
              " 4607.410097843063,\n",
              " 4607.410097843063,\n",
              " 4607.410097843063,\n",
              " 4607.410097843063,\n",
              " 4607.410097843063,\n",
              " 4607.410097843063,\n",
              " 4607.410097843063,\n",
              " 4607.410097843063,\n",
              " 4607.410097843063,\n",
              " 4607.410097843063,\n",
              " 4607.410097843063,\n",
              " 4607.410097843063,\n",
              " 4607.410097843063,\n",
              " 4607.410097843063,\n",
              " 4607.410097843063,\n",
              " 4607.410097843063,\n",
              " 4607.410097843063,\n",
              " 4607.410097843063,\n",
              " 4607.410097843063,\n",
              " 4607.410097843063,\n",
              " 4607.410097843063,\n",
              " 4607.410097843063,\n",
              " 4607.410097843063,\n",
              " 4607.410097843063,\n",
              " 4607.410097843063,\n",
              " 4607.410097843063,\n",
              " 4607.410097843063,\n",
              " 4607.410097843063,\n",
              " 4607.410097843063,\n",
              " 4607.410097843063,\n",
              " 4607.410097843063,\n",
              " 4607.410097843063,\n",
              " 4607.410097843063,\n",
              " 4607.410097843063,\n",
              " 4607.410097843063,\n",
              " 4607.410097843063,\n",
              " 4607.410097843063,\n",
              " 4607.410097843063,\n",
              " 4607.410097843063,\n",
              " 4607.410097843063,\n",
              " 4607.410097843063,\n",
              " 4607.410097843063,\n",
              " 4607.410097843063,\n",
              " 4607.410097843063,\n",
              " 4607.410097843063,\n",
              " 4607.410097843063,\n",
              " 4607.410097843063,\n",
              " 4607.410097843063,\n",
              " 4607.410097843063,\n",
              " 4607.410097843063,\n",
              " 4607.410097843063,\n",
              " 4607.410097843063,\n",
              " 4607.410097843063,\n",
              " 4607.410097843063,\n",
              " 4607.410097843063,\n",
              " 4607.410097843063,\n",
              " 4607.410097843063,\n",
              " 4607.410097843063,\n",
              " 4607.410097843063,\n",
              " 4607.410097843063,\n",
              " 4607.410097843063,\n",
              " 4607.410097843063,\n",
              " 4607.410097843063,\n",
              " 4607.410097843063,\n",
              " 4607.410097843063,\n",
              " 4607.410097843063,\n",
              " 4607.410097843063,\n",
              " 4607.410097843063,\n",
              " 4607.410097843063,\n",
              " 4607.410097843063,\n",
              " 4607.410097843063,\n",
              " 4607.410097843063,\n",
              " 4607.410097843063,\n",
              " 4607.410097843063,\n",
              " 4607.410097843063,\n",
              " 4607.410097843063,\n",
              " 4607.410097843063,\n",
              " 4607.410097843063,\n",
              " 4607.410097843063,\n",
              " 4607.410097843063,\n",
              " 4607.410097843063,\n",
              " 4607.410097843063,\n",
              " 4607.410097843063,\n",
              " 4607.410097843063,\n",
              " 4607.410097843063,\n",
              " 4607.410097843063,\n",
              " 4607.410097843063,\n",
              " 4607.410097843063,\n",
              " 4607.410097843063,\n",
              " 4607.410097843063,\n",
              " 4607.410097843063,\n",
              " 4607.410097843063,\n",
              " 4607.410097843063,\n",
              " 4607.410097843063,\n",
              " 4607.410097843063,\n",
              " 4607.410097843063,\n",
              " 4607.410097843063,\n",
              " 4607.410097843063,\n",
              " 4607.410097843063,\n",
              " 4607.410097843063,\n",
              " 4607.410097843063,\n",
              " 4607.410097843063,\n",
              " 4607.410097843063,\n",
              " 4607.410097843063,\n",
              " 4607.410097843063,\n",
              " 4607.410097843063,\n",
              " 4607.410097843063,\n",
              " 4607.410097843063,\n",
              " 4607.410097843063,\n",
              " 4607.410097843063,\n",
              " 4607.410097843063,\n",
              " 4607.410097843063,\n",
              " 4607.410097843063,\n",
              " 4607.410097843063,\n",
              " 4607.410097843063,\n",
              " 4607.410097843063,\n",
              " 4607.410097843063,\n",
              " 4607.410097843063,\n",
              " 4607.410097843063,\n",
              " 4607.410097843063,\n",
              " 4607.410097843063,\n",
              " 4607.410097843063,\n",
              " 4607.410097843063,\n",
              " 4607.410097843063,\n",
              " 4607.410097843063,\n",
              " 4607.410097843063,\n",
              " 4607.410097843063,\n",
              " 4607.410097843063,\n",
              " 4607.410097843063,\n",
              " 4607.410097843063,\n",
              " 4607.410097843063,\n",
              " 4607.410097843063,\n",
              " 4607.410097843063,\n",
              " 4607.410097843063,\n",
              " 4607.410097843063,\n",
              " 4607.410097843063,\n",
              " 4607.410097843063,\n",
              " 4607.410097843063,\n",
              " 4607.410097843063,\n",
              " 4607.410097843063,\n",
              " 4607.410097843063,\n",
              " 4607.410097843063,\n",
              " 4607.410097843063,\n",
              " 4607.410097843063,\n",
              " 4607.410097843063,\n",
              " 4607.410097843063,\n",
              " 4607.410097843063,\n",
              " 4607.410097843063,\n",
              " 4607.410097843063,\n",
              " 4607.410097843063,\n",
              " 4607.410097843063,\n",
              " 4607.410097843063,\n",
              " 4607.410097843063,\n",
              " 4607.410097843063,\n",
              " 4607.410097843063,\n",
              " 4607.410097843063,\n",
              " 4607.410097843063,\n",
              " 4607.410097843063,\n",
              " 4607.410097843063,\n",
              " 4607.410097843063,\n",
              " 4607.410097843063,\n",
              " 4607.410097843063,\n",
              " 4607.410097843063,\n",
              " 4607.410097843063,\n",
              " 4607.410097843063,\n",
              " 4607.410097843063,\n",
              " 4607.410097843063,\n",
              " 4607.410097843063,\n",
              " 4607.410097843063,\n",
              " 4607.410097843063,\n",
              " 4607.410097843063,\n",
              " 4607.410097843063,\n",
              " 4607.410097843063,\n",
              " 4607.410097843063,\n",
              " 4607.410097843063,\n",
              " 4607.410097843063,\n",
              " 4607.410097843063,\n",
              " 4607.410097843063,\n",
              " 4607.410097843063,\n",
              " 4607.410097843063,\n",
              " 4607.410097843063,\n",
              " 4607.410097843063,\n",
              " 4607.410097843063,\n",
              " 4607.410097843063,\n",
              " 4607.410097843063,\n",
              " 4607.410097843063,\n",
              " 4607.410097843063,\n",
              " 4607.410097843063,\n",
              " 4607.410097843063,\n",
              " 4607.410097843063,\n",
              " 4607.410097843063,\n",
              " 4607.410097843063,\n",
              " 4607.410097843063,\n",
              " 4607.410097843063,\n",
              " 4607.410097843063,\n",
              " 4607.410097843063,\n",
              " 4607.410097843063,\n",
              " 4607.410097843063,\n",
              " 4607.410097843063,\n",
              " 4607.410097843063,\n",
              " 4607.410097843063,\n",
              " 4607.410097843063,\n",
              " 4607.410097843063,\n",
              " 4607.410097843063,\n",
              " 4607.410097843063,\n",
              " 4607.410097843063,\n",
              " 4607.410097843063,\n",
              " 4607.410097843063,\n",
              " 4607.410097843063,\n",
              " 4607.410097843063,\n",
              " 4607.410097843063,\n",
              " 4607.410097843063,\n",
              " 4607.410097843063,\n",
              " 4607.410097843063,\n",
              " 4607.410097843063,\n",
              " 4607.410097843063,\n",
              " 4607.410097843063,\n",
              " 4607.410097843063,\n",
              " 4607.410097843063,\n",
              " 4607.410097843063,\n",
              " 4607.410097843063,\n",
              " 4607.410097843063,\n",
              " 4607.410097843063,\n",
              " 4607.410097843063,\n",
              " 4607.410097843063,\n",
              " 4607.410097843063,\n",
              " 4607.410097843063,\n",
              " 4607.410097843063,\n",
              " 4607.410097843063,\n",
              " 4607.410097843063,\n",
              " 4607.410097843063,\n",
              " 4607.410097843063,\n",
              " 4607.410097843063,\n",
              " 4607.410097843063,\n",
              " 4607.410097843063,\n",
              " 4607.410097843063,\n",
              " 4607.410097843063,\n",
              " 4607.410097843063,\n",
              " 4607.410097843063,\n",
              " 4607.410097843063,\n",
              " 4607.410097843063,\n",
              " 4607.410097843063,\n",
              " 4607.410097843063,\n",
              " 4607.410097843063,\n",
              " 4607.410097843063,\n",
              " 4607.410097843063,\n",
              " 4607.410097843063,\n",
              " 4607.410097843063,\n",
              " 4607.410097843063,\n",
              " 4607.410097843063,\n",
              " 4607.410097843063,\n",
              " 4607.410097843063,\n",
              " 4607.410097843063,\n",
              " 4607.410097843063,\n",
              " 4607.410097843063,\n",
              " 4607.410097843063,\n",
              " 4607.410097843063,\n",
              " 4607.410097843063,\n",
              " 4607.410097843063,\n",
              " 4607.410097843063,\n",
              " 4607.410097843063,\n",
              " 4607.410097843063,\n",
              " 4607.410097843063,\n",
              " 4607.410097843063,\n",
              " 4607.410097843063,\n",
              " 4607.410097843063,\n",
              " 4607.410097843063,\n",
              " 4607.410097843063,\n",
              " 4607.410097843063,\n",
              " 4607.410097843063,\n",
              " 4607.410097843063,\n",
              " 4607.410097843063,\n",
              " 4607.410097843063,\n",
              " 4607.410097843063,\n",
              " 4607.410097843063,\n",
              " 4607.410097843063,\n",
              " 4607.410097843063,\n",
              " 4607.410097843063,\n",
              " 4607.410097843063,\n",
              " 4607.410097843063,\n",
              " 4607.410097843063,\n",
              " 4607.410097843063,\n",
              " 4607.410097843063,\n",
              " 4607.410097843063,\n",
              " 4607.410097843063,\n",
              " 4607.410097843063,\n",
              " 4607.410097843063,\n",
              " 4607.410097843063,\n",
              " 4607.410097843063,\n",
              " 4607.410097843063,\n",
              " 4607.410097843063,\n",
              " 4607.410097843063,\n",
              " 4607.410097843063,\n",
              " 4607.410097843063,\n",
              " 4607.410097843063,\n",
              " 4607.410097843063,\n",
              " 4607.410097843063,\n",
              " 4607.410097843063,\n",
              " 4607.410097843063,\n",
              " 4607.410097843063,\n",
              " 4607.410097843063,\n",
              " 4607.410097843063,\n",
              " 4607.410097843063,\n",
              " 4607.410097843063,\n",
              " 4607.410097843063,\n",
              " 4607.410097843063,\n",
              " 4607.410097843063,\n",
              " 4607.410097843063,\n",
              " 4607.410097843063,\n",
              " 4607.410097843063,\n",
              " 4607.410097843063,\n",
              " 4607.410097843063,\n",
              " 4607.410097843063,\n",
              " 4607.410097843063,\n",
              " 4607.410097843063,\n",
              " 4607.410097843063,\n",
              " 4607.410097843063,\n",
              " 4607.410097843063,\n",
              " 4607.410097843063,\n",
              " 4607.410097843063,\n",
              " 4607.410097843063,\n",
              " 4607.410097843063,\n",
              " 4607.410097843063,\n",
              " 4607.410097843063,\n",
              " 4607.410097843063,\n",
              " 4607.410097843063,\n",
              " 4607.410097843063,\n",
              " 4607.410097843063,\n",
              " 4607.410097843063,\n",
              " 4607.410097843063,\n",
              " 4607.410097843063,\n",
              " 4607.410097843063,\n",
              " 4607.410097843063,\n",
              " 4607.410097843063,\n",
              " 4607.410097843063,\n",
              " 4607.410097843063,\n",
              " 4607.410097843063,\n",
              " 4607.410097843063,\n",
              " 4607.410097843063,\n",
              " 4607.410097843063,\n",
              " 4607.410097843063,\n",
              " 4607.410097843063,\n",
              " 4607.410097843063,\n",
              " 4607.410097843063,\n",
              " 4607.410097843063,\n",
              " 4607.410097843063,\n",
              " 4607.410097843063,\n",
              " 4607.410097843063,\n",
              " 4607.410097843063,\n",
              " 4607.410097843063,\n",
              " 4607.410097843063,\n",
              " 4607.410097843063,\n",
              " 4607.410097843063,\n",
              " 4607.410097843063,\n",
              " 4607.410097843063,\n",
              " 4607.410097843063,\n",
              " 4607.410097843063,\n",
              " 4607.410097843063,\n",
              " 4607.410097843063,\n",
              " 4607.410097843063,\n",
              " 4607.410097843063,\n",
              " 4607.410097843063,\n",
              " 4607.410097843063,\n",
              " 4607.410097843063,\n",
              " 4607.410097843063,\n",
              " 4607.410097843063,\n",
              " 4607.410097843063,\n",
              " 4607.410097843063,\n",
              " 4607.410097843063,\n",
              " 4607.410097843063,\n",
              " 4607.410097843063,\n",
              " 4607.410097843063,\n",
              " 4607.410097843063,\n",
              " 4607.410097843063,\n",
              " 4607.410097843063,\n",
              " 4607.410097843063,\n",
              " 4607.410097843063,\n",
              " 4607.410097843063,\n",
              " 4607.410097843063,\n",
              " 4607.410097843063,\n",
              " 4607.410097843063,\n",
              " 4607.410097843063,\n",
              " 4607.410097843063,\n",
              " 4607.410097843063,\n",
              " 4607.410097843063,\n",
              " 4607.410097843063,\n",
              " 4607.410097843063,\n",
              " 4607.410097843063,\n",
              " 4607.410097843063,\n",
              " 4607.410097843063,\n",
              " 4607.410097843063,\n",
              " 4607.410097843063,\n",
              " 4607.410097843063,\n",
              " 4607.410097843063,\n",
              " 4607.410097843063,\n",
              " 4607.410097843063,\n",
              " 4607.410097843063,\n",
              " 4607.410097843063,\n",
              " 4607.410097843063,\n",
              " 4607.410097843063,\n",
              " 4607.410097843063,\n",
              " 4607.410097843063,\n",
              " 4607.410097843063,\n",
              " 4607.410097843063,\n",
              " 4607.410097843063,\n",
              " 4607.410097843063,\n",
              " 4607.410097843063,\n",
              " 4607.410097843063,\n",
              " 4607.410097843063,\n",
              " 4607.410097843063,\n",
              " 4607.410097843063,\n",
              " 4607.410097843063,\n",
              " 4607.410097843063,\n",
              " 4607.410097843063,\n",
              " 4607.410097843063,\n",
              " 4607.410097843063,\n",
              " 4607.410097843063,\n",
              " 4607.410097843063,\n",
              " 4607.410097843063,\n",
              " 4607.410097843063,\n",
              " 4607.410097843063,\n",
              " 4607.410097843063,\n",
              " 4607.410097843063,\n",
              " 4607.410097843063,\n",
              " 4607.410097843063,\n",
              " 4607.410097843063,\n",
              " 4607.410097843063,\n",
              " 4607.410097843063,\n",
              " 4607.410097843063,\n",
              " 4607.410097843063,\n",
              " 4607.410097843063,\n",
              " 4607.410097843063,\n",
              " 4607.410097843063,\n",
              " 4607.410097843063,\n",
              " 4607.410097843063,\n",
              " 4607.410097843063,\n",
              " 4607.410097843063,\n",
              " 4607.410097843063,\n",
              " 4607.410097843063,\n",
              " 4607.410097843063,\n",
              " 4607.410097843063,\n",
              " 4607.410097843063,\n",
              " 4607.410097843063,\n",
              " 4607.410097843063,\n",
              " 4607.410097843063,\n",
              " 4607.410097843063,\n",
              " 4607.410097843063,\n",
              " 4607.410097843063,\n",
              " 4607.410097843063,\n",
              " 4607.410097843063,\n",
              " 4607.410097843063,\n",
              " 4607.410097843063,\n",
              " 4607.410097843063,\n",
              " 4607.410097843063,\n",
              " 4607.410097843063,\n",
              " 4607.410097843063,\n",
              " 4607.410097843063,\n",
              " 4607.410097843063,\n",
              " 4607.410097843063,\n",
              " 4607.410097843063,\n",
              " 4607.410097843063,\n",
              " 4607.410097843063,\n",
              " 4607.410097843063,\n",
              " 4607.410097843063,\n",
              " 4607.410097843063,\n",
              " 4607.410097843063,\n",
              " 4607.410097843063,\n",
              " 4607.410097843063,\n",
              " 4607.410097843063,\n",
              " 4607.410097843063,\n",
              " 4607.410097843063,\n",
              " 4607.410097843063,\n",
              " 4607.410097843063,\n",
              " 4607.410097843063,\n",
              " 4607.410097843063,\n",
              " 4607.410097843063,\n",
              " 4607.410097843063,\n",
              " 4607.410097843063,\n",
              " 4607.410097843063,\n",
              " 4607.410097843063,\n",
              " 4607.410097843063,\n",
              " 4607.410097843063,\n",
              " 4607.410097843063,\n",
              " 4607.410097843063,\n",
              " 4607.410097843063,\n",
              " 4607.410097843063,\n",
              " 4607.410097843063,\n",
              " 4607.410097843063,\n",
              " 4607.410097843063,\n",
              " 4607.410097843063,\n",
              " 4607.410097843063,\n",
              " 4607.410097843063,\n",
              " 4607.410097843063,\n",
              " 4607.410097843063,\n",
              " 4607.410097843063,\n",
              " 4607.410097843063,\n",
              " 4607.410097843063,\n",
              " 4607.410097843063,\n",
              " 4607.410097843063,\n",
              " 4607.410097843063,\n",
              " 4607.410097843063,\n",
              " 4607.410097843063,\n",
              " 4607.410097843063,\n",
              " 4607.410097843063,\n",
              " 4607.410097843063,\n",
              " 4607.410097843063,\n",
              " 4607.410097843063,\n",
              " 4607.410097843063,\n",
              " 4607.410097843063,\n",
              " 4607.410097843063,\n",
              " 4607.410097843063,\n",
              " 4607.410097843063,\n",
              " 4607.410097843063,\n",
              " 4607.410097843063,\n",
              " 4607.410097843063,\n",
              " 4607.410097843063,\n",
              " 4607.410097843063,\n",
              " 4607.410097843063,\n",
              " 4607.410097843063,\n",
              " 4607.410097843063,\n",
              " 4607.410097843063,\n",
              " 4607.410097843063,\n",
              " 4607.410097843063,\n",
              " 4607.410097843063,\n",
              " 4607.410097843063,\n",
              " 4607.410097843063,\n",
              " ...]"
            ]
          },
          "metadata": {},
          "execution_count": 28
        }
      ]
    },
    {
      "cell_type": "code",
      "metadata": {
        "id": "CSt4bYleXJd_",
        "colab": {
          "base_uri": "https://localhost:8080/"
        },
        "outputId": "5fdb8522-676c-4ec8-9ba9-ea644898e775"
      },
      "source": [
        "iterasi"
      ],
      "execution_count": 29,
      "outputs": [
        {
          "output_type": "execute_result",
          "data": {
            "text/plain": [
              "1000"
            ]
          },
          "metadata": {},
          "execution_count": 29
        }
      ]
    }
  ]
}