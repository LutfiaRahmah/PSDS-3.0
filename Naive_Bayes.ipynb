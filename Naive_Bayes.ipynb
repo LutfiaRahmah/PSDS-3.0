{
  "nbformat": 4,
  "nbformat_minor": 0,
  "metadata": {
    "colab": {
      "name": "Naive Bayes.ipynb",
      "provenance": [],
      "collapsed_sections": []
    },
    "kernelspec": {
      "name": "python3",
      "display_name": "Python 3"
    },
    "language_info": {
      "name": "python"
    }
  },
  "cells": [
    {
      "cell_type": "markdown",
      "metadata": {
        "id": "PB8AyTTwKt-R"
      },
      "source": [
        "#**Pembuka**"
      ]
    },
    {
      "cell_type": "markdown",
      "metadata": {
        "id": "kE72T0k0Kyfu"
      },
      "source": [
        "Assalamu'alaikum warahmatullahi wabarakatuh. Puji syukur kehadirat Allah Subhana Wata'ala atas limpahan Rahmat dan HidayahNya kepada kita semua. Sholawat serta salam senantiasa tercurah limpahkan kepada baginda Muhammad Rasulullah Salallahualaihiwassalam.\n",
        "\n",
        "Halo para **Pejuang Data**. Selamat berjumpa di pertemuan keenam Program Training **Algoritma Machine Learning** Kelas Mahir.\n",
        "\n",
        "Pada pertemuan ini kamu akan belajar:\n",
        "\n",
        "*   Algoritma Naive Bayes\n",
        "*   Contoh Perhitungan Manual Algoritma Naive Bayes\n",
        "*   Naive Bayes Python From Scratch"
      ]
    },
    {
      "cell_type": "markdown",
      "metadata": {
        "id": "UAHJcC-4LY-x"
      },
      "source": [
        "#**Import Modul**"
      ]
    },
    {
      "cell_type": "code",
      "metadata": {
        "id": "5yM0dsbsKrrr"
      },
      "source": [
        "import pandas as pd\n",
        "import numpy as np\n",
        "import matplotlib.pyplot as plt\n",
        "import seaborn as sns\n",
        "sns.set_style(\"darkgrid\")"
      ],
      "execution_count": 30,
      "outputs": []
    },
    {
      "cell_type": "markdown",
      "metadata": {
        "id": "H4GD9wWDLl2c"
      },
      "source": [
        "#**Model Klasifikasi Naive Bayes**"
      ]
    },
    {
      "cell_type": "markdown",
      "metadata": {
        "id": "aZa6VLYPLrGG"
      },
      "source": [
        "Model klasifikasi Naive Bayes merupakan model klasifikasi dengan dasar gagasan Teorema Bayes dengan asumsi semua variabel prediktornya(X) adalah saling independen. Model Naive Bayes mudah untuk dibangun. Model ini tidak memiliki estimasi parameter iteratif yang kompleks yang membuatnya cocok untuk data yanng sangat besar. Terlepas dari kesederhanaannya, model klasifikasi inisering kali bekerja dengan sangat baik dan banyak digunakan karena sering mengungguli metode klasifikasi yang lebih canggih. Contohnya pada klasifikasi sentimen pada dataset teks, klasifikasi email spam, dan klasifikasi dokumen."
      ]
    },
    {
      "cell_type": "markdown",
      "metadata": {
        "id": "WWfMIw2XL4oc"
      },
      "source": [
        "#**Algoritma Naive Bayes**"
      ]
    },
    {
      "cell_type": "markdown",
      "metadata": {
        "id": "vj1u79RwMClu"
      },
      "source": [
        "Teorema Bayes menyajikan cara untuk menghitung probabilitas bersyarat(posterior)\n",
        "$P(Y=y\\mid X=(x_1, x_2,...,x_n))$, dari $P(Y=y), P(X=(x_1,x_2,...,x_3))$, dan $P(X=(x_1,x_2,...,x_3)\\mid Y=y)$. Model klasifikasi Naive Bayes mengasumsikan bahwa pengaruh suatu variabel prediktor $x$ pada kelas tertentu $c$ tidak bergantung pada nilai-nilai prediktor lainnya. Asumsi ini disebut sebagai **class conditional independence**.\n",
        "\n",
        "$$P(c\\mid x)=\\frac{P(x\\mid c)P(c)}{P(x)}$$\n",
        "$$P(c\\mid X)=P(x_1\\mid c)\\times P(x_2\\mid c)\\times ...\\times P(x_n\\mid c)\\times P(c)$$\n",
        "\n",
        "*   $P(Y\\mid X)$ adalah probabilitas bersyarat (posterior) dari kelas (target) dengan suatu prediktor yang diketahui (sttribut).\n",
        "*   $P(Y)$ adalah probabilitas prior dari kelas.\n",
        "*   $P(X\\mid Y)$ adalah likelihood yang merupakan probabilitas prediktor dengan kelas yang diketahui.\n",
        "*   $P(X)$ adalah probabilitas prior dari prediktor(atribut).\n"
      ]
    },
    {
      "cell_type": "markdown",
      "metadata": {
        "id": "3GaUoe3lDeLT"
      },
      "source": [
        "#**Penghitungan Manual Metode Klasifikasi Naive Bayes Data Categorical**"
      ]
    },
    {
      "cell_type": "markdown",
      "metadata": {
        "id": "vJIHuLxHDjpo"
      },
      "source": [
        "Misal kita memiliki dataset sebagai berikut:"
      ]
    },
    {
      "cell_type": "code",
      "metadata": {
        "colab": {
          "base_uri": "https://localhost:8080/",
          "height": 357
        },
        "id": "GqYIaS7RDvL7",
        "outputId": "d3613711-20e9-481a-d3c6-bc84eab641de"
      },
      "source": [
        "df = pd.DataFrame({'x_1':[0,0,1,0,2,1,0,2,2,1],\n",
        "                   'x_2':[0,1,2,0,2,1,2,0,1,0],\n",
        "                   'y':[0,1,1,1,0,0,1,0,0,0]})\n",
        "df"
      ],
      "execution_count": 31,
      "outputs": [
        {
          "output_type": "execute_result",
          "data": {
            "text/html": [
              "<div>\n",
              "<style scoped>\n",
              "    .dataframe tbody tr th:only-of-type {\n",
              "        vertical-align: middle;\n",
              "    }\n",
              "\n",
              "    .dataframe tbody tr th {\n",
              "        vertical-align: top;\n",
              "    }\n",
              "\n",
              "    .dataframe thead th {\n",
              "        text-align: right;\n",
              "    }\n",
              "</style>\n",
              "<table border=\"1\" class=\"dataframe\">\n",
              "  <thead>\n",
              "    <tr style=\"text-align: right;\">\n",
              "      <th></th>\n",
              "      <th>x_1</th>\n",
              "      <th>x_2</th>\n",
              "      <th>y</th>\n",
              "    </tr>\n",
              "  </thead>\n",
              "  <tbody>\n",
              "    <tr>\n",
              "      <th>0</th>\n",
              "      <td>0</td>\n",
              "      <td>0</td>\n",
              "      <td>0</td>\n",
              "    </tr>\n",
              "    <tr>\n",
              "      <th>1</th>\n",
              "      <td>0</td>\n",
              "      <td>1</td>\n",
              "      <td>1</td>\n",
              "    </tr>\n",
              "    <tr>\n",
              "      <th>2</th>\n",
              "      <td>1</td>\n",
              "      <td>2</td>\n",
              "      <td>1</td>\n",
              "    </tr>\n",
              "    <tr>\n",
              "      <th>3</th>\n",
              "      <td>0</td>\n",
              "      <td>0</td>\n",
              "      <td>1</td>\n",
              "    </tr>\n",
              "    <tr>\n",
              "      <th>4</th>\n",
              "      <td>2</td>\n",
              "      <td>2</td>\n",
              "      <td>0</td>\n",
              "    </tr>\n",
              "    <tr>\n",
              "      <th>5</th>\n",
              "      <td>1</td>\n",
              "      <td>1</td>\n",
              "      <td>0</td>\n",
              "    </tr>\n",
              "    <tr>\n",
              "      <th>6</th>\n",
              "      <td>0</td>\n",
              "      <td>2</td>\n",
              "      <td>1</td>\n",
              "    </tr>\n",
              "    <tr>\n",
              "      <th>7</th>\n",
              "      <td>2</td>\n",
              "      <td>0</td>\n",
              "      <td>0</td>\n",
              "    </tr>\n",
              "    <tr>\n",
              "      <th>8</th>\n",
              "      <td>2</td>\n",
              "      <td>1</td>\n",
              "      <td>0</td>\n",
              "    </tr>\n",
              "    <tr>\n",
              "      <th>9</th>\n",
              "      <td>1</td>\n",
              "      <td>0</td>\n",
              "      <td>0</td>\n",
              "    </tr>\n",
              "  </tbody>\n",
              "</table>\n",
              "</div>"
            ],
            "text/plain": [
              "   x_1  x_2  y\n",
              "0    0    0  0\n",
              "1    0    1  1\n",
              "2    1    2  1\n",
              "3    0    0  1\n",
              "4    2    2  0\n",
              "5    1    1  0\n",
              "6    0    2  1\n",
              "7    2    0  0\n",
              "8    2    1  0\n",
              "9    1    0  0"
            ]
          },
          "metadata": {},
          "execution_count": 31
        }
      ]
    },
    {
      "cell_type": "markdown",
      "metadata": {
        "id": "erozeautDmza"
      },
      "source": [
        "Misal kita akan menghitung $P(Y=0\\mid X=(0, 2))$ dan $P(Y=1\\mid X=(0, 2))$\n",
        "\n",
        "Langkah-langkahnya adalah sebagai berikut:\n",
        "\n",
        "1.   Menghitung probabilitas prior\n",
        "2.   Menghitung probabilitas likelihood\n",
        "3.   Menghitung probabilitaslikelihood dan probabilitas prior\n",
        "\n",
        "Berikut contohnya:\n",
        "\n",
        "1.   Menghitung probabilitas prior\n",
        "\n",
        "$$P(Y=0)=\\frac{Jumlah\\space Y=0}{Jumlah \\space Y=0+Jumlah\\space Y=1}=\\frac{6}{10}$$\n",
        "\n",
        "$$P(Y=1)=\\frac{Jumlah\\space Y=1}{Jumlah\\space Y=0+Jumlah\\space Y=1}=\\frac{4}{10}$$\n",
        "\n",
        "2.   Menghitung probabilitas likelihood\n",
        "\n",
        "$$P(X=(0,2)\\mid Y=0)=\\frac{Jumlah\\space X=(0,2)}{Jumlah\\space Y = 0}=\\frac{0}{6}=0$$\n",
        "\n",
        "$$P(X=(0,2)\\mid Y=1)=\\frac{Jumlah\\space X=(0,2)}{Jumlah\\space Y = 1}=\\frac{1}{4}$$\n",
        "\n",
        "Cara lain adalah dengan menggunakan teorema Bayes:\n",
        "\n",
        "$$P(X=(0,2)\\mid Y=0)=P(X_1=0\\mid Y=0)*P(X_2=2\\mid Y=1)=\\frac{1}{6}*\\frac{1}{6}=\\frac{1}{36}$$\n",
        "\n",
        "$$P(X=(0,2)\\mid Y=1)=P(X_1=0\\mid Y=1)*P(X_2=2\\mid Y=1)=\\frac{3}{4}*\\frac{2}{4}=\\frac{6}{16}$$\n",
        "\n",
        "3.   Menghitung probabilitaslikelihood\n",
        "\n",
        "$P(Y=0\\mid X=(0,2))==>\\frac{6}{10}*\\frac{6}{36}=\\frac{24}{160}=0.10$\n",
        "\n",
        "$P(Y=1\\mid X=(0,2))==>\\frac{4}{10}*\\frac{6}{16}=\\frac{24}{160}=0.15$\n",
        "\n",
        "Dari hasil terakhir di atas diperoleh bahwa probabilitas muncul kelas y=1 dengan syarat x=(0,2) adalah yg lebih tinggi maka untuk input x=(0,2) hasil klasifikasinya adalah y=1"
      ]
    },
    {
      "cell_type": "markdown",
      "metadata": {
        "id": "H1NhOu3KoT3s"
      },
      "source": [
        "#**Implementasi Pada Python**"
      ]
    },
    {
      "cell_type": "markdown",
      "metadata": {
        "id": "_xiAnG4goZQB"
      },
      "source": [
        "**Import Library**"
      ]
    },
    {
      "cell_type": "code",
      "metadata": {
        "id": "Pj3uxaNOE6Va"
      },
      "source": [
        "import pandas as pd\n",
        "import numpy as np"
      ],
      "execution_count": 32,
      "outputs": []
    },
    {
      "cell_type": "markdown",
      "metadata": {
        "id": "F_lvvu9zogBO"
      },
      "source": [
        "**DataFrame Input**"
      ]
    },
    {
      "cell_type": "code",
      "metadata": {
        "colab": {
          "base_uri": "https://localhost:8080/",
          "height": 357
        },
        "id": "SaZsUXf-omZ7",
        "outputId": "708cdd22-1ccd-4ce3-fa40-439b0c13518b"
      },
      "source": [
        "df = pd.DataFrame({'x_1':[0,0,1,0,2,1,0,2,2,1],\n",
        "                   'x_2':[0,1,2,0,2,1,2,0,1,0],\n",
        "                   'y':[0,1,1,1,0,0,1,0,0,0]})\n",
        "df"
      ],
      "execution_count": 33,
      "outputs": [
        {
          "output_type": "execute_result",
          "data": {
            "text/html": [
              "<div>\n",
              "<style scoped>\n",
              "    .dataframe tbody tr th:only-of-type {\n",
              "        vertical-align: middle;\n",
              "    }\n",
              "\n",
              "    .dataframe tbody tr th {\n",
              "        vertical-align: top;\n",
              "    }\n",
              "\n",
              "    .dataframe thead th {\n",
              "        text-align: right;\n",
              "    }\n",
              "</style>\n",
              "<table border=\"1\" class=\"dataframe\">\n",
              "  <thead>\n",
              "    <tr style=\"text-align: right;\">\n",
              "      <th></th>\n",
              "      <th>x_1</th>\n",
              "      <th>x_2</th>\n",
              "      <th>y</th>\n",
              "    </tr>\n",
              "  </thead>\n",
              "  <tbody>\n",
              "    <tr>\n",
              "      <th>0</th>\n",
              "      <td>0</td>\n",
              "      <td>0</td>\n",
              "      <td>0</td>\n",
              "    </tr>\n",
              "    <tr>\n",
              "      <th>1</th>\n",
              "      <td>0</td>\n",
              "      <td>1</td>\n",
              "      <td>1</td>\n",
              "    </tr>\n",
              "    <tr>\n",
              "      <th>2</th>\n",
              "      <td>1</td>\n",
              "      <td>2</td>\n",
              "      <td>1</td>\n",
              "    </tr>\n",
              "    <tr>\n",
              "      <th>3</th>\n",
              "      <td>0</td>\n",
              "      <td>0</td>\n",
              "      <td>1</td>\n",
              "    </tr>\n",
              "    <tr>\n",
              "      <th>4</th>\n",
              "      <td>2</td>\n",
              "      <td>2</td>\n",
              "      <td>0</td>\n",
              "    </tr>\n",
              "    <tr>\n",
              "      <th>5</th>\n",
              "      <td>1</td>\n",
              "      <td>1</td>\n",
              "      <td>0</td>\n",
              "    </tr>\n",
              "    <tr>\n",
              "      <th>6</th>\n",
              "      <td>0</td>\n",
              "      <td>2</td>\n",
              "      <td>1</td>\n",
              "    </tr>\n",
              "    <tr>\n",
              "      <th>7</th>\n",
              "      <td>2</td>\n",
              "      <td>0</td>\n",
              "      <td>0</td>\n",
              "    </tr>\n",
              "    <tr>\n",
              "      <th>8</th>\n",
              "      <td>2</td>\n",
              "      <td>1</td>\n",
              "      <td>0</td>\n",
              "    </tr>\n",
              "    <tr>\n",
              "      <th>9</th>\n",
              "      <td>1</td>\n",
              "      <td>0</td>\n",
              "      <td>0</td>\n",
              "    </tr>\n",
              "  </tbody>\n",
              "</table>\n",
              "</div>"
            ],
            "text/plain": [
              "   x_1  x_2  y\n",
              "0    0    0  0\n",
              "1    0    1  1\n",
              "2    1    2  1\n",
              "3    0    0  1\n",
              "4    2    2  0\n",
              "5    1    1  0\n",
              "6    0    2  1\n",
              "7    2    0  0\n",
              "8    2    1  0\n",
              "9    1    0  0"
            ]
          },
          "metadata": {},
          "execution_count": 33
        }
      ]
    },
    {
      "cell_type": "markdown",
      "metadata": {
        "id": "ymRYBcNEouqK"
      },
      "source": [
        "**Naive Bayes untuk Data Categorical**"
      ]
    },
    {
      "cell_type": "code",
      "metadata": {
        "id": "wuZMbjOaoyPq"
      },
      "source": [
        "def prob_prior(df, Y):\n",
        "  label_kelas = sorted(list(df[Y].unique()))\n",
        "  prior = []\n",
        "  for i in label_kelas:\n",
        "    prior.append(len(df[df[Y]==i])/len(df))\n",
        "  return prior"
      ],
      "execution_count": 34,
      "outputs": []
    },
    {
      "cell_type": "code",
      "metadata": {
        "id": "ttpsylpao8ia"
      },
      "source": [
        "def likelihood_categorical(df, nama_var, nilai_var, Y, label):\n",
        "  feat = list(df.columns)\n",
        "  df = df[df[Y]==label]\n",
        "  p_x_dgsyrt_y = len(df[df[nama_var]==nilai_var]) / len(df)\n",
        "  return p_x_dgsyrt_y"
      ],
      "execution_count": 35,
      "outputs": []
    },
    {
      "cell_type": "code",
      "metadata": {
        "id": "9zXv6zWfpEYw"
      },
      "source": [
        "def naive_bayes_categorical(df, X, Y):\n",
        "  # mengambil nama kolom\n",
        "  nama_kolom = list(df.columns)[:-1]\n",
        "  # menghitung prob prior\n",
        "  prior = prob_prior(df, Y)\n",
        "  Y_pred = []\n",
        "  # lopping pada setiap baris data\n",
        "  for x in X:\n",
        "    # menghitung likelihood\n",
        "    labels = sorted(list(df[Y].unique()))\n",
        "    likelihood = [1]*len(labels)\n",
        "    for j in range(len(labels)):\n",
        "      for i in range(len(nama_kolom)):\n",
        "         likelihood[j] *= likelihood_categorical(df, nama_kolom[i], x[i], Y, labels[j])\n",
        "    # menghitung posterior probability\n",
        "    post_prob = [1]*len(labels)\n",
        "    for j in range(len(labels)):\n",
        "      post_prob[j] = likelihood[j] * prior[j]\n",
        "    \n",
        "    Y_pred.append(np.argmax(post_prob))\n",
        "  return np.array(Y_pred)"
      ],
      "execution_count": 36,
      "outputs": []
    },
    {
      "cell_type": "code",
      "metadata": {
        "id": "HoNQZBpALdN5"
      },
      "source": [
        "from sklearn.model_selection import train_test_split\n",
        "train, test = train_test_split(df, test_size=.3, random_state=41)"
      ],
      "execution_count": 37,
      "outputs": []
    },
    {
      "cell_type": "code",
      "metadata": {
        "id": "XIxdcd9oq3Su"
      },
      "source": [
        "X = df.iloc[:,:-1].values\n",
        "Y = df.iloc[:,-1].values\n",
        "Y_pred = naive_bayes_categorical(train, X=X, Y=\"y\")"
      ],
      "execution_count": 38,
      "outputs": []
    },
    {
      "cell_type": "code",
      "metadata": {
        "colab": {
          "base_uri": "https://localhost:8080/"
        },
        "id": "ygdlIhq7q_-O",
        "outputId": "96061f05-ea89-45f7-e881-b80a8144625b"
      },
      "source": [
        "X"
      ],
      "execution_count": 39,
      "outputs": [
        {
          "output_type": "execute_result",
          "data": {
            "text/plain": [
              "array([[0, 0],\n",
              "       [0, 1],\n",
              "       [1, 2],\n",
              "       [0, 0],\n",
              "       [2, 2],\n",
              "       [1, 1],\n",
              "       [0, 2],\n",
              "       [2, 0],\n",
              "       [2, 1],\n",
              "       [1, 0]])"
            ]
          },
          "metadata": {},
          "execution_count": 39
        }
      ]
    },
    {
      "cell_type": "code",
      "metadata": {
        "colab": {
          "base_uri": "https://localhost:8080/"
        },
        "id": "26v0Be_0rDHT",
        "outputId": "8fffc74f-e4a4-41fc-d9ba-07bb6e00d8fd"
      },
      "source": [
        "Y_pred"
      ],
      "execution_count": 40,
      "outputs": [
        {
          "output_type": "execute_result",
          "data": {
            "text/plain": [
              "array([1, 1, 1, 1, 0, 1, 1, 0, 0, 0])"
            ]
          },
          "metadata": {},
          "execution_count": 40
        }
      ]
    },
    {
      "cell_type": "code",
      "metadata": {
        "colab": {
          "base_uri": "https://localhost:8080/"
        },
        "id": "obmmAeD3rJIK",
        "outputId": "6d02e0ed-8386-4d2a-bced-6c55e9859f3a"
      },
      "source": [
        "Y"
      ],
      "execution_count": 41,
      "outputs": [
        {
          "output_type": "execute_result",
          "data": {
            "text/plain": [
              "array([0, 1, 1, 1, 0, 0, 1, 0, 0, 0])"
            ]
          },
          "metadata": {},
          "execution_count": 41
        }
      ]
    },
    {
      "cell_type": "markdown",
      "metadata": {
        "id": "zYc0NjvLraaV"
      },
      "source": [
        "#**Implementasi Pada Data Real**"
      ]
    },
    {
      "cell_type": "markdown",
      "metadata": {
        "id": "_XvQrDAxrigZ"
      },
      "source": [
        "**Loading Dataset**"
      ]
    },
    {
      "cell_type": "code",
      "metadata": {
        "colab": {
          "base_uri": "https://localhost:8080/",
          "height": 437
        },
        "id": "O5I6l0vxrsHt",
        "outputId": "f7639394-603a-4358-e78a-9ca9191bf0b5"
      },
      "source": [
        "data = pd.read_csv(\"https://raw.githubusercontent.com/scikit-learn/scikit-learn/844b4be24d20fc42cc13b957374c718956a0db39/sklearn/datasets/data/breast_cancer.csv\")\n",
        "data"
      ],
      "execution_count": 42,
      "outputs": [
        {
          "output_type": "execute_result",
          "data": {
            "text/html": [
              "<div>\n",
              "<style scoped>\n",
              "    .dataframe tbody tr th:only-of-type {\n",
              "        vertical-align: middle;\n",
              "    }\n",
              "\n",
              "    .dataframe tbody tr th {\n",
              "        vertical-align: top;\n",
              "    }\n",
              "\n",
              "    .dataframe thead th {\n",
              "        text-align: right;\n",
              "    }\n",
              "</style>\n",
              "<table border=\"1\" class=\"dataframe\">\n",
              "  <thead>\n",
              "    <tr style=\"text-align: right;\">\n",
              "      <th></th>\n",
              "      <th></th>\n",
              "      <th></th>\n",
              "      <th></th>\n",
              "      <th></th>\n",
              "      <th></th>\n",
              "      <th></th>\n",
              "      <th></th>\n",
              "      <th></th>\n",
              "      <th></th>\n",
              "      <th></th>\n",
              "      <th></th>\n",
              "      <th></th>\n",
              "      <th></th>\n",
              "      <th></th>\n",
              "      <th></th>\n",
              "      <th></th>\n",
              "      <th></th>\n",
              "      <th></th>\n",
              "      <th></th>\n",
              "      <th></th>\n",
              "      <th></th>\n",
              "      <th></th>\n",
              "      <th></th>\n",
              "      <th></th>\n",
              "      <th></th>\n",
              "      <th></th>\n",
              "      <th>569</th>\n",
              "      <th>30</th>\n",
              "      <th>malignant</th>\n",
              "      <th>benign</th>\n",
              "    </tr>\n",
              "  </thead>\n",
              "  <tbody>\n",
              "    <tr>\n",
              "      <th>17.99</th>\n",
              "      <th>10.38</th>\n",
              "      <th>122.80</th>\n",
              "      <th>1001.0</th>\n",
              "      <th>0.11840</th>\n",
              "      <th>0.27760</th>\n",
              "      <th>0.30010</th>\n",
              "      <th>0.14710</th>\n",
              "      <th>0.2419</th>\n",
              "      <th>0.07871</th>\n",
              "      <th>1.0950</th>\n",
              "      <th>0.9053</th>\n",
              "      <th>8.589</th>\n",
              "      <th>153.40</th>\n",
              "      <th>0.006399</th>\n",
              "      <th>0.04904</th>\n",
              "      <th>0.05373</th>\n",
              "      <th>0.01587</th>\n",
              "      <th>0.03003</th>\n",
              "      <th>0.006193</th>\n",
              "      <th>25.380</th>\n",
              "      <th>17.33</th>\n",
              "      <th>184.60</th>\n",
              "      <th>2019.0</th>\n",
              "      <th>0.16220</th>\n",
              "      <th>0.66560</th>\n",
              "      <th>0.7119</th>\n",
              "      <td>0.2654</td>\n",
              "      <td>0.4601</td>\n",
              "      <td>0.11890</td>\n",
              "      <td>0</td>\n",
              "    </tr>\n",
              "    <tr>\n",
              "      <th>20.57</th>\n",
              "      <th>17.77</th>\n",
              "      <th>132.90</th>\n",
              "      <th>1326.0</th>\n",
              "      <th>0.08474</th>\n",
              "      <th>0.07864</th>\n",
              "      <th>0.08690</th>\n",
              "      <th>0.07017</th>\n",
              "      <th>0.1812</th>\n",
              "      <th>0.05667</th>\n",
              "      <th>0.5435</th>\n",
              "      <th>0.7339</th>\n",
              "      <th>3.398</th>\n",
              "      <th>74.08</th>\n",
              "      <th>0.005225</th>\n",
              "      <th>0.01308</th>\n",
              "      <th>0.01860</th>\n",
              "      <th>0.01340</th>\n",
              "      <th>0.01389</th>\n",
              "      <th>0.003532</th>\n",
              "      <th>24.990</th>\n",
              "      <th>23.41</th>\n",
              "      <th>158.80</th>\n",
              "      <th>1956.0</th>\n",
              "      <th>0.12380</th>\n",
              "      <th>0.18660</th>\n",
              "      <th>0.2416</th>\n",
              "      <td>0.1860</td>\n",
              "      <td>0.2750</td>\n",
              "      <td>0.08902</td>\n",
              "      <td>0</td>\n",
              "    </tr>\n",
              "    <tr>\n",
              "      <th>19.69</th>\n",
              "      <th>21.25</th>\n",
              "      <th>130.00</th>\n",
              "      <th>1203.0</th>\n",
              "      <th>0.10960</th>\n",
              "      <th>0.15990</th>\n",
              "      <th>0.19740</th>\n",
              "      <th>0.12790</th>\n",
              "      <th>0.2069</th>\n",
              "      <th>0.05999</th>\n",
              "      <th>0.7456</th>\n",
              "      <th>0.7869</th>\n",
              "      <th>4.585</th>\n",
              "      <th>94.03</th>\n",
              "      <th>0.006150</th>\n",
              "      <th>0.04006</th>\n",
              "      <th>0.03832</th>\n",
              "      <th>0.02058</th>\n",
              "      <th>0.02250</th>\n",
              "      <th>0.004571</th>\n",
              "      <th>23.570</th>\n",
              "      <th>25.53</th>\n",
              "      <th>152.50</th>\n",
              "      <th>1709.0</th>\n",
              "      <th>0.14440</th>\n",
              "      <th>0.42450</th>\n",
              "      <th>0.4504</th>\n",
              "      <td>0.2430</td>\n",
              "      <td>0.3613</td>\n",
              "      <td>0.08758</td>\n",
              "      <td>0</td>\n",
              "    </tr>\n",
              "    <tr>\n",
              "      <th>11.42</th>\n",
              "      <th>20.38</th>\n",
              "      <th>77.58</th>\n",
              "      <th>386.1</th>\n",
              "      <th>0.14250</th>\n",
              "      <th>0.28390</th>\n",
              "      <th>0.24140</th>\n",
              "      <th>0.10520</th>\n",
              "      <th>0.2597</th>\n",
              "      <th>0.09744</th>\n",
              "      <th>0.4956</th>\n",
              "      <th>1.1560</th>\n",
              "      <th>3.445</th>\n",
              "      <th>27.23</th>\n",
              "      <th>0.009110</th>\n",
              "      <th>0.07458</th>\n",
              "      <th>0.05661</th>\n",
              "      <th>0.01867</th>\n",
              "      <th>0.05963</th>\n",
              "      <th>0.009208</th>\n",
              "      <th>14.910</th>\n",
              "      <th>26.50</th>\n",
              "      <th>98.87</th>\n",
              "      <th>567.7</th>\n",
              "      <th>0.20980</th>\n",
              "      <th>0.86630</th>\n",
              "      <th>0.6869</th>\n",
              "      <td>0.2575</td>\n",
              "      <td>0.6638</td>\n",
              "      <td>0.17300</td>\n",
              "      <td>0</td>\n",
              "    </tr>\n",
              "    <tr>\n",
              "      <th>20.29</th>\n",
              "      <th>14.34</th>\n",
              "      <th>135.10</th>\n",
              "      <th>1297.0</th>\n",
              "      <th>0.10030</th>\n",
              "      <th>0.13280</th>\n",
              "      <th>0.19800</th>\n",
              "      <th>0.10430</th>\n",
              "      <th>0.1809</th>\n",
              "      <th>0.05883</th>\n",
              "      <th>0.7572</th>\n",
              "      <th>0.7813</th>\n",
              "      <th>5.438</th>\n",
              "      <th>94.44</th>\n",
              "      <th>0.011490</th>\n",
              "      <th>0.02461</th>\n",
              "      <th>0.05688</th>\n",
              "      <th>0.01885</th>\n",
              "      <th>0.01756</th>\n",
              "      <th>0.005115</th>\n",
              "      <th>22.540</th>\n",
              "      <th>16.67</th>\n",
              "      <th>152.20</th>\n",
              "      <th>1575.0</th>\n",
              "      <th>0.13740</th>\n",
              "      <th>0.20500</th>\n",
              "      <th>0.4000</th>\n",
              "      <td>0.1625</td>\n",
              "      <td>0.2364</td>\n",
              "      <td>0.07678</td>\n",
              "      <td>0</td>\n",
              "    </tr>\n",
              "    <tr>\n",
              "      <th>...</th>\n",
              "      <th>...</th>\n",
              "      <th>...</th>\n",
              "      <th>...</th>\n",
              "      <th>...</th>\n",
              "      <th>...</th>\n",
              "      <th>...</th>\n",
              "      <th>...</th>\n",
              "      <th>...</th>\n",
              "      <th>...</th>\n",
              "      <th>...</th>\n",
              "      <th>...</th>\n",
              "      <th>...</th>\n",
              "      <th>...</th>\n",
              "      <th>...</th>\n",
              "      <th>...</th>\n",
              "      <th>...</th>\n",
              "      <th>...</th>\n",
              "      <th>...</th>\n",
              "      <th>...</th>\n",
              "      <th>...</th>\n",
              "      <th>...</th>\n",
              "      <th>...</th>\n",
              "      <th>...</th>\n",
              "      <th>...</th>\n",
              "      <th>...</th>\n",
              "      <th>...</th>\n",
              "      <td>...</td>\n",
              "      <td>...</td>\n",
              "      <td>...</td>\n",
              "      <td>...</td>\n",
              "    </tr>\n",
              "    <tr>\n",
              "      <th>21.56</th>\n",
              "      <th>22.39</th>\n",
              "      <th>142.00</th>\n",
              "      <th>1479.0</th>\n",
              "      <th>0.11100</th>\n",
              "      <th>0.11590</th>\n",
              "      <th>0.24390</th>\n",
              "      <th>0.13890</th>\n",
              "      <th>0.1726</th>\n",
              "      <th>0.05623</th>\n",
              "      <th>1.1760</th>\n",
              "      <th>1.2560</th>\n",
              "      <th>7.673</th>\n",
              "      <th>158.70</th>\n",
              "      <th>0.010300</th>\n",
              "      <th>0.02891</th>\n",
              "      <th>0.05198</th>\n",
              "      <th>0.02454</th>\n",
              "      <th>0.01114</th>\n",
              "      <th>0.004239</th>\n",
              "      <th>25.450</th>\n",
              "      <th>26.40</th>\n",
              "      <th>166.10</th>\n",
              "      <th>2027.0</th>\n",
              "      <th>0.14100</th>\n",
              "      <th>0.21130</th>\n",
              "      <th>0.4107</th>\n",
              "      <td>0.2216</td>\n",
              "      <td>0.2060</td>\n",
              "      <td>0.07115</td>\n",
              "      <td>0</td>\n",
              "    </tr>\n",
              "    <tr>\n",
              "      <th>20.13</th>\n",
              "      <th>28.25</th>\n",
              "      <th>131.20</th>\n",
              "      <th>1261.0</th>\n",
              "      <th>0.09780</th>\n",
              "      <th>0.10340</th>\n",
              "      <th>0.14400</th>\n",
              "      <th>0.09791</th>\n",
              "      <th>0.1752</th>\n",
              "      <th>0.05533</th>\n",
              "      <th>0.7655</th>\n",
              "      <th>2.4630</th>\n",
              "      <th>5.203</th>\n",
              "      <th>99.04</th>\n",
              "      <th>0.005769</th>\n",
              "      <th>0.02423</th>\n",
              "      <th>0.03950</th>\n",
              "      <th>0.01678</th>\n",
              "      <th>0.01898</th>\n",
              "      <th>0.002498</th>\n",
              "      <th>23.690</th>\n",
              "      <th>38.25</th>\n",
              "      <th>155.00</th>\n",
              "      <th>1731.0</th>\n",
              "      <th>0.11660</th>\n",
              "      <th>0.19220</th>\n",
              "      <th>0.3215</th>\n",
              "      <td>0.1628</td>\n",
              "      <td>0.2572</td>\n",
              "      <td>0.06637</td>\n",
              "      <td>0</td>\n",
              "    </tr>\n",
              "    <tr>\n",
              "      <th>16.60</th>\n",
              "      <th>28.08</th>\n",
              "      <th>108.30</th>\n",
              "      <th>858.1</th>\n",
              "      <th>0.08455</th>\n",
              "      <th>0.10230</th>\n",
              "      <th>0.09251</th>\n",
              "      <th>0.05302</th>\n",
              "      <th>0.1590</th>\n",
              "      <th>0.05648</th>\n",
              "      <th>0.4564</th>\n",
              "      <th>1.0750</th>\n",
              "      <th>3.425</th>\n",
              "      <th>48.55</th>\n",
              "      <th>0.005903</th>\n",
              "      <th>0.03731</th>\n",
              "      <th>0.04730</th>\n",
              "      <th>0.01557</th>\n",
              "      <th>0.01318</th>\n",
              "      <th>0.003892</th>\n",
              "      <th>18.980</th>\n",
              "      <th>34.12</th>\n",
              "      <th>126.70</th>\n",
              "      <th>1124.0</th>\n",
              "      <th>0.11390</th>\n",
              "      <th>0.30940</th>\n",
              "      <th>0.3403</th>\n",
              "      <td>0.1418</td>\n",
              "      <td>0.2218</td>\n",
              "      <td>0.07820</td>\n",
              "      <td>0</td>\n",
              "    </tr>\n",
              "    <tr>\n",
              "      <th>20.60</th>\n",
              "      <th>29.33</th>\n",
              "      <th>140.10</th>\n",
              "      <th>1265.0</th>\n",
              "      <th>0.11780</th>\n",
              "      <th>0.27700</th>\n",
              "      <th>0.35140</th>\n",
              "      <th>0.15200</th>\n",
              "      <th>0.2397</th>\n",
              "      <th>0.07016</th>\n",
              "      <th>0.7260</th>\n",
              "      <th>1.5950</th>\n",
              "      <th>5.772</th>\n",
              "      <th>86.22</th>\n",
              "      <th>0.006522</th>\n",
              "      <th>0.06158</th>\n",
              "      <th>0.07117</th>\n",
              "      <th>0.01664</th>\n",
              "      <th>0.02324</th>\n",
              "      <th>0.006185</th>\n",
              "      <th>25.740</th>\n",
              "      <th>39.42</th>\n",
              "      <th>184.60</th>\n",
              "      <th>1821.0</th>\n",
              "      <th>0.16500</th>\n",
              "      <th>0.86810</th>\n",
              "      <th>0.9387</th>\n",
              "      <td>0.2650</td>\n",
              "      <td>0.4087</td>\n",
              "      <td>0.12400</td>\n",
              "      <td>0</td>\n",
              "    </tr>\n",
              "    <tr>\n",
              "      <th>7.76</th>\n",
              "      <th>24.54</th>\n",
              "      <th>47.92</th>\n",
              "      <th>181.0</th>\n",
              "      <th>0.05263</th>\n",
              "      <th>0.04362</th>\n",
              "      <th>0.00000</th>\n",
              "      <th>0.00000</th>\n",
              "      <th>0.1587</th>\n",
              "      <th>0.05884</th>\n",
              "      <th>0.3857</th>\n",
              "      <th>1.4280</th>\n",
              "      <th>2.548</th>\n",
              "      <th>19.15</th>\n",
              "      <th>0.007189</th>\n",
              "      <th>0.00466</th>\n",
              "      <th>0.00000</th>\n",
              "      <th>0.00000</th>\n",
              "      <th>0.02676</th>\n",
              "      <th>0.002783</th>\n",
              "      <th>9.456</th>\n",
              "      <th>30.37</th>\n",
              "      <th>59.16</th>\n",
              "      <th>268.6</th>\n",
              "      <th>0.08996</th>\n",
              "      <th>0.06444</th>\n",
              "      <th>0.0000</th>\n",
              "      <td>0.0000</td>\n",
              "      <td>0.2871</td>\n",
              "      <td>0.07039</td>\n",
              "      <td>1</td>\n",
              "    </tr>\n",
              "  </tbody>\n",
              "</table>\n",
              "<p>569 rows × 4 columns</p>\n",
              "</div>"
            ],
            "text/plain": [
              "                                                                                                                                                                                                            569  ...  benign\n",
              "17.99 10.38 122.80 1001.0 0.11840 0.27760 0.30010 0.14710 0.2419 0.07871 1.0950 0.9053 8.589 153.40 0.006399 0.04904 0.05373 0.01587 0.03003 0.006193 25.380 17.33 184.60 2019.0 0.16220 0.66560 0.7119  0.2654  ...       0\n",
              "20.57 17.77 132.90 1326.0 0.08474 0.07864 0.08690 0.07017 0.1812 0.05667 0.5435 0.7339 3.398 74.08  0.005225 0.01308 0.01860 0.01340 0.01389 0.003532 24.990 23.41 158.80 1956.0 0.12380 0.18660 0.2416  0.1860  ...       0\n",
              "19.69 21.25 130.00 1203.0 0.10960 0.15990 0.19740 0.12790 0.2069 0.05999 0.7456 0.7869 4.585 94.03  0.006150 0.04006 0.03832 0.02058 0.02250 0.004571 23.570 25.53 152.50 1709.0 0.14440 0.42450 0.4504  0.2430  ...       0\n",
              "11.42 20.38 77.58  386.1  0.14250 0.28390 0.24140 0.10520 0.2597 0.09744 0.4956 1.1560 3.445 27.23  0.009110 0.07458 0.05661 0.01867 0.05963 0.009208 14.910 26.50 98.87  567.7  0.20980 0.86630 0.6869  0.2575  ...       0\n",
              "20.29 14.34 135.10 1297.0 0.10030 0.13280 0.19800 0.10430 0.1809 0.05883 0.7572 0.7813 5.438 94.44  0.011490 0.02461 0.05688 0.01885 0.01756 0.005115 22.540 16.67 152.20 1575.0 0.13740 0.20500 0.4000  0.1625  ...       0\n",
              "...                                                                                                                                                                                                         ...  ...     ...\n",
              "21.56 22.39 142.00 1479.0 0.11100 0.11590 0.24390 0.13890 0.1726 0.05623 1.1760 1.2560 7.673 158.70 0.010300 0.02891 0.05198 0.02454 0.01114 0.004239 25.450 26.40 166.10 2027.0 0.14100 0.21130 0.4107  0.2216  ...       0\n",
              "20.13 28.25 131.20 1261.0 0.09780 0.10340 0.14400 0.09791 0.1752 0.05533 0.7655 2.4630 5.203 99.04  0.005769 0.02423 0.03950 0.01678 0.01898 0.002498 23.690 38.25 155.00 1731.0 0.11660 0.19220 0.3215  0.1628  ...       0\n",
              "16.60 28.08 108.30 858.1  0.08455 0.10230 0.09251 0.05302 0.1590 0.05648 0.4564 1.0750 3.425 48.55  0.005903 0.03731 0.04730 0.01557 0.01318 0.003892 18.980 34.12 126.70 1124.0 0.11390 0.30940 0.3403  0.1418  ...       0\n",
              "20.60 29.33 140.10 1265.0 0.11780 0.27700 0.35140 0.15200 0.2397 0.07016 0.7260 1.5950 5.772 86.22  0.006522 0.06158 0.07117 0.01664 0.02324 0.006185 25.740 39.42 184.60 1821.0 0.16500 0.86810 0.9387  0.2650  ...       0\n",
              "7.76  24.54 47.92  181.0  0.05263 0.04362 0.00000 0.00000 0.1587 0.05884 0.3857 1.4280 2.548 19.15  0.007189 0.00466 0.00000 0.00000 0.02676 0.002783 9.456  30.37 59.16  268.6  0.08996 0.06444 0.0000  0.0000  ...       1\n",
              "\n",
              "[569 rows x 4 columns]"
            ]
          },
          "metadata": {},
          "execution_count": 42
        }
      ]
    },
    {
      "cell_type": "markdown",
      "metadata": {
        "id": "TgLGII4Vry1z"
      },
      "source": [
        "**Membagi Data jadi Training & Testing**"
      ]
    },
    {
      "cell_type": "code",
      "metadata": {
        "id": "alKD9VUpr456"
      },
      "source": [
        "from sklearn.model_selection import train_test_split\n",
        "train, test = train_test_split(data, test_size=.3, random_state=41)"
      ],
      "execution_count": 43,
      "outputs": []
    },
    {
      "cell_type": "markdown",
      "metadata": {
        "id": "HuRQO0Lcr7p8"
      },
      "source": [
        "**Training Model**"
      ]
    },
    {
      "cell_type": "code",
      "metadata": {
        "id": "L9Qr7bnrsqI-"
      },
      "source": [
        "X_test = test.iloc[:,:-1].values\n",
        "Y_test = test.iloc[:,-1].values\n",
        "Y_pred = naive_bayes_categorical(train, X=X_test, Y=\"benign\")"
      ],
      "execution_count": 44,
      "outputs": []
    },
    {
      "cell_type": "code",
      "metadata": {
        "colab": {
          "base_uri": "https://localhost:8080/"
        },
        "id": "1wnROkvtstRe",
        "outputId": "c478f1cd-3c53-464b-d6b5-68166598aeff"
      },
      "source": [
        "from sklearn.metrics import accuracy_score\n",
        "print(accuracy_score(Y_test, Y_pred))"
      ],
      "execution_count": 45,
      "outputs": [
        {
          "output_type": "stream",
          "name": "stdout",
          "text": [
            "0.36257309941520466\n"
          ]
        }
      ]
    },
    {
      "cell_type": "markdown",
      "metadata": {
        "id": "zeX5AUSjs0ZI"
      },
      "source": [
        "#**Metode Klasifikasi Naive Bayes Data Numerik**"
      ]
    },
    {
      "cell_type": "markdown",
      "metadata": {
        "id": "y14WupFTs4nj"
      },
      "source": [
        "Misal kita memiliki dataset sebagai berikut:"
      ]
    },
    {
      "cell_type": "code",
      "metadata": {
        "colab": {
          "base_uri": "https://localhost:8080/",
          "height": 223
        },
        "id": "yFQXCFrls7OA",
        "outputId": "2b5a236c-336d-4d6e-f9c1-cbaaf215d3f6"
      },
      "source": [
        "data = pd.read_csv('https://raw.githubusercontent.com/scikit-learn/scikit-learn/844b4be24d20fc42cc13b957374c718956a0db39/sklearn/datasets/data/breast_cancer.csv')\n",
        "data.head()"
      ],
      "execution_count": 46,
      "outputs": [
        {
          "output_type": "execute_result",
          "data": {
            "text/html": [
              "<div>\n",
              "<style scoped>\n",
              "    .dataframe tbody tr th:only-of-type {\n",
              "        vertical-align: middle;\n",
              "    }\n",
              "\n",
              "    .dataframe tbody tr th {\n",
              "        vertical-align: top;\n",
              "    }\n",
              "\n",
              "    .dataframe thead th {\n",
              "        text-align: right;\n",
              "    }\n",
              "</style>\n",
              "<table border=\"1\" class=\"dataframe\">\n",
              "  <thead>\n",
              "    <tr style=\"text-align: right;\">\n",
              "      <th></th>\n",
              "      <th></th>\n",
              "      <th></th>\n",
              "      <th></th>\n",
              "      <th></th>\n",
              "      <th></th>\n",
              "      <th></th>\n",
              "      <th></th>\n",
              "      <th></th>\n",
              "      <th></th>\n",
              "      <th></th>\n",
              "      <th></th>\n",
              "      <th></th>\n",
              "      <th></th>\n",
              "      <th></th>\n",
              "      <th></th>\n",
              "      <th></th>\n",
              "      <th></th>\n",
              "      <th></th>\n",
              "      <th></th>\n",
              "      <th></th>\n",
              "      <th></th>\n",
              "      <th></th>\n",
              "      <th></th>\n",
              "      <th></th>\n",
              "      <th></th>\n",
              "      <th></th>\n",
              "      <th>569</th>\n",
              "      <th>30</th>\n",
              "      <th>malignant</th>\n",
              "      <th>benign</th>\n",
              "    </tr>\n",
              "  </thead>\n",
              "  <tbody>\n",
              "    <tr>\n",
              "      <th>17.99</th>\n",
              "      <th>10.38</th>\n",
              "      <th>122.80</th>\n",
              "      <th>1001.0</th>\n",
              "      <th>0.11840</th>\n",
              "      <th>0.27760</th>\n",
              "      <th>0.3001</th>\n",
              "      <th>0.14710</th>\n",
              "      <th>0.2419</th>\n",
              "      <th>0.07871</th>\n",
              "      <th>1.0950</th>\n",
              "      <th>0.9053</th>\n",
              "      <th>8.589</th>\n",
              "      <th>153.40</th>\n",
              "      <th>0.006399</th>\n",
              "      <th>0.04904</th>\n",
              "      <th>0.05373</th>\n",
              "      <th>0.01587</th>\n",
              "      <th>0.03003</th>\n",
              "      <th>0.006193</th>\n",
              "      <th>25.38</th>\n",
              "      <th>17.33</th>\n",
              "      <th>184.60</th>\n",
              "      <th>2019.0</th>\n",
              "      <th>0.1622</th>\n",
              "      <th>0.6656</th>\n",
              "      <th>0.7119</th>\n",
              "      <td>0.2654</td>\n",
              "      <td>0.4601</td>\n",
              "      <td>0.11890</td>\n",
              "      <td>0</td>\n",
              "    </tr>\n",
              "    <tr>\n",
              "      <th>20.57</th>\n",
              "      <th>17.77</th>\n",
              "      <th>132.90</th>\n",
              "      <th>1326.0</th>\n",
              "      <th>0.08474</th>\n",
              "      <th>0.07864</th>\n",
              "      <th>0.0869</th>\n",
              "      <th>0.07017</th>\n",
              "      <th>0.1812</th>\n",
              "      <th>0.05667</th>\n",
              "      <th>0.5435</th>\n",
              "      <th>0.7339</th>\n",
              "      <th>3.398</th>\n",
              "      <th>74.08</th>\n",
              "      <th>0.005225</th>\n",
              "      <th>0.01308</th>\n",
              "      <th>0.01860</th>\n",
              "      <th>0.01340</th>\n",
              "      <th>0.01389</th>\n",
              "      <th>0.003532</th>\n",
              "      <th>24.99</th>\n",
              "      <th>23.41</th>\n",
              "      <th>158.80</th>\n",
              "      <th>1956.0</th>\n",
              "      <th>0.1238</th>\n",
              "      <th>0.1866</th>\n",
              "      <th>0.2416</th>\n",
              "      <td>0.1860</td>\n",
              "      <td>0.2750</td>\n",
              "      <td>0.08902</td>\n",
              "      <td>0</td>\n",
              "    </tr>\n",
              "    <tr>\n",
              "      <th>19.69</th>\n",
              "      <th>21.25</th>\n",
              "      <th>130.00</th>\n",
              "      <th>1203.0</th>\n",
              "      <th>0.10960</th>\n",
              "      <th>0.15990</th>\n",
              "      <th>0.1974</th>\n",
              "      <th>0.12790</th>\n",
              "      <th>0.2069</th>\n",
              "      <th>0.05999</th>\n",
              "      <th>0.7456</th>\n",
              "      <th>0.7869</th>\n",
              "      <th>4.585</th>\n",
              "      <th>94.03</th>\n",
              "      <th>0.006150</th>\n",
              "      <th>0.04006</th>\n",
              "      <th>0.03832</th>\n",
              "      <th>0.02058</th>\n",
              "      <th>0.02250</th>\n",
              "      <th>0.004571</th>\n",
              "      <th>23.57</th>\n",
              "      <th>25.53</th>\n",
              "      <th>152.50</th>\n",
              "      <th>1709.0</th>\n",
              "      <th>0.1444</th>\n",
              "      <th>0.4245</th>\n",
              "      <th>0.4504</th>\n",
              "      <td>0.2430</td>\n",
              "      <td>0.3613</td>\n",
              "      <td>0.08758</td>\n",
              "      <td>0</td>\n",
              "    </tr>\n",
              "    <tr>\n",
              "      <th>11.42</th>\n",
              "      <th>20.38</th>\n",
              "      <th>77.58</th>\n",
              "      <th>386.1</th>\n",
              "      <th>0.14250</th>\n",
              "      <th>0.28390</th>\n",
              "      <th>0.2414</th>\n",
              "      <th>0.10520</th>\n",
              "      <th>0.2597</th>\n",
              "      <th>0.09744</th>\n",
              "      <th>0.4956</th>\n",
              "      <th>1.1560</th>\n",
              "      <th>3.445</th>\n",
              "      <th>27.23</th>\n",
              "      <th>0.009110</th>\n",
              "      <th>0.07458</th>\n",
              "      <th>0.05661</th>\n",
              "      <th>0.01867</th>\n",
              "      <th>0.05963</th>\n",
              "      <th>0.009208</th>\n",
              "      <th>14.91</th>\n",
              "      <th>26.50</th>\n",
              "      <th>98.87</th>\n",
              "      <th>567.7</th>\n",
              "      <th>0.2098</th>\n",
              "      <th>0.8663</th>\n",
              "      <th>0.6869</th>\n",
              "      <td>0.2575</td>\n",
              "      <td>0.6638</td>\n",
              "      <td>0.17300</td>\n",
              "      <td>0</td>\n",
              "    </tr>\n",
              "    <tr>\n",
              "      <th>20.29</th>\n",
              "      <th>14.34</th>\n",
              "      <th>135.10</th>\n",
              "      <th>1297.0</th>\n",
              "      <th>0.10030</th>\n",
              "      <th>0.13280</th>\n",
              "      <th>0.1980</th>\n",
              "      <th>0.10430</th>\n",
              "      <th>0.1809</th>\n",
              "      <th>0.05883</th>\n",
              "      <th>0.7572</th>\n",
              "      <th>0.7813</th>\n",
              "      <th>5.438</th>\n",
              "      <th>94.44</th>\n",
              "      <th>0.011490</th>\n",
              "      <th>0.02461</th>\n",
              "      <th>0.05688</th>\n",
              "      <th>0.01885</th>\n",
              "      <th>0.01756</th>\n",
              "      <th>0.005115</th>\n",
              "      <th>22.54</th>\n",
              "      <th>16.67</th>\n",
              "      <th>152.20</th>\n",
              "      <th>1575.0</th>\n",
              "      <th>0.1374</th>\n",
              "      <th>0.2050</th>\n",
              "      <th>0.4000</th>\n",
              "      <td>0.1625</td>\n",
              "      <td>0.2364</td>\n",
              "      <td>0.07678</td>\n",
              "      <td>0</td>\n",
              "    </tr>\n",
              "  </tbody>\n",
              "</table>\n",
              "</div>"
            ],
            "text/plain": [
              "                                                                                                                                                                                                        569  ...  benign\n",
              "17.99 10.38 122.80 1001.0 0.11840 0.27760 0.3001 0.14710 0.2419 0.07871 1.0950 0.9053 8.589 153.40 0.006399 0.04904 0.05373 0.01587 0.03003 0.006193 25.38 17.33 184.60 2019.0 0.1622 0.6656 0.7119  0.2654  ...       0\n",
              "20.57 17.77 132.90 1326.0 0.08474 0.07864 0.0869 0.07017 0.1812 0.05667 0.5435 0.7339 3.398 74.08  0.005225 0.01308 0.01860 0.01340 0.01389 0.003532 24.99 23.41 158.80 1956.0 0.1238 0.1866 0.2416  0.1860  ...       0\n",
              "19.69 21.25 130.00 1203.0 0.10960 0.15990 0.1974 0.12790 0.2069 0.05999 0.7456 0.7869 4.585 94.03  0.006150 0.04006 0.03832 0.02058 0.02250 0.004571 23.57 25.53 152.50 1709.0 0.1444 0.4245 0.4504  0.2430  ...       0\n",
              "11.42 20.38 77.58  386.1  0.14250 0.28390 0.2414 0.10520 0.2597 0.09744 0.4956 1.1560 3.445 27.23  0.009110 0.07458 0.05661 0.01867 0.05963 0.009208 14.91 26.50 98.87  567.7  0.2098 0.8663 0.6869  0.2575  ...       0\n",
              "20.29 14.34 135.10 1297.0 0.10030 0.13280 0.1980 0.10430 0.1809 0.05883 0.7572 0.7813 5.438 94.44  0.011490 0.02461 0.05688 0.01885 0.01756 0.005115 22.54 16.67 152.20 1575.0 0.1374 0.2050 0.4000  0.1625  ...       0\n",
              "\n",
              "[5 rows x 4 columns]"
            ]
          },
          "metadata": {},
          "execution_count": 46
        }
      ]
    },
    {
      "cell_type": "markdown",
      "metadata": {
        "id": "EwgXLurltBZc"
      },
      "source": [
        "Jika kita akan menghitung data numerik, maka ada dua cara, pertama kita ubah ke data categorical, atau dengan pendekatan model distribusi. Artinya kita melakukan fitting data ke sebuah distribusi standar(misal distribusi normal).\n",
        "\n",
        "$$Equation$$\n",
        "$$p(x)=\\frac{1}{\\sigma \\sqrt{2\\pi}}e^{-\\frac{1}{2}(\\frac{x-\\mu}{\\sigma})^2}$$\n",
        "$$whare\\space \\sigma \\space is\\space the\\space standard\\space deviation\\space and\\space \\mu \\space the\\space mean$$"
      ]
    },
    {
      "cell_type": "markdown",
      "metadata": {
        "id": "n08MRbEUZn58"
      },
      "source": [
        "#**Implementasi Pada Python**"
      ]
    },
    {
      "cell_type": "markdown",
      "metadata": {
        "id": "yrOpryhNbyvH"
      },
      "source": [
        "**Import Library**"
      ]
    },
    {
      "cell_type": "code",
      "metadata": {
        "id": "F8Pg5UvVb236"
      },
      "source": [
        "import pandas as pd\n",
        "import numpy as np"
      ],
      "execution_count": 47,
      "outputs": []
    },
    {
      "cell_type": "markdown",
      "metadata": {
        "id": "6fN6wntxcDFs"
      },
      "source": [
        "**DataFrame Input**"
      ]
    },
    {
      "cell_type": "code",
      "metadata": {
        "colab": {
          "base_uri": "https://localhost:8080/",
          "height": 437
        },
        "id": "2UqmGmh5cNEv",
        "outputId": "503945e5-2ee4-445b-d5dd-f873cd01ebe1"
      },
      "source": [
        "data = pd.read_csv('https://raw.githubusercontent.com/scikit-learn/scikit-learn/844b4be24d20fc42cc13b957374c718956a0db39/sklearn/datasets/data/breast_cancer.csv')\n",
        "data"
      ],
      "execution_count": 48,
      "outputs": [
        {
          "output_type": "execute_result",
          "data": {
            "text/html": [
              "<div>\n",
              "<style scoped>\n",
              "    .dataframe tbody tr th:only-of-type {\n",
              "        vertical-align: middle;\n",
              "    }\n",
              "\n",
              "    .dataframe tbody tr th {\n",
              "        vertical-align: top;\n",
              "    }\n",
              "\n",
              "    .dataframe thead th {\n",
              "        text-align: right;\n",
              "    }\n",
              "</style>\n",
              "<table border=\"1\" class=\"dataframe\">\n",
              "  <thead>\n",
              "    <tr style=\"text-align: right;\">\n",
              "      <th></th>\n",
              "      <th></th>\n",
              "      <th></th>\n",
              "      <th></th>\n",
              "      <th></th>\n",
              "      <th></th>\n",
              "      <th></th>\n",
              "      <th></th>\n",
              "      <th></th>\n",
              "      <th></th>\n",
              "      <th></th>\n",
              "      <th></th>\n",
              "      <th></th>\n",
              "      <th></th>\n",
              "      <th></th>\n",
              "      <th></th>\n",
              "      <th></th>\n",
              "      <th></th>\n",
              "      <th></th>\n",
              "      <th></th>\n",
              "      <th></th>\n",
              "      <th></th>\n",
              "      <th></th>\n",
              "      <th></th>\n",
              "      <th></th>\n",
              "      <th></th>\n",
              "      <th></th>\n",
              "      <th>569</th>\n",
              "      <th>30</th>\n",
              "      <th>malignant</th>\n",
              "      <th>benign</th>\n",
              "    </tr>\n",
              "  </thead>\n",
              "  <tbody>\n",
              "    <tr>\n",
              "      <th>17.99</th>\n",
              "      <th>10.38</th>\n",
              "      <th>122.80</th>\n",
              "      <th>1001.0</th>\n",
              "      <th>0.11840</th>\n",
              "      <th>0.27760</th>\n",
              "      <th>0.30010</th>\n",
              "      <th>0.14710</th>\n",
              "      <th>0.2419</th>\n",
              "      <th>0.07871</th>\n",
              "      <th>1.0950</th>\n",
              "      <th>0.9053</th>\n",
              "      <th>8.589</th>\n",
              "      <th>153.40</th>\n",
              "      <th>0.006399</th>\n",
              "      <th>0.04904</th>\n",
              "      <th>0.05373</th>\n",
              "      <th>0.01587</th>\n",
              "      <th>0.03003</th>\n",
              "      <th>0.006193</th>\n",
              "      <th>25.380</th>\n",
              "      <th>17.33</th>\n",
              "      <th>184.60</th>\n",
              "      <th>2019.0</th>\n",
              "      <th>0.16220</th>\n",
              "      <th>0.66560</th>\n",
              "      <th>0.7119</th>\n",
              "      <td>0.2654</td>\n",
              "      <td>0.4601</td>\n",
              "      <td>0.11890</td>\n",
              "      <td>0</td>\n",
              "    </tr>\n",
              "    <tr>\n",
              "      <th>20.57</th>\n",
              "      <th>17.77</th>\n",
              "      <th>132.90</th>\n",
              "      <th>1326.0</th>\n",
              "      <th>0.08474</th>\n",
              "      <th>0.07864</th>\n",
              "      <th>0.08690</th>\n",
              "      <th>0.07017</th>\n",
              "      <th>0.1812</th>\n",
              "      <th>0.05667</th>\n",
              "      <th>0.5435</th>\n",
              "      <th>0.7339</th>\n",
              "      <th>3.398</th>\n",
              "      <th>74.08</th>\n",
              "      <th>0.005225</th>\n",
              "      <th>0.01308</th>\n",
              "      <th>0.01860</th>\n",
              "      <th>0.01340</th>\n",
              "      <th>0.01389</th>\n",
              "      <th>0.003532</th>\n",
              "      <th>24.990</th>\n",
              "      <th>23.41</th>\n",
              "      <th>158.80</th>\n",
              "      <th>1956.0</th>\n",
              "      <th>0.12380</th>\n",
              "      <th>0.18660</th>\n",
              "      <th>0.2416</th>\n",
              "      <td>0.1860</td>\n",
              "      <td>0.2750</td>\n",
              "      <td>0.08902</td>\n",
              "      <td>0</td>\n",
              "    </tr>\n",
              "    <tr>\n",
              "      <th>19.69</th>\n",
              "      <th>21.25</th>\n",
              "      <th>130.00</th>\n",
              "      <th>1203.0</th>\n",
              "      <th>0.10960</th>\n",
              "      <th>0.15990</th>\n",
              "      <th>0.19740</th>\n",
              "      <th>0.12790</th>\n",
              "      <th>0.2069</th>\n",
              "      <th>0.05999</th>\n",
              "      <th>0.7456</th>\n",
              "      <th>0.7869</th>\n",
              "      <th>4.585</th>\n",
              "      <th>94.03</th>\n",
              "      <th>0.006150</th>\n",
              "      <th>0.04006</th>\n",
              "      <th>0.03832</th>\n",
              "      <th>0.02058</th>\n",
              "      <th>0.02250</th>\n",
              "      <th>0.004571</th>\n",
              "      <th>23.570</th>\n",
              "      <th>25.53</th>\n",
              "      <th>152.50</th>\n",
              "      <th>1709.0</th>\n",
              "      <th>0.14440</th>\n",
              "      <th>0.42450</th>\n",
              "      <th>0.4504</th>\n",
              "      <td>0.2430</td>\n",
              "      <td>0.3613</td>\n",
              "      <td>0.08758</td>\n",
              "      <td>0</td>\n",
              "    </tr>\n",
              "    <tr>\n",
              "      <th>11.42</th>\n",
              "      <th>20.38</th>\n",
              "      <th>77.58</th>\n",
              "      <th>386.1</th>\n",
              "      <th>0.14250</th>\n",
              "      <th>0.28390</th>\n",
              "      <th>0.24140</th>\n",
              "      <th>0.10520</th>\n",
              "      <th>0.2597</th>\n",
              "      <th>0.09744</th>\n",
              "      <th>0.4956</th>\n",
              "      <th>1.1560</th>\n",
              "      <th>3.445</th>\n",
              "      <th>27.23</th>\n",
              "      <th>0.009110</th>\n",
              "      <th>0.07458</th>\n",
              "      <th>0.05661</th>\n",
              "      <th>0.01867</th>\n",
              "      <th>0.05963</th>\n",
              "      <th>0.009208</th>\n",
              "      <th>14.910</th>\n",
              "      <th>26.50</th>\n",
              "      <th>98.87</th>\n",
              "      <th>567.7</th>\n",
              "      <th>0.20980</th>\n",
              "      <th>0.86630</th>\n",
              "      <th>0.6869</th>\n",
              "      <td>0.2575</td>\n",
              "      <td>0.6638</td>\n",
              "      <td>0.17300</td>\n",
              "      <td>0</td>\n",
              "    </tr>\n",
              "    <tr>\n",
              "      <th>20.29</th>\n",
              "      <th>14.34</th>\n",
              "      <th>135.10</th>\n",
              "      <th>1297.0</th>\n",
              "      <th>0.10030</th>\n",
              "      <th>0.13280</th>\n",
              "      <th>0.19800</th>\n",
              "      <th>0.10430</th>\n",
              "      <th>0.1809</th>\n",
              "      <th>0.05883</th>\n",
              "      <th>0.7572</th>\n",
              "      <th>0.7813</th>\n",
              "      <th>5.438</th>\n",
              "      <th>94.44</th>\n",
              "      <th>0.011490</th>\n",
              "      <th>0.02461</th>\n",
              "      <th>0.05688</th>\n",
              "      <th>0.01885</th>\n",
              "      <th>0.01756</th>\n",
              "      <th>0.005115</th>\n",
              "      <th>22.540</th>\n",
              "      <th>16.67</th>\n",
              "      <th>152.20</th>\n",
              "      <th>1575.0</th>\n",
              "      <th>0.13740</th>\n",
              "      <th>0.20500</th>\n",
              "      <th>0.4000</th>\n",
              "      <td>0.1625</td>\n",
              "      <td>0.2364</td>\n",
              "      <td>0.07678</td>\n",
              "      <td>0</td>\n",
              "    </tr>\n",
              "    <tr>\n",
              "      <th>...</th>\n",
              "      <th>...</th>\n",
              "      <th>...</th>\n",
              "      <th>...</th>\n",
              "      <th>...</th>\n",
              "      <th>...</th>\n",
              "      <th>...</th>\n",
              "      <th>...</th>\n",
              "      <th>...</th>\n",
              "      <th>...</th>\n",
              "      <th>...</th>\n",
              "      <th>...</th>\n",
              "      <th>...</th>\n",
              "      <th>...</th>\n",
              "      <th>...</th>\n",
              "      <th>...</th>\n",
              "      <th>...</th>\n",
              "      <th>...</th>\n",
              "      <th>...</th>\n",
              "      <th>...</th>\n",
              "      <th>...</th>\n",
              "      <th>...</th>\n",
              "      <th>...</th>\n",
              "      <th>...</th>\n",
              "      <th>...</th>\n",
              "      <th>...</th>\n",
              "      <th>...</th>\n",
              "      <td>...</td>\n",
              "      <td>...</td>\n",
              "      <td>...</td>\n",
              "      <td>...</td>\n",
              "    </tr>\n",
              "    <tr>\n",
              "      <th>21.56</th>\n",
              "      <th>22.39</th>\n",
              "      <th>142.00</th>\n",
              "      <th>1479.0</th>\n",
              "      <th>0.11100</th>\n",
              "      <th>0.11590</th>\n",
              "      <th>0.24390</th>\n",
              "      <th>0.13890</th>\n",
              "      <th>0.1726</th>\n",
              "      <th>0.05623</th>\n",
              "      <th>1.1760</th>\n",
              "      <th>1.2560</th>\n",
              "      <th>7.673</th>\n",
              "      <th>158.70</th>\n",
              "      <th>0.010300</th>\n",
              "      <th>0.02891</th>\n",
              "      <th>0.05198</th>\n",
              "      <th>0.02454</th>\n",
              "      <th>0.01114</th>\n",
              "      <th>0.004239</th>\n",
              "      <th>25.450</th>\n",
              "      <th>26.40</th>\n",
              "      <th>166.10</th>\n",
              "      <th>2027.0</th>\n",
              "      <th>0.14100</th>\n",
              "      <th>0.21130</th>\n",
              "      <th>0.4107</th>\n",
              "      <td>0.2216</td>\n",
              "      <td>0.2060</td>\n",
              "      <td>0.07115</td>\n",
              "      <td>0</td>\n",
              "    </tr>\n",
              "    <tr>\n",
              "      <th>20.13</th>\n",
              "      <th>28.25</th>\n",
              "      <th>131.20</th>\n",
              "      <th>1261.0</th>\n",
              "      <th>0.09780</th>\n",
              "      <th>0.10340</th>\n",
              "      <th>0.14400</th>\n",
              "      <th>0.09791</th>\n",
              "      <th>0.1752</th>\n",
              "      <th>0.05533</th>\n",
              "      <th>0.7655</th>\n",
              "      <th>2.4630</th>\n",
              "      <th>5.203</th>\n",
              "      <th>99.04</th>\n",
              "      <th>0.005769</th>\n",
              "      <th>0.02423</th>\n",
              "      <th>0.03950</th>\n",
              "      <th>0.01678</th>\n",
              "      <th>0.01898</th>\n",
              "      <th>0.002498</th>\n",
              "      <th>23.690</th>\n",
              "      <th>38.25</th>\n",
              "      <th>155.00</th>\n",
              "      <th>1731.0</th>\n",
              "      <th>0.11660</th>\n",
              "      <th>0.19220</th>\n",
              "      <th>0.3215</th>\n",
              "      <td>0.1628</td>\n",
              "      <td>0.2572</td>\n",
              "      <td>0.06637</td>\n",
              "      <td>0</td>\n",
              "    </tr>\n",
              "    <tr>\n",
              "      <th>16.60</th>\n",
              "      <th>28.08</th>\n",
              "      <th>108.30</th>\n",
              "      <th>858.1</th>\n",
              "      <th>0.08455</th>\n",
              "      <th>0.10230</th>\n",
              "      <th>0.09251</th>\n",
              "      <th>0.05302</th>\n",
              "      <th>0.1590</th>\n",
              "      <th>0.05648</th>\n",
              "      <th>0.4564</th>\n",
              "      <th>1.0750</th>\n",
              "      <th>3.425</th>\n",
              "      <th>48.55</th>\n",
              "      <th>0.005903</th>\n",
              "      <th>0.03731</th>\n",
              "      <th>0.04730</th>\n",
              "      <th>0.01557</th>\n",
              "      <th>0.01318</th>\n",
              "      <th>0.003892</th>\n",
              "      <th>18.980</th>\n",
              "      <th>34.12</th>\n",
              "      <th>126.70</th>\n",
              "      <th>1124.0</th>\n",
              "      <th>0.11390</th>\n",
              "      <th>0.30940</th>\n",
              "      <th>0.3403</th>\n",
              "      <td>0.1418</td>\n",
              "      <td>0.2218</td>\n",
              "      <td>0.07820</td>\n",
              "      <td>0</td>\n",
              "    </tr>\n",
              "    <tr>\n",
              "      <th>20.60</th>\n",
              "      <th>29.33</th>\n",
              "      <th>140.10</th>\n",
              "      <th>1265.0</th>\n",
              "      <th>0.11780</th>\n",
              "      <th>0.27700</th>\n",
              "      <th>0.35140</th>\n",
              "      <th>0.15200</th>\n",
              "      <th>0.2397</th>\n",
              "      <th>0.07016</th>\n",
              "      <th>0.7260</th>\n",
              "      <th>1.5950</th>\n",
              "      <th>5.772</th>\n",
              "      <th>86.22</th>\n",
              "      <th>0.006522</th>\n",
              "      <th>0.06158</th>\n",
              "      <th>0.07117</th>\n",
              "      <th>0.01664</th>\n",
              "      <th>0.02324</th>\n",
              "      <th>0.006185</th>\n",
              "      <th>25.740</th>\n",
              "      <th>39.42</th>\n",
              "      <th>184.60</th>\n",
              "      <th>1821.0</th>\n",
              "      <th>0.16500</th>\n",
              "      <th>0.86810</th>\n",
              "      <th>0.9387</th>\n",
              "      <td>0.2650</td>\n",
              "      <td>0.4087</td>\n",
              "      <td>0.12400</td>\n",
              "      <td>0</td>\n",
              "    </tr>\n",
              "    <tr>\n",
              "      <th>7.76</th>\n",
              "      <th>24.54</th>\n",
              "      <th>47.92</th>\n",
              "      <th>181.0</th>\n",
              "      <th>0.05263</th>\n",
              "      <th>0.04362</th>\n",
              "      <th>0.00000</th>\n",
              "      <th>0.00000</th>\n",
              "      <th>0.1587</th>\n",
              "      <th>0.05884</th>\n",
              "      <th>0.3857</th>\n",
              "      <th>1.4280</th>\n",
              "      <th>2.548</th>\n",
              "      <th>19.15</th>\n",
              "      <th>0.007189</th>\n",
              "      <th>0.00466</th>\n",
              "      <th>0.00000</th>\n",
              "      <th>0.00000</th>\n",
              "      <th>0.02676</th>\n",
              "      <th>0.002783</th>\n",
              "      <th>9.456</th>\n",
              "      <th>30.37</th>\n",
              "      <th>59.16</th>\n",
              "      <th>268.6</th>\n",
              "      <th>0.08996</th>\n",
              "      <th>0.06444</th>\n",
              "      <th>0.0000</th>\n",
              "      <td>0.0000</td>\n",
              "      <td>0.2871</td>\n",
              "      <td>0.07039</td>\n",
              "      <td>1</td>\n",
              "    </tr>\n",
              "  </tbody>\n",
              "</table>\n",
              "<p>569 rows × 4 columns</p>\n",
              "</div>"
            ],
            "text/plain": [
              "                                                                                                                                                                                                            569  ...  benign\n",
              "17.99 10.38 122.80 1001.0 0.11840 0.27760 0.30010 0.14710 0.2419 0.07871 1.0950 0.9053 8.589 153.40 0.006399 0.04904 0.05373 0.01587 0.03003 0.006193 25.380 17.33 184.60 2019.0 0.16220 0.66560 0.7119  0.2654  ...       0\n",
              "20.57 17.77 132.90 1326.0 0.08474 0.07864 0.08690 0.07017 0.1812 0.05667 0.5435 0.7339 3.398 74.08  0.005225 0.01308 0.01860 0.01340 0.01389 0.003532 24.990 23.41 158.80 1956.0 0.12380 0.18660 0.2416  0.1860  ...       0\n",
              "19.69 21.25 130.00 1203.0 0.10960 0.15990 0.19740 0.12790 0.2069 0.05999 0.7456 0.7869 4.585 94.03  0.006150 0.04006 0.03832 0.02058 0.02250 0.004571 23.570 25.53 152.50 1709.0 0.14440 0.42450 0.4504  0.2430  ...       0\n",
              "11.42 20.38 77.58  386.1  0.14250 0.28390 0.24140 0.10520 0.2597 0.09744 0.4956 1.1560 3.445 27.23  0.009110 0.07458 0.05661 0.01867 0.05963 0.009208 14.910 26.50 98.87  567.7  0.20980 0.86630 0.6869  0.2575  ...       0\n",
              "20.29 14.34 135.10 1297.0 0.10030 0.13280 0.19800 0.10430 0.1809 0.05883 0.7572 0.7813 5.438 94.44  0.011490 0.02461 0.05688 0.01885 0.01756 0.005115 22.540 16.67 152.20 1575.0 0.13740 0.20500 0.4000  0.1625  ...       0\n",
              "...                                                                                                                                                                                                         ...  ...     ...\n",
              "21.56 22.39 142.00 1479.0 0.11100 0.11590 0.24390 0.13890 0.1726 0.05623 1.1760 1.2560 7.673 158.70 0.010300 0.02891 0.05198 0.02454 0.01114 0.004239 25.450 26.40 166.10 2027.0 0.14100 0.21130 0.4107  0.2216  ...       0\n",
              "20.13 28.25 131.20 1261.0 0.09780 0.10340 0.14400 0.09791 0.1752 0.05533 0.7655 2.4630 5.203 99.04  0.005769 0.02423 0.03950 0.01678 0.01898 0.002498 23.690 38.25 155.00 1731.0 0.11660 0.19220 0.3215  0.1628  ...       0\n",
              "16.60 28.08 108.30 858.1  0.08455 0.10230 0.09251 0.05302 0.1590 0.05648 0.4564 1.0750 3.425 48.55  0.005903 0.03731 0.04730 0.01557 0.01318 0.003892 18.980 34.12 126.70 1124.0 0.11390 0.30940 0.3403  0.1418  ...       0\n",
              "20.60 29.33 140.10 1265.0 0.11780 0.27700 0.35140 0.15200 0.2397 0.07016 0.7260 1.5950 5.772 86.22  0.006522 0.06158 0.07117 0.01664 0.02324 0.006185 25.740 39.42 184.60 1821.0 0.16500 0.86810 0.9387  0.2650  ...       0\n",
              "7.76  24.54 47.92  181.0  0.05263 0.04362 0.00000 0.00000 0.1587 0.05884 0.3857 1.4280 2.548 19.15  0.007189 0.00466 0.00000 0.00000 0.02676 0.002783 9.456  30.37 59.16  268.6  0.08996 0.06444 0.0000  0.0000  ...       1\n",
              "\n",
              "[569 rows x 4 columns]"
            ]
          },
          "metadata": {},
          "execution_count": 48
        }
      ]
    },
    {
      "cell_type": "markdown",
      "metadata": {
        "id": "1X6yMNp-cQBh"
      },
      "source": [
        "**EDA for Distribution**"
      ]
    },
    {
      "cell_type": "code",
      "metadata": {
        "colab": {
          "base_uri": "https://localhost:8080/",
          "height": 388
        },
        "id": "s6ao3-N2cVfB",
        "outputId": "37e6eeae-b202-44c6-ca57-a1ce36224c27"
      },
      "source": [
        "fig, axes = plt.subplots(1, 3, figsize=(18, 6), sharey=True)\n",
        "sns.histplot(data, ax=axes[0], x=\"569\", kde=True, color='r')\n",
        "sns.histplot(data, ax=axes[1], x=\"30\", kde=True, color='b')\n",
        "sns.histplot(data, ax=axes[2], x=\"malignant\", kde=True)\n",
        "plt.show()"
      ],
      "execution_count": 49,
      "outputs": [
        {
          "output_type": "display_data",
          "data": {
            "image/png": "[encoded data removed]",
            "text/plain": [
              "<Figure size 1296x432 with 3 Axes>"
            ]
          },
          "metadata": {}
        }
      ]
    },
    {
      "cell_type": "markdown",
      "metadata": {
        "id": "r2RkYQy9cXqU"
      },
      "source": [
        "**Naive Bayes untuk Data Numerik**"
      ]
    },
    {
      "cell_type": "code",
      "metadata": {
        "id": "SOTPLxEoczIR"
      },
      "source": [
        "def prob_prior(df, Y):\n",
        "  label_kelas = sorted(list(df[Y].unique()))\n",
        "  prior = []\n",
        "  for i in label_kelas:\n",
        "    prior.append(len(df[df[Y]==i])/len(df))\n",
        "  return prior"
      ],
      "execution_count": 50,
      "outputs": []
    },
    {
      "cell_type": "code",
      "metadata": {
        "id": "cxMKMSaoc7JI"
      },
      "source": [
        "def likelihood_gaussian(df, nama_var, nilai_var, Y, label):\n",
        "  feat = list(df.columns)\n",
        "  df = df[df[Y]==label]\n",
        "  mean, std = df[nama_var].mean(), df[nama_var].std()\n",
        "  p_x_dgsyrt_y = (1 / (np.sqrt(2 * np.pi) * std)) * np.exp(-((nilai_var-mean)**2 / (2 * std**2)))\n",
        "  return p_x_given_y"
      ],
      "execution_count": 51,
      "outputs": []
    },
    {
      "cell_type": "code",
      "metadata": {
        "id": "vravfVnkdO8A"
      },
      "source": [
        "def naive_bayes_gaussian(df, X, Y):\n",
        "  # mengambil nama kolom\n",
        "  nama_kolom = list(df.columns)[:-1]\n",
        "  # menghitung prob prior\n",
        "  prior = prob_prior(df, Y)\n",
        "  Y_pred = []\n",
        "  # lopping pada setiap baris data\n",
        "  for x in X:\n",
        "    # menghitung likelihood\n",
        "    labels = sorted(list(df[Y].unique()))\n",
        "    likelihood = [1]*len(labels)\n",
        "    for j in range(len(labels)):\n",
        "      for i in range(len(nama_kolom)):\n",
        "        likelihood[j] *= likelihood_gaussian(df, nama_kolom[i], x[i], Y, labels[j])\n",
        "    # menghitung posterior probability\n",
        "    post_prob = [1]*len(labels)\n",
        "    for j in range(len(labels)):\n",
        "      post_prob[j] = likelihood[j] * prior[j]\n",
        "      Y_pred.append(np.argmax(post_prob))\n",
        "  return np.array(Y_pred)"
      ],
      "execution_count": 52,
      "outputs": []
    },
    {
      "cell_type": "code",
      "metadata": {
        "id": "CTvJ7Z4Qd09x"
      },
      "source": [
        "train, test = train_test_split(data, test_size=.3, random_state=41)\n",
        "X_test = test.iloc[:,:-1].values\n",
        "Y_test = test.iloc[:,-1].values\n",
        "Y_pred = naive_bayes_categorical(train, X=X_test, Y=\"benign\")"
      ],
      "execution_count": 53,
      "outputs": []
    },
    {
      "cell_type": "code",
      "metadata": {
        "colab": {
          "base_uri": "https://localhost:8080/"
        },
        "id": "D92MXHiRd_xT",
        "outputId": "320e61d3-37cb-4725-e60d-99d45a899ed7"
      },
      "source": [
        "print(accuracy_score(Y_test, Y_pred))"
      ],
      "execution_count": 54,
      "outputs": [
        {
          "output_type": "stream",
          "name": "stdout",
          "text": [
            "0.36257309941520466\n"
          ]
        }
      ]
    }
  ]
}