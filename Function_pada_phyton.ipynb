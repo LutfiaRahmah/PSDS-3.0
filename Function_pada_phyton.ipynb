{
  "nbformat": 4,
  "nbformat_minor": 0,
  "metadata": {
    "colab": {
      "name": "Function pada phyton.ipynb",
      "provenance": [],
      "collapsed_sections": []
    },
    "kernelspec": {
      "name": "python3",
      "display_name": "Python 3"
    },
    "language_info": {
      "name": "python"
    }
  },
  "cells": [
    {
      "cell_type": "markdown",
      "metadata": {
        "id": "x0JI6UUXJiIT"
      },
      "source": [
        "#**Pembuka**\n",
        "\n",
        "Assalamu'alaikum warahmatullahi wabarakatuh. Puji syukur kehadirat Allah Subhana Wata'ala atas limpahan Rahmat dan HidayahNya kepada kita semua. Sholawat serta salam senantiasa tercurah limpahkan kepada baginda Muhammad Rasulullah Salallahualaihiwassalam.\n",
        "\n",
        "Halo para **Pejuang Data**. Selamat berjumpa di pertemuan pertama Program Training **Algoritma Machine Learning** Kelas Mahir.\n",
        "\n",
        "Pada pertemuan ini kamu akan belajar:\n",
        "\n",
        "*   Fungsi Pada Python\n",
        "*   Keyword & Argument\n",
        "*   Membuat Fungsi Pada Python\n",
        "*   Positional Argument & Keyword\n",
        "*   Argument Default\n",
        "*   Contoh User Defined Function\n",
        "*   Latihan"
      ]
    },
    {
      "cell_type": "markdown",
      "metadata": {
        "id": "ZX-V6kC2KqX7"
      },
      "source": [
        "#**Function**"
      ]
    },
    {
      "cell_type": "markdown",
      "metadata": {
        "id": "J6D9R3WrKwVN"
      },
      "source": [
        "Function adalah sebuah blok statemen yang akan dijalankan saat ia dipanggil.!"
      ]
    },
    {
      "cell_type": "code",
      "metadata": {
        "colab": {
          "base_uri": "https://localhost:8080/"
        },
        "id": "_lb3hccpJeHo",
        "outputId": "50cd26a3-75db-4fdc-9948-81c181f276a6"
      },
      "source": [
        "genap = [2, 4, 6, 8, 10]\n",
        "\n",
        "len(genap)"
      ],
      "execution_count": null,
      "outputs": [
        {
          "output_type": "execute_result",
          "data": {
            "text/plain": [
              "5"
            ]
          },
          "metadata": {},
          "execution_count": 1
        }
      ]
    },
    {
      "cell_type": "code",
      "metadata": {
        "colab": {
          "base_uri": "https://localhost:8080/"
        },
        "id": "ckZVMwHcLDZY",
        "outputId": "11c45f40-ed1a-4918-d427-2cce49ede264"
      },
      "source": [
        "print('Assalamualaikum Dunia')"
      ],
      "execution_count": null,
      "outputs": [
        {
          "output_type": "stream",
          "name": "stdout",
          "text": [
            "Assalamualaikum Dunia\n"
          ]
        }
      ]
    },
    {
      "cell_type": "markdown",
      "metadata": {
        "id": "Kkn4HtPjLKw8"
      },
      "source": [
        "#**Keyword & Argument!**"
      ]
    },
    {
      "cell_type": "markdown",
      "metadata": {
        "id": "FyMk3wbtLSJj"
      },
      "source": [
        "**Keyword/Parameter** : variabel yang digunakan dalam deklarasi fungsi.\n",
        "\n",
        "**Argument** : nilai yang diberikan saat pemanggilan fungsi."
      ]
    },
    {
      "cell_type": "code",
      "metadata": {
        "colab": {
          "base_uri": "https://localhost:8080/"
        },
        "id": "pkcbi7aZLp_4",
        "outputId": "bf838a41-5ea7-47d1-da53-5abb43725747"
      },
      "source": [
        "#sep = keyword/argument\n",
        "#'-' = argument\n",
        "\n",
        "print('kata1', 'kata2', sep='/')"
      ],
      "execution_count": null,
      "outputs": [
        {
          "output_type": "stream",
          "name": "stdout",
          "text": [
            "kata1/kata2\n"
          ]
        }
      ]
    },
    {
      "cell_type": "markdown",
      "metadata": {
        "id": "Tz2lcz7UL6O_"
      },
      "source": [
        "#**Membuat Fungsi**"
      ]
    },
    {
      "cell_type": "markdown",
      "metadata": {
        "id": "E-qg3ayML_Vv"
      },
      "source": [
        "Python mengizinkan untuk mendeklarasikan fungsi dalam kode yang dituliskan yang dikenal dengan **user defined function**."
      ]
    },
    {
      "cell_type": "markdown",
      "metadata": {
        "id": "E0EHzOqfMunF"
      },
      "source": [
        "    def nama_fungsi(argument):\n",
        "\n",
        "    pernyataan_1\n",
        "\n",
        "    ...\n",
        "\n",
        "    pernyataan_2\n",
        "\n",
        "    return nilai_keluaran"
      ]
    },
    {
      "cell_type": "code",
      "metadata": {
        "id": "O1-G___IMPS4"
      },
      "source": [
        "#Pendefinisian fungsi_kuadrat\n",
        "def fungsi_kuadrat(x):\n",
        "  hasil = x**2\n",
        "  return hasil"
      ],
      "execution_count": null,
      "outputs": []
    },
    {
      "cell_type": "code",
      "metadata": {
        "id": "QFJeI1hRNSdT"
      },
      "source": [
        "#Alternatif pendefinisian fungsi_kuadrat\n",
        "def fungsi_kuadrat(x):\n",
        "  return x**2"
      ],
      "execution_count": null,
      "outputs": []
    },
    {
      "cell_type": "code",
      "metadata": {
        "colab": {
          "base_uri": "https://localhost:8080/"
        },
        "id": "uX9eQUY5NeIE",
        "outputId": "b1dc1050-b548-4ca5-93ba-f4de02b7c763"
      },
      "source": [
        "#Pemanggilan fungsi_kuadrat\n",
        "fungsi_kuadrat(6)"
      ],
      "execution_count": null,
      "outputs": [
        {
          "output_type": "execute_result",
          "data": {
            "text/plain": [
              "25"
            ]
          },
          "metadata": {},
          "execution_count": 6
        }
      ]
    },
    {
      "cell_type": "markdown",
      "metadata": {
        "id": "7pwjGYmtNrvB"
      },
      "source": [
        "#**Positional Argument & Keyword**"
      ]
    },
    {
      "cell_type": "markdown",
      "metadata": {
        "id": "CkwGvzAVNxFb"
      },
      "source": [
        "Kita bisa menyatakan argumen sebagai positional argument atau keyword. Beberapa manfaat argumen kata kunci dapat berupa:\n",
        "\n",
        "*   Kita dapat menyebut argumen dengan nama mereka untuk memperjelas apa yang mereka wakili\n",
        "*   Kita dapat mengatur ulang argumen dengan cara yang membuatnya paling mudah dibaca\n"
      ]
    },
    {
      "cell_type": "code",
      "metadata": {
        "id": "C-MoovOBOCnY"
      },
      "source": [
        "#Mendefinisikan fungsi dengan beberapa argumen\n",
        "def tampilkan_kata(a, b, c):\n",
        "  print(a, b, c)"
      ],
      "execution_count": null,
      "outputs": []
    },
    {
      "cell_type": "code",
      "metadata": {
        "colab": {
          "base_uri": "https://localhost:8080/"
        },
        "id": "sQxrmgaoOPdY",
        "outputId": "13225c3c-2486-4cac-bbe3-760fe562869c"
      },
      "source": [
        "#Positional Arguments\n",
        "tampilkan_kata('aku', 'kau', 'dia')"
      ],
      "execution_count": null,
      "outputs": [
        {
          "output_type": "stream",
          "name": "stdout",
          "text": [
            "aku kau dia\n"
          ]
        }
      ]
    },
    {
      "cell_type": "code",
      "metadata": {
        "colab": {
          "base_uri": "https://localhost:8080/"
        },
        "id": "6b7iY9T9OY-X",
        "outputId": "3c7c6b35-f989-4a4e-8964-0547a02993aa"
      },
      "source": [
        "tampilkan_kata('kau', 'aku', 'dia')"
      ],
      "execution_count": null,
      "outputs": [
        {
          "output_type": "stream",
          "name": "stdout",
          "text": [
            "kau aku dia\n"
          ]
        }
      ]
    },
    {
      "cell_type": "code",
      "metadata": {
        "colab": {
          "base_uri": "https://localhost:8080/"
        },
        "id": "-iArVBMGOl6P",
        "outputId": "65e3ea7d-7360-4802-9bbf-3f29f5b0aad6"
      },
      "source": [
        "#Argumen berdasarkan keyword-nya\n",
        "tampilkan_kata(a='aku', b='kau', c='dia')\n",
        "tampilkan_kata(c='dia', b='kau', a='aku')"
      ],
      "execution_count": null,
      "outputs": [
        {
          "output_type": "stream",
          "name": "stdout",
          "text": [
            "aku kau dia\n",
            "aku kau dia\n"
          ]
        }
      ]
    },
    {
      "cell_type": "markdown",
      "metadata": {
        "id": "pZjLYFTyO4kk"
      },
      "source": [
        "Catatan: jika sudah diberi kunci maka urutan tidak menjadi penting"
      ]
    },
    {
      "cell_type": "code",
      "metadata": {
        "colab": {
          "base_uri": "https://localhost:8080/"
        },
        "id": "syb2FLPTO-9h",
        "outputId": "d18536de-04ff-415d-e5a8-13492b672aae"
      },
      "source": [
        "#Campuran antara argumen posisi dan argumen kata kunci\n",
        "tampilkan_kata('aku', b='kau', c='dia')"
      ],
      "execution_count": null,
      "outputs": [
        {
          "output_type": "stream",
          "name": "stdout",
          "text": [
            "aku kau dia\n"
          ]
        }
      ]
    },
    {
      "cell_type": "markdown",
      "metadata": {
        "id": "KdPpH_XzPPAt"
      },
      "source": [
        "**Ini tidak diijinkan:**\n",
        "\n",
        "*   Positional argument setelah keyword argument\n",
        "    \n",
        "    tampilkan_kata('aku', b='kau', 'dia')\n",
        "\n",
        "*   Terdapat dua nilai untuk satu keyword argument yang sama\n",
        "\n",
        "    tampilkan_kata(1, b=2, a=3)"
      ]
    },
    {
      "cell_type": "markdown",
      "metadata": {
        "id": "PIzh1XX4Pw6n"
      },
      "source": [
        "#**Argument Default**"
      ]
    },
    {
      "cell_type": "markdown",
      "metadata": {
        "id": "QDW72m9CP8P5"
      },
      "source": [
        "Fungsi dapat memiliki argumen default dengan nilai yang telah ditentukan sebelumnya. Argumen ini dapat ditinggalkan dan nilai default kemudian diteruskan ke fungsi, atau argumen dapat diubah dengan nilai yang berbeda. Perhatikan bahwa argumen default harus ditentukan sebagai **parameter terakhir** dalam suatu fungsi."
      ]
    },
    {
      "cell_type": "code",
      "metadata": {
        "colab": {
          "base_uri": "https://localhost:8080/"
        },
        "id": "Rx7K8TNGQMlr",
        "outputId": "2293b61e-2383-475f-95e9-1c4e1537d466"
      },
      "source": [
        "#Argumen default\n",
        "def tampilkan_kata(a, b, c, d = 'sahabat'):\n",
        "  print(a, b, c, d)\n",
        "\n",
        "tampilkan_kata('aku', 'kau', 'dia')\n",
        "tampilkan_kata('aku', b='kau', c='dia', d='team')"
      ],
      "execution_count": null,
      "outputs": [
        {
          "output_type": "stream",
          "name": "stdout",
          "text": [
            "aku kau dia sahabat\n",
            "aku kau dia team\n"
          ]
        }
      ]
    },
    {
      "cell_type": "markdown",
      "metadata": {
        "id": "Q12BXKTsQswn"
      },
      "source": [
        "Catatan: Argumen default harus diletakkan terakhir"
      ]
    },
    {
      "cell_type": "markdown",
      "metadata": {
        "id": "QjtrPmGAQwlx"
      },
      "source": [
        "#**Contoh User Defined Function**"
      ]
    },
    {
      "cell_type": "markdown",
      "metadata": {
        "id": "kqb6l_LGQ1eB"
      },
      "source": [
        "##**Contoh 1:**"
      ]
    },
    {
      "cell_type": "markdown",
      "metadata": {
        "id": "xhsW2qOcQ7kt"
      },
      "source": [
        "Penjumlahan 2 bilangan"
      ]
    },
    {
      "cell_type": "code",
      "metadata": {
        "colab": {
          "base_uri": "https://localhost:8080/"
        },
        "id": "1CWYR5EYQ_G5",
        "outputId": "afb5987c-33c0-4dca-c63c-15b68269ed67"
      },
      "source": [
        "def penjumlahan(x, y):  #input\n",
        "  a = x+y               #proses\n",
        "  return a              #output\n",
        "\n",
        "penjumlahan(1, 2)       #pemanggilan fungsi"
      ],
      "execution_count": null,
      "outputs": [
        {
          "output_type": "execute_result",
          "data": {
            "text/plain": [
              "3"
            ]
          },
          "metadata": {},
          "execution_count": 14
        }
      ]
    },
    {
      "cell_type": "markdown",
      "metadata": {
        "id": "8Sr6q06RRW2B"
      },
      "source": [
        "##**Contoh 2:**"
      ]
    },
    {
      "cell_type": "markdown",
      "metadata": {
        "id": "DOLLnU3-RaNh"
      },
      "source": [
        "Penjumlahan yang memungkinkan untuk tiga bilangan"
      ]
    },
    {
      "cell_type": "code",
      "metadata": {
        "colab": {
          "base_uri": "https://localhost:8080/"
        },
        "id": "dmVTToJ1RfkW",
        "outputId": "e12330e6-ecf8-4e9a-be60-8e8b548e9541"
      },
      "source": [
        "def penjumlahan(x, y, z = None):\n",
        "  if (z==None):\n",
        "    return x+y\n",
        "  else:\n",
        "    return x+y+z\n",
        "\n",
        "print(penjumlahan(1, 2))\n",
        "print(penjumlahan(1, 2, 3))"
      ],
      "execution_count": null,
      "outputs": [
        {
          "output_type": "stream",
          "name": "stdout",
          "text": [
            "3\n",
            "6\n"
          ]
        }
      ]
    },
    {
      "cell_type": "markdown",
      "metadata": {
        "id": "rX_9XDilR565"
      },
      "source": [
        "##**Contoh 3:**"
      ]
    },
    {
      "cell_type": "markdown",
      "metadata": {
        "id": "uL5fHB-PR8aJ"
      },
      "source": [
        "Menghitung luas dan keliling persegi"
      ]
    },
    {
      "cell_type": "code",
      "metadata": {
        "colab": {
          "base_uri": "https://localhost:8080/"
        },
        "id": "Hwztt7UvR_PF",
        "outputId": "a2573f09-2401-4be4-b420-25aaa73529c9"
      },
      "source": [
        "def luas_dan_keliling_persegi(s):\n",
        "  luas = s**2\n",
        "  keliling = 4*s\n",
        "  return luas, keliling\n",
        "\n",
        "luas, keliling = luas_dan_keliling_persegi(2)\n",
        "print('luas:', luas)\n",
        "print('keliling:', keliling)"
      ],
      "execution_count": null,
      "outputs": [
        {
          "output_type": "stream",
          "name": "stdout",
          "text": [
            "luas: 4\n",
            "keliling 8\n"
          ]
        }
      ]
    },
    {
      "cell_type": "markdown",
      "metadata": {
        "id": "BN9EqQbbSbdV"
      },
      "source": [
        "#**Latihan**"
      ]
    },
    {
      "cell_type": "markdown",
      "metadata": {
        "id": "BNh_NsSwSfNT"
      },
      "source": [
        "## 1. Buatlah sebuah fungsi untuk menghitung luas dan keliling lingkaran dengan input jari-jari!"
      ]
    },
    {
      "cell_type": "code",
      "metadata": {
        "colab": {
          "base_uri": "https://localhost:8080/"
        },
        "id": "dd8dan_zSagI",
        "outputId": "76fdd9c0-f914-46cc-be38-eee03340a596"
      },
      "source": [
        "def luas_dan_keliling_lingkaran(r):\n",
        "  phi = 22/7\n",
        "  luas = phi*(r**2)\n",
        "  keliling = phi*2*r\n",
        "  return luas, keliling\n",
        "\n",
        "luas, keliling = luas_dan_keliling_lingkaran(100)\n",
        "print(luas, 'ini adalah luas lingkaran')\n",
        "print(keliling, 'ini adalah keliling lingkaran')"
      ],
      "execution_count": null,
      "outputs": [
        {
          "output_type": "stream",
          "name": "stdout",
          "text": [
            "31428.571428571428 ini adalah luas lingkaran\n",
            "628.5714285714286 ini adalah keliling lingkaran\n"
          ]
        }
      ]
    },
    {
      "cell_type": "markdown",
      "metadata": {
        "id": "0OIaW43cURI3"
      },
      "source": [
        "## 2. Buatlah sebuah fungsi untuk menggabungkan dua kata dalam bentuk string bebas menjadi satu kata tanpa spasi dengan huruf kecil\n",
        "\n",
        "    Contoh:\n",
        "    \n",
        "      gabung_kata('TANGKUBAN', 'PeRaHu')\n",
        "    \n",
        "    Output:\n",
        "\n",
        "    ```python 'tangkubanperahu'"
      ]
    },
    {
      "cell_type": "code",
      "metadata": {
        "colab": {
          "base_uri": "https://localhost:8080/"
        },
        "id": "ppkM9NL6VBbE",
        "outputId": "4199aa00-2d96-455f-9514-94cbc59ef129"
      },
      "source": [
        "def gabung_kata(a, b):\n",
        "  print((a+b).lower())\n",
        "\n",
        "gabung_kata('TANGKUBAN', 'PeRaHu')"
      ],
      "execution_count": null,
      "outputs": [
        {
          "output_type": "stream",
          "name": "stdout",
          "text": [
            "tangkubanperahu\n"
          ]
        }
      ]
    },
    {
      "cell_type": "markdown",
      "metadata": {
        "id": "ET7rHGCwaY_X"
      },
      "source": [
        "## 3. Buatlah sebuah fungsi awal_akhir(list_input) untuk menukar elemen pertama pada sebuah list dengan elemen terakhir pada list yang sama!"
      ]
    },
    {
      "cell_type": "markdown",
      "metadata": {
        "id": "Mvw9OxSTak7E"
      },
      "source": [
        "    Contoh:\n",
        "\n",
        "        awal_akhir([1, 2, 3, 4])\n",
        "\n",
        "    Output:\n",
        "    ```python[4, 2, 3, 1]"
      ]
    },
    {
      "cell_type": "code",
      "metadata": {
        "id": "gmp2kAaYa-TM",
        "colab": {
          "base_uri": "https://localhost:8080/"
        },
        "outputId": "c1a099be-85e8-40d3-8b77-b54b058185b0"
      },
      "source": [
        "def awal_akhir(list_input):\n",
        "  a, *b, c = list_input\n",
        "  list_input = [c, *b, a]\n",
        "  return list_input\n",
        "\n",
        "awal_akhir([5, 2, 4, 10])"
      ],
      "execution_count": 54,
      "outputs": [
        {
          "output_type": "execute_result",
          "data": {
            "text/plain": [
              "[10, 2, 4, 5]"
            ]
          },
          "metadata": {},
          "execution_count": 54
        }
      ]
    }
  ]
}